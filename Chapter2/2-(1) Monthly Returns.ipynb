{
 "cells": [
  {
   "cell_type": "markdown",
   "id": "cbfbf794-695a-45f1-8a73-03018c394b91",
   "metadata": {},
   "source": [
    "# 2-(1) : Monthly IBM stock, VW index, EW index, and S&P index returns"
   ]
  },
  {
   "cell_type": "markdown",
   "id": "5ce176f8-009f-4071-b9f2-b5a099929103",
   "metadata": {},
   "source": [
    "file : [m-ibm3dx2608.txt](https://faculty.chicagobooth.edu/-/media/faculty/ruey-s-tsay/teaching/fts3/m-ibm3dx2608.txt)\n",
    "\n",
    "Page 35, 50, 51 Examples"
   ]
  },
  {
   "cell_type": "markdown",
   "id": "7678a1eb-5349-4b2b-90c6-abf50bfda586",
   "metadata": {},
   "source": [
    "## 2-(1)-1. Page 35 Example"
   ]
  },
  {
   "cell_type": "markdown",
   "id": "5470cb1e-f308-416b-930c-78d74f7ed8b4",
   "metadata": {},
   "source": [
    "### Load data\n",
    "open the data file 'm-ibm3dx2608.txt' as data"
   ]
  },
  {
   "cell_type": "code",
   "execution_count": 1,
   "id": "05e53929-c695-484b-8a52-3c71a34b66b2",
   "metadata": {},
   "outputs": [],
   "source": [
    "import pandas as pd\n",
    "from scipy.stats import boxcox\n",
    "import numpy as np\n",
    "\n",
    "data = pd.read_csv('m-ibm3dx2608.txt',delim_whitespace=True,index_col = 0)"
   ]
  },
  {
   "cell_type": "code",
   "execution_count": 2,
   "id": "7fae0131-283e-42bb-a150-d47bc9a25ab2",
   "metadata": {
    "tags": []
   },
   "outputs": [
    {
     "data": {
      "text/html": [
       "<div>\n",
       "<style scoped>\n",
       "    .dataframe tbody tr th:only-of-type {\n",
       "        vertical-align: middle;\n",
       "    }\n",
       "\n",
       "    .dataframe tbody tr th {\n",
       "        vertical-align: top;\n",
       "    }\n",
       "\n",
       "    .dataframe thead th {\n",
       "        text-align: right;\n",
       "    }\n",
       "</style>\n",
       "<table border=\"1\" class=\"dataframe\">\n",
       "  <thead>\n",
       "    <tr style=\"text-align: right;\">\n",
       "      <th></th>\n",
       "      <th>ibmrtn</th>\n",
       "      <th>vwrtn</th>\n",
       "      <th>ewrtn</th>\n",
       "      <th>sprtn</th>\n",
       "    </tr>\n",
       "    <tr>\n",
       "      <th>date</th>\n",
       "      <th></th>\n",
       "      <th></th>\n",
       "      <th></th>\n",
       "      <th></th>\n",
       "    </tr>\n",
       "  </thead>\n",
       "  <tbody>\n",
       "    <tr>\n",
       "      <th>19260130</th>\n",
       "      <td>-0.010381</td>\n",
       "      <td>0.000724</td>\n",
       "      <td>0.023174</td>\n",
       "      <td>0.022472</td>\n",
       "    </tr>\n",
       "    <tr>\n",
       "      <th>19260227</th>\n",
       "      <td>-0.024476</td>\n",
       "      <td>-0.033374</td>\n",
       "      <td>-0.053510</td>\n",
       "      <td>-0.043956</td>\n",
       "    </tr>\n",
       "    <tr>\n",
       "      <th>19260331</th>\n",
       "      <td>-0.115591</td>\n",
       "      <td>-0.064341</td>\n",
       "      <td>-0.096824</td>\n",
       "      <td>-0.059113</td>\n",
       "    </tr>\n",
       "    <tr>\n",
       "      <th>19260430</th>\n",
       "      <td>0.089783</td>\n",
       "      <td>0.038358</td>\n",
       "      <td>0.032946</td>\n",
       "      <td>0.022688</td>\n",
       "    </tr>\n",
       "    <tr>\n",
       "      <th>19260528</th>\n",
       "      <td>0.036932</td>\n",
       "      <td>0.012172</td>\n",
       "      <td>0.001035</td>\n",
       "      <td>0.007679</td>\n",
       "    </tr>\n",
       "    <tr>\n",
       "      <th>...</th>\n",
       "      <td>...</td>\n",
       "      <td>...</td>\n",
       "      <td>...</td>\n",
       "      <td>...</td>\n",
       "    </tr>\n",
       "    <tr>\n",
       "      <th>20080829</th>\n",
       "      <td>-0.044929</td>\n",
       "      <td>0.011042</td>\n",
       "      <td>0.014066</td>\n",
       "      <td>0.012191</td>\n",
       "    </tr>\n",
       "    <tr>\n",
       "      <th>20080930</th>\n",
       "      <td>-0.039185</td>\n",
       "      <td>-0.098060</td>\n",
       "      <td>-0.120888</td>\n",
       "      <td>-0.090791</td>\n",
       "    </tr>\n",
       "    <tr>\n",
       "      <th>20081031</th>\n",
       "      <td>-0.205113</td>\n",
       "      <td>-0.184726</td>\n",
       "      <td>-0.206004</td>\n",
       "      <td>-0.169425</td>\n",
       "    </tr>\n",
       "    <tr>\n",
       "      <th>20081128</th>\n",
       "      <td>-0.116919</td>\n",
       "      <td>-0.085206</td>\n",
       "      <td>-0.136597</td>\n",
       "      <td>-0.074849</td>\n",
       "    </tr>\n",
       "    <tr>\n",
       "      <th>20081231</th>\n",
       "      <td>0.031373</td>\n",
       "      <td>0.021482</td>\n",
       "      <td>0.043083</td>\n",
       "      <td>0.007822</td>\n",
       "    </tr>\n",
       "  </tbody>\n",
       "</table>\n",
       "<p>996 rows × 4 columns</p>\n",
       "</div>"
      ],
      "text/plain": [
       "            ibmrtn     vwrtn     ewrtn     sprtn\n",
       "date                                            \n",
       "19260130 -0.010381  0.000724  0.023174  0.022472\n",
       "19260227 -0.024476 -0.033374 -0.053510 -0.043956\n",
       "19260331 -0.115591 -0.064341 -0.096824 -0.059113\n",
       "19260430  0.089783  0.038358  0.032946  0.022688\n",
       "19260528  0.036932  0.012172  0.001035  0.007679\n",
       "...            ...       ...       ...       ...\n",
       "20080829 -0.044929  0.011042  0.014066  0.012191\n",
       "20080930 -0.039185 -0.098060 -0.120888 -0.090791\n",
       "20081031 -0.205113 -0.184726 -0.206004 -0.169425\n",
       "20081128 -0.116919 -0.085206 -0.136597 -0.074849\n",
       "20081231  0.031373  0.021482  0.043083  0.007822\n",
       "\n",
       "[996 rows x 4 columns]"
      ]
     },
     "execution_count": 2,
     "metadata": {},
     "output_type": "execute_result"
    }
   ],
   "source": [
    "data"
   ]
  },
  {
   "cell_type": "markdown",
   "id": "bef14085-3231-49fd-90c0-5b6f6e143186",
   "metadata": {},
   "source": [
    "### Get the IBM simple returns"
   ]
  },
  {
   "cell_type": "code",
   "execution_count": 3,
   "id": "38383b57-f6f7-4150-81a8-7b9b402588d0",
   "metadata": {
    "tags": []
   },
   "outputs": [
    {
     "data": {
      "text/html": [
       "<div>\n",
       "<style scoped>\n",
       "    .dataframe tbody tr th:only-of-type {\n",
       "        vertical-align: middle;\n",
       "    }\n",
       "\n",
       "    .dataframe tbody tr th {\n",
       "        vertical-align: top;\n",
       "    }\n",
       "\n",
       "    .dataframe thead th {\n",
       "        text-align: right;\n",
       "    }\n",
       "</style>\n",
       "<table border=\"1\" class=\"dataframe\">\n",
       "  <thead>\n",
       "    <tr style=\"text-align: right;\">\n",
       "      <th></th>\n",
       "      <th>ibmrtn</th>\n",
       "    </tr>\n",
       "    <tr>\n",
       "      <th>date</th>\n",
       "      <th></th>\n",
       "    </tr>\n",
       "  </thead>\n",
       "  <tbody>\n",
       "    <tr>\n",
       "      <th>19260130</th>\n",
       "      <td>-0.010381</td>\n",
       "    </tr>\n",
       "    <tr>\n",
       "      <th>19260227</th>\n",
       "      <td>-0.024476</td>\n",
       "    </tr>\n",
       "    <tr>\n",
       "      <th>19260331</th>\n",
       "      <td>-0.115591</td>\n",
       "    </tr>\n",
       "    <tr>\n",
       "      <th>19260430</th>\n",
       "      <td>0.089783</td>\n",
       "    </tr>\n",
       "    <tr>\n",
       "      <th>19260528</th>\n",
       "      <td>0.036932</td>\n",
       "    </tr>\n",
       "    <tr>\n",
       "      <th>...</th>\n",
       "      <td>...</td>\n",
       "    </tr>\n",
       "    <tr>\n",
       "      <th>20080829</th>\n",
       "      <td>-0.044929</td>\n",
       "    </tr>\n",
       "    <tr>\n",
       "      <th>20080930</th>\n",
       "      <td>-0.039185</td>\n",
       "    </tr>\n",
       "    <tr>\n",
       "      <th>20081031</th>\n",
       "      <td>-0.205113</td>\n",
       "    </tr>\n",
       "    <tr>\n",
       "      <th>20081128</th>\n",
       "      <td>-0.116919</td>\n",
       "    </tr>\n",
       "    <tr>\n",
       "      <th>20081231</th>\n",
       "      <td>0.031373</td>\n",
       "    </tr>\n",
       "  </tbody>\n",
       "</table>\n",
       "<p>996 rows × 1 columns</p>\n",
       "</div>"
      ],
      "text/plain": [
       "            ibmrtn\n",
       "date              \n",
       "19260130 -0.010381\n",
       "19260227 -0.024476\n",
       "19260331 -0.115591\n",
       "19260430  0.089783\n",
       "19260528  0.036932\n",
       "...            ...\n",
       "20080829 -0.044929\n",
       "20080930 -0.039185\n",
       "20081031 -0.205113\n",
       "20081128 -0.116919\n",
       "20081231  0.031373\n",
       "\n",
       "[996 rows x 1 columns]"
      ]
     },
     "execution_count": 3,
     "metadata": {},
     "output_type": "execute_result"
    }
   ],
   "source": [
    "sibm = data[['ibmrtn']]\n",
    "sibm"
   ]
  },
  {
   "cell_type": "markdown",
   "id": "9afadc79-ae61-4aae-bdfa-dcb75d56ba5f",
   "metadata": {
    "tags": []
   },
   "source": [
    "### 'sibm' Ljung-Box test (lag=5)"
   ]
  },
  {
   "cell_type": "code",
   "execution_count": 4,
   "id": "64721771-850a-45e3-b45e-1a7af2bfaa2a",
   "metadata": {},
   "outputs": [
    {
     "name": "stdout",
     "output_type": "stream",
     "text": [
      "sibm_Ljung-Box test result:\n",
      "     lb_stat  lb_pvalue\n",
      "5  3.368222   0.643414\n"
     ]
    }
   ],
   "source": [
    "from statsmodels.stats.diagnostic import acorr_ljungbox\n",
    "\n",
    "sibm_ljung_box_result = acorr_ljungbox(sibm, lags=[5], return_df=False)\n",
    "print(\"sibm_Ljung-Box test result:\\n\", sibm_ljung_box_result)  # 5 is dgree of freedom"
   ]
  },
  {
   "cell_type": "markdown",
   "id": "06285478-e981-4608-a87f-39776077ffd3",
   "metadata": {},
   "source": [
    "## 'libm' Ljung-Box test (lag=5)"
   ]
  },
  {
   "cell_type": "code",
   "execution_count": 5,
   "id": "cba59bf3-96ad-4473-b5e5-f68180d4da6e",
   "metadata": {
    "tags": []
   },
   "outputs": [
    {
     "data": {
      "text/html": [
       "<div>\n",
       "<style scoped>\n",
       "    .dataframe tbody tr th:only-of-type {\n",
       "        vertical-align: middle;\n",
       "    }\n",
       "\n",
       "    .dataframe tbody tr th {\n",
       "        vertical-align: top;\n",
       "    }\n",
       "\n",
       "    .dataframe thead th {\n",
       "        text-align: right;\n",
       "    }\n",
       "</style>\n",
       "<table border=\"1\" class=\"dataframe\">\n",
       "  <thead>\n",
       "    <tr style=\"text-align: right;\">\n",
       "      <th></th>\n",
       "      <th>ibmrtn</th>\n",
       "    </tr>\n",
       "    <tr>\n",
       "      <th>date</th>\n",
       "      <th></th>\n",
       "    </tr>\n",
       "  </thead>\n",
       "  <tbody>\n",
       "    <tr>\n",
       "      <th>19260130</th>\n",
       "      <td>-0.004532</td>\n",
       "    </tr>\n",
       "    <tr>\n",
       "      <th>19260227</th>\n",
       "      <td>-0.010762</td>\n",
       "    </tr>\n",
       "    <tr>\n",
       "      <th>19260331</th>\n",
       "      <td>-0.053347</td>\n",
       "    </tr>\n",
       "    <tr>\n",
       "      <th>19260430</th>\n",
       "      <td>0.037340</td>\n",
       "    </tr>\n",
       "    <tr>\n",
       "      <th>19260528</th>\n",
       "      <td>0.015750</td>\n",
       "    </tr>\n",
       "    <tr>\n",
       "      <th>...</th>\n",
       "      <td>...</td>\n",
       "    </tr>\n",
       "    <tr>\n",
       "      <th>20080829</th>\n",
       "      <td>-0.019964</td>\n",
       "    </tr>\n",
       "    <tr>\n",
       "      <th>20080930</th>\n",
       "      <td>-0.017360</td>\n",
       "    </tr>\n",
       "    <tr>\n",
       "      <th>20081031</th>\n",
       "      <td>-0.099695</td>\n",
       "    </tr>\n",
       "    <tr>\n",
       "      <th>20081128</th>\n",
       "      <td>-0.053999</td>\n",
       "    </tr>\n",
       "    <tr>\n",
       "      <th>20081231</th>\n",
       "      <td>0.013416</td>\n",
       "    </tr>\n",
       "  </tbody>\n",
       "</table>\n",
       "<p>996 rows × 1 columns</p>\n",
       "</div>"
      ],
      "text/plain": [
       "            ibmrtn\n",
       "date              \n",
       "19260130 -0.004532\n",
       "19260227 -0.010762\n",
       "19260331 -0.053347\n",
       "19260430  0.037340\n",
       "19260528  0.015750\n",
       "...            ...\n",
       "20080829 -0.019964\n",
       "20080930 -0.017360\n",
       "20081031 -0.099695\n",
       "20081128 -0.053999\n",
       "20081231  0.013416\n",
       "\n",
       "[996 rows x 1 columns]"
      ]
     },
     "execution_count": 5,
     "metadata": {},
     "output_type": "execute_result"
    }
   ],
   "source": [
    "import numpy as np\n",
    "libm = np.log10(sibm+1)\n",
    "libm"
   ]
  },
  {
   "cell_type": "code",
   "execution_count": 6,
   "id": "06ff8f27-aeb4-40ca-8204-401e07173c05",
   "metadata": {
    "tags": []
   },
   "outputs": [
    {
     "name": "stdout",
     "output_type": "stream",
     "text": [
      "libm_Ljung-Box test result:\n",
      "     lb_stat  lb_pvalue\n",
      "5  3.523579   0.619823\n"
     ]
    }
   ],
   "source": [
    "libm_ljung_box_result = acorr_ljungbox(libm, lags=[5], return_df=False)\n",
    "print(\"libm_Ljung-Box test result:\\n\", libm_ljung_box_result)  # 5 is dgree of freedom"
   ]
  }
 ],
 "metadata": {
  "kernelspec": {
   "display_name": "Python 3 (ipykernel)",
   "language": "python",
   "name": "python3"
  },
  "language_info": {
   "codemirror_mode": {
    "name": "ipython",
    "version": 3
   },
   "file_extension": ".py",
   "mimetype": "text/x-python",
   "name": "python",
   "nbconvert_exporter": "python",
   "pygments_lexer": "ipython3",
   "version": "3.11.4"
  }
 },
 "nbformat": 4,
 "nbformat_minor": 5
}
