{
 "cells": [
  {
   "cell_type": "markdown",
   "id": "1cc2863b-087c-4c78-9133-7821a8ee895f",
   "metadata": {},
   "source": [
    "# Chapter2 Demonstration4"
   ]
  },
  {
   "cell_type": "code",
   "execution_count": 4,
   "id": "8f8bf63d-6a16-4407-aa43-4131a4dc5ed8",
   "metadata": {
    "tags": []
   },
   "outputs": [
    {
     "data": {
      "text/html": [
       "<div>\n",
       "<style scoped>\n",
       "    .dataframe tbody tr th:only-of-type {\n",
       "        vertical-align: middle;\n",
       "    }\n",
       "\n",
       "    .dataframe tbody tr th {\n",
       "        vertical-align: top;\n",
       "    }\n",
       "\n",
       "    .dataframe thead th {\n",
       "        text-align: right;\n",
       "    }\n",
       "</style>\n",
       "<table border=\"1\" class=\"dataframe\">\n",
       "  <thead>\n",
       "    <tr style=\"text-align: right;\">\n",
       "      <th></th>\n",
       "      <th>ibmrtn</th>\n",
       "      <th>vwrtn</th>\n",
       "      <th>ewrtn</th>\n",
       "      <th>sprtn</th>\n",
       "    </tr>\n",
       "    <tr>\n",
       "      <th>date</th>\n",
       "      <th></th>\n",
       "      <th></th>\n",
       "      <th></th>\n",
       "      <th></th>\n",
       "    </tr>\n",
       "  </thead>\n",
       "  <tbody>\n",
       "    <tr>\n",
       "      <th>19260130</th>\n",
       "      <td>-0.010381</td>\n",
       "      <td>0.000724</td>\n",
       "      <td>0.023174</td>\n",
       "      <td>0.022472</td>\n",
       "    </tr>\n",
       "    <tr>\n",
       "      <th>19260227</th>\n",
       "      <td>-0.024476</td>\n",
       "      <td>-0.033374</td>\n",
       "      <td>-0.053510</td>\n",
       "      <td>-0.043956</td>\n",
       "    </tr>\n",
       "    <tr>\n",
       "      <th>19260331</th>\n",
       "      <td>-0.115591</td>\n",
       "      <td>-0.064341</td>\n",
       "      <td>-0.096824</td>\n",
       "      <td>-0.059113</td>\n",
       "    </tr>\n",
       "    <tr>\n",
       "      <th>19260430</th>\n",
       "      <td>0.089783</td>\n",
       "      <td>0.038358</td>\n",
       "      <td>0.032946</td>\n",
       "      <td>0.022688</td>\n",
       "    </tr>\n",
       "    <tr>\n",
       "      <th>19260528</th>\n",
       "      <td>0.036932</td>\n",
       "      <td>0.012172</td>\n",
       "      <td>0.001035</td>\n",
       "      <td>0.007679</td>\n",
       "    </tr>\n",
       "    <tr>\n",
       "      <th>...</th>\n",
       "      <td>...</td>\n",
       "      <td>...</td>\n",
       "      <td>...</td>\n",
       "      <td>...</td>\n",
       "    </tr>\n",
       "    <tr>\n",
       "      <th>20080829</th>\n",
       "      <td>-0.044929</td>\n",
       "      <td>0.011042</td>\n",
       "      <td>0.014066</td>\n",
       "      <td>0.012191</td>\n",
       "    </tr>\n",
       "    <tr>\n",
       "      <th>20080930</th>\n",
       "      <td>-0.039185</td>\n",
       "      <td>-0.098060</td>\n",
       "      <td>-0.120888</td>\n",
       "      <td>-0.090791</td>\n",
       "    </tr>\n",
       "    <tr>\n",
       "      <th>20081031</th>\n",
       "      <td>-0.205113</td>\n",
       "      <td>-0.184726</td>\n",
       "      <td>-0.206004</td>\n",
       "      <td>-0.169425</td>\n",
       "    </tr>\n",
       "    <tr>\n",
       "      <th>20081128</th>\n",
       "      <td>-0.116919</td>\n",
       "      <td>-0.085206</td>\n",
       "      <td>-0.136597</td>\n",
       "      <td>-0.074849</td>\n",
       "    </tr>\n",
       "    <tr>\n",
       "      <th>20081231</th>\n",
       "      <td>0.031373</td>\n",
       "      <td>0.021482</td>\n",
       "      <td>0.043083</td>\n",
       "      <td>0.007822</td>\n",
       "    </tr>\n",
       "  </tbody>\n",
       "</table>\n",
       "<p>996 rows × 4 columns</p>\n",
       "</div>"
      ],
      "text/plain": [
       "            ibmrtn     vwrtn     ewrtn     sprtn\n",
       "date                                            \n",
       "19260130 -0.010381  0.000724  0.023174  0.022472\n",
       "19260227 -0.024476 -0.033374 -0.053510 -0.043956\n",
       "19260331 -0.115591 -0.064341 -0.096824 -0.059113\n",
       "19260430  0.089783  0.038358  0.032946  0.022688\n",
       "19260528  0.036932  0.012172  0.001035  0.007679\n",
       "...            ...       ...       ...       ...\n",
       "20080829 -0.044929  0.011042  0.014066  0.012191\n",
       "20080930 -0.039185 -0.098060 -0.120888 -0.090791\n",
       "20081031 -0.205113 -0.184726 -0.206004 -0.169425\n",
       "20081128 -0.116919 -0.085206 -0.136597 -0.074849\n",
       "20081231  0.031373  0.021482  0.043083  0.007822\n",
       "\n",
       "[996 rows x 4 columns]"
      ]
     },
     "execution_count": 4,
     "metadata": {},
     "output_type": "execute_result"
    }
   ],
   "source": [
    "import pandas as pd\n",
    "\n",
    "# Load the data assuming 'm-ibm3dx.txt' is in the current working directory\n",
    "# and the file has a header row\n",
    "vw_data = pd.read_csv('./data/m-ibm3dx2608.txt', delim_whitespace=True, index_col = 0)\n",
    "vw_data"
   ]
  },
  {
   "cell_type": "code",
   "execution_count": 5,
   "id": "e64a09a9-6dd3-4dfa-a932-6467add67218",
   "metadata": {
    "tags": []
   },
   "outputs": [],
   "source": [
    "# Extract the VW returns from the third column (indexed as 2 in Python)\n",
    "vw_returns = vw_data.loc[:, ['vwrtn']]  # Modify this if the column index is different"
   ]
  },
  {
   "cell_type": "code",
   "execution_count": 6,
   "id": "8e97b2b6-f844-4458-8a9f-98d58ba77cdc",
   "metadata": {
    "tags": []
   },
   "outputs": [
    {
     "name": "stdout",
     "output_type": "stream",
     "text": [
      "vwrtn    1592.953481\n",
      "dtype: float64\n"
     ]
    }
   ],
   "source": [
    "# Calculate the cumulative product of (1 + returns)\n",
    "t1 = (1 + vw_returns).prod()\n",
    "print(t1)"
   ]
  },
  {
   "cell_type": "code",
   "execution_count": 11,
   "id": "fd798c3c-1917-4331-b36a-25b4c7e143ec",
   "metadata": {
    "tags": []
   },
   "outputs": [
    {
     "data": {
      "text/plain": [
       "vwrtn    0.092901\n",
       "dtype: float64"
      ]
     },
     "execution_count": 11,
     "metadata": {},
     "output_type": "execute_result"
    }
   ],
   "source": [
    "months = 996  # total number of months in the dataset\n",
    "annualized_return = (t1 ** (12 / months)) - 1\n",
    "\n",
    "annualized_return"
   ]
  }
 ],
 "metadata": {
  "kernelspec": {
   "display_name": "Python 3 (ipykernel)",
   "language": "python",
   "name": "python3"
  },
  "language_info": {
   "codemirror_mode": {
    "name": "ipython",
    "version": 3
   },
   "file_extension": ".py",
   "mimetype": "text/x-python",
   "name": "python",
   "nbconvert_exporter": "python",
   "pygments_lexer": "ipython3",
   "version": "3.11.4"
  }
 },
 "nbformat": 4,
 "nbformat_minor": 5
}
