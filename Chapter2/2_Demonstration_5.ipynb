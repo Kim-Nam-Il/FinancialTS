{
 "cells": [
  {
   "cell_type": "markdown",
   "id": "b23d418b-c74e-4e56-9927-b825f264cc55",
   "metadata": {
    "tags": []
   },
   "source": [
    "# Chapter2 Demonstration5"
   ]
  },
  {
   "cell_type": "markdown",
   "id": "149cf681-726d-493b-a1ed-3f209dee717f",
   "metadata": {},
   "source": [
    "Example 2.2\n",
    "\n",
    "Data : ```q-gdp4708.txt```\n",
    "\n",
    "Page 78"
   ]
  },
  {
   "cell_type": "code",
   "execution_count": 1,
   "id": "836fe1e0-6dd0-4fea-9dcf-28967c486506",
   "metadata": {
    "tags": []
   },
   "outputs": [
    {
     "data": {
      "text/html": [
       "<div>\n",
       "<style scoped>\n",
       "    .dataframe tbody tr th:only-of-type {\n",
       "        vertical-align: middle;\n",
       "    }\n",
       "\n",
       "    .dataframe tbody tr th {\n",
       "        vertical-align: top;\n",
       "    }\n",
       "\n",
       "    .dataframe thead th {\n",
       "        text-align: right;\n",
       "    }\n",
       "</style>\n",
       "<table border=\"1\" class=\"dataframe\">\n",
       "  <thead>\n",
       "    <tr style=\"text-align: right;\">\n",
       "      <th></th>\n",
       "      <th>year</th>\n",
       "      <th>mon</th>\n",
       "      <th>day</th>\n",
       "      <th>gdp</th>\n",
       "    </tr>\n",
       "  </thead>\n",
       "  <tbody>\n",
       "    <tr>\n",
       "      <th>0</th>\n",
       "      <td>1947</td>\n",
       "      <td>1</td>\n",
       "      <td>1</td>\n",
       "      <td>237.2</td>\n",
       "    </tr>\n",
       "    <tr>\n",
       "      <th>1</th>\n",
       "      <td>1947</td>\n",
       "      <td>4</td>\n",
       "      <td>1</td>\n",
       "      <td>240.5</td>\n",
       "    </tr>\n",
       "    <tr>\n",
       "      <th>2</th>\n",
       "      <td>1947</td>\n",
       "      <td>7</td>\n",
       "      <td>1</td>\n",
       "      <td>244.6</td>\n",
       "    </tr>\n",
       "    <tr>\n",
       "      <th>3</th>\n",
       "      <td>1947</td>\n",
       "      <td>10</td>\n",
       "      <td>1</td>\n",
       "      <td>254.4</td>\n",
       "    </tr>\n",
       "    <tr>\n",
       "      <th>4</th>\n",
       "      <td>1948</td>\n",
       "      <td>1</td>\n",
       "      <td>1</td>\n",
       "      <td>260.4</td>\n",
       "    </tr>\n",
       "    <tr>\n",
       "      <th>...</th>\n",
       "      <td>...</td>\n",
       "      <td>...</td>\n",
       "      <td>...</td>\n",
       "      <td>...</td>\n",
       "    </tr>\n",
       "    <tr>\n",
       "      <th>243</th>\n",
       "      <td>2007</td>\n",
       "      <td>10</td>\n",
       "      <td>1</td>\n",
       "      <td>14031.2</td>\n",
       "    </tr>\n",
       "    <tr>\n",
       "      <th>244</th>\n",
       "      <td>2008</td>\n",
       "      <td>1</td>\n",
       "      <td>1</td>\n",
       "      <td>14150.8</td>\n",
       "    </tr>\n",
       "    <tr>\n",
       "      <th>245</th>\n",
       "      <td>2008</td>\n",
       "      <td>4</td>\n",
       "      <td>1</td>\n",
       "      <td>14294.5</td>\n",
       "    </tr>\n",
       "    <tr>\n",
       "      <th>246</th>\n",
       "      <td>2008</td>\n",
       "      <td>7</td>\n",
       "      <td>1</td>\n",
       "      <td>14412.8</td>\n",
       "    </tr>\n",
       "    <tr>\n",
       "      <th>247</th>\n",
       "      <td>2008</td>\n",
       "      <td>10</td>\n",
       "      <td>1</td>\n",
       "      <td>14200.3</td>\n",
       "    </tr>\n",
       "  </tbody>\n",
       "</table>\n",
       "<p>248 rows × 4 columns</p>\n",
       "</div>"
      ],
      "text/plain": [
       "     year  mon  day      gdp\n",
       "0    1947    1    1    237.2\n",
       "1    1947    4    1    240.5\n",
       "2    1947    7    1    244.6\n",
       "3    1947   10    1    254.4\n",
       "4    1948    1    1    260.4\n",
       "..    ...  ...  ...      ...\n",
       "243  2007   10    1  14031.2\n",
       "244  2008    1    1  14150.8\n",
       "245  2008    4    1  14294.5\n",
       "246  2008    7    1  14412.8\n",
       "247  2008   10    1  14200.3\n",
       "\n",
       "[248 rows x 4 columns]"
      ]
     },
     "execution_count": 1,
     "metadata": {},
     "output_type": "execute_result"
    }
   ],
   "source": [
    "import pandas as pd\n",
    "from statsmodels.tsa.stattools import adfuller\n",
    "from statsmodels.tsa.ar_model import AutoReg\n",
    "import numpy as np\n",
    "\n",
    "# Load the data\n",
    "# same as q-gnp4791.txt\n",
    "gdp = pd.read_csv('./data/q-gdp4708.txt', delim_whitespace=True,header=0)\n",
    "gdp"
   ]
  },
  {
   "cell_type": "code",
   "execution_count": 2,
   "id": "1584a659-3574-4e42-a6b7-23c932196069",
   "metadata": {
    "tags": []
   },
   "outputs": [
    {
     "data": {
      "text/html": [
       "<div>\n",
       "<style scoped>\n",
       "    .dataframe tbody tr th:only-of-type {\n",
       "        vertical-align: middle;\n",
       "    }\n",
       "\n",
       "    .dataframe tbody tr th {\n",
       "        vertical-align: top;\n",
       "    }\n",
       "\n",
       "    .dataframe thead th {\n",
       "        text-align: right;\n",
       "    }\n",
       "</style>\n",
       "<table border=\"1\" class=\"dataframe\">\n",
       "  <thead>\n",
       "    <tr style=\"text-align: right;\">\n",
       "      <th></th>\n",
       "      <th>gdp</th>\n",
       "    </tr>\n",
       "  </thead>\n",
       "  <tbody>\n",
       "    <tr>\n",
       "      <th>0</th>\n",
       "      <td>5.468904</td>\n",
       "    </tr>\n",
       "    <tr>\n",
       "      <th>1</th>\n",
       "      <td>5.482720</td>\n",
       "    </tr>\n",
       "    <tr>\n",
       "      <th>2</th>\n",
       "      <td>5.499624</td>\n",
       "    </tr>\n",
       "    <tr>\n",
       "      <th>3</th>\n",
       "      <td>5.538908</td>\n",
       "    </tr>\n",
       "    <tr>\n",
       "      <th>4</th>\n",
       "      <td>5.562219</td>\n",
       "    </tr>\n",
       "    <tr>\n",
       "      <th>...</th>\n",
       "      <td>...</td>\n",
       "    </tr>\n",
       "    <tr>\n",
       "      <th>243</th>\n",
       "      <td>9.549039</td>\n",
       "    </tr>\n",
       "    <tr>\n",
       "      <th>244</th>\n",
       "      <td>9.557526</td>\n",
       "    </tr>\n",
       "    <tr>\n",
       "      <th>245</th>\n",
       "      <td>9.567630</td>\n",
       "    </tr>\n",
       "    <tr>\n",
       "      <th>246</th>\n",
       "      <td>9.575872</td>\n",
       "    </tr>\n",
       "    <tr>\n",
       "      <th>247</th>\n",
       "      <td>9.561018</td>\n",
       "    </tr>\n",
       "  </tbody>\n",
       "</table>\n",
       "<p>248 rows × 1 columns</p>\n",
       "</div>"
      ],
      "text/plain": [
       "          gdp\n",
       "0    5.468904\n",
       "1    5.482720\n",
       "2    5.499624\n",
       "3    5.538908\n",
       "4    5.562219\n",
       "..        ...\n",
       "243  9.549039\n",
       "244  9.557526\n",
       "245  9.567630\n",
       "246  9.575872\n",
       "247  9.561018\n",
       "\n",
       "[248 rows x 1 columns]"
      ]
     },
     "execution_count": 2,
     "metadata": {},
     "output_type": "execute_result"
    }
   ],
   "source": [
    "# Log transformation of the GDP data (assuming it's in the fourth column)\n",
    "gdp_log = np.log(gdp.loc[:,['gdp']])\n",
    "gdp_log"
   ]
  },
  {
   "cell_type": "code",
   "execution_count": 3,
   "id": "e385b3a7-6ffd-4b8a-a666-86776b2df954",
   "metadata": {
    "tags": []
   },
   "outputs": [
    {
     "data": {
      "text/plain": [
       "<statsmodels.tsa.ar_model.AutoRegResultsWrapper at 0x13ec45110>"
      ]
     },
     "execution_count": 3,
     "metadata": {},
     "output_type": "execute_result"
    }
   ],
   "source": [
    "# Fit an AR model on the differenced log GDP to determine the order\n",
    "# 'mle' stands for maximum likelihood estimation\n",
    "m1 = AutoReg(np.diff(gdp_log.iloc[:,0]), lags=1).fit()\n",
    "m1"
   ]
  },
  {
   "cell_type": "code",
   "execution_count": 4,
   "id": "2827ba8b-62f9-41dd-b416-7db049d5cf7f",
   "metadata": {
    "tags": []
   },
   "outputs": [
    {
     "data": {
      "text/plain": [
       "1"
      ]
     },
     "execution_count": 4,
     "metadata": {},
     "output_type": "execute_result"
    }
   ],
   "source": [
    "# Order of the AR model\n",
    "ar_order = m1.model.ar_lags[-1] if m1.model.ar_lags else 0\n",
    "ar_order"
   ]
  },
  {
   "cell_type": "code",
   "execution_count": 5,
   "id": "bb642d74-32f1-4a97-b9e3-7e23cd3a4fd0",
   "metadata": {
    "tags": []
   },
   "outputs": [
    {
     "data": {
      "text/plain": [
       "(-1.6108742961612152,\n",
       " 0.47751667869874703,\n",
       " 10,\n",
       " 237,\n",
       " {'1%': -3.4582467982399105,\n",
       "  '5%': -2.8738137461081323,\n",
       "  '10%': -2.5733111490323846})"
      ]
     },
     "execution_count": 5,
     "metadata": {},
     "output_type": "execute_result"
    }
   ],
   "source": [
    "# Perform Augmented Dickey-Fuller test\n",
    "adf_result = adfuller(gdp_log.iloc[:,0], maxlag=10, regression='c', autolag=None)\n",
    "adf_result"
   ]
  },
  {
   "cell_type": "code",
   "execution_count": 6,
   "id": "7767fc77-653d-4b46-aef0-391fa80fdc8c",
   "metadata": {
    "tags": []
   },
   "outputs": [
    {
     "data": {
      "text/plain": [
       "-1.6108742961612152"
      ]
     },
     "execution_count": 6,
     "metadata": {},
     "output_type": "execute_result"
    }
   ],
   "source": [
    "# Extract the ADF statistic and p-value\n",
    "adf_statistic = adf_result[0]\n",
    "adf_statistic"
   ]
  },
  {
   "cell_type": "code",
   "execution_count": 7,
   "id": "e508cdf6-3699-4703-8afb-e057a6566d66",
   "metadata": {
    "tags": []
   },
   "outputs": [
    {
     "data": {
      "text/plain": [
       "0.47751667869874703"
      ]
     },
     "execution_count": 7,
     "metadata": {},
     "output_type": "execute_result"
    }
   ],
   "source": [
    "p_value = adf_result[1]\n",
    "p_value"
   ]
  },
  {
   "cell_type": "code",
   "execution_count": 8,
   "id": "615fffab-353d-4e52-a12b-7f8064ae0e81",
   "metadata": {
    "tags": []
   },
   "outputs": [
    {
     "data": {
      "text/plain": [
       "(1, -1.6108742961612152, 0.47751667869874703)"
      ]
     },
     "execution_count": 8,
     "metadata": {},
     "output_type": "execute_result"
    }
   ],
   "source": [
    "ar_order, adf_statistic, p_value"
   ]
  }
 ],
 "metadata": {
  "kernelspec": {
   "display_name": "Python 3 (ipykernel)",
   "language": "python",
   "name": "python3"
  },
  "language_info": {
   "codemirror_mode": {
    "name": "ipython",
    "version": 3
   },
   "file_extension": ".py",
   "mimetype": "text/x-python",
   "name": "python",
   "nbconvert_exporter": "python",
   "pygments_lexer": "ipython3",
   "version": "3.11.4"
  }
 },
 "nbformat": 4,
 "nbformat_minor": 5
}
