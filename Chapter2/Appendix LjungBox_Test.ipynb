{
 "cells": [
  {
   "cell_type": "markdown",
   "id": "ade03bc0-7bbb-4698-807a-ce82db8f6b7a",
   "metadata": {
    "tags": []
   },
   "source": [
    "# Appendex: Ljung-Box Test\n",
    "\n",
    "The Ljung-Box test is a type of statistical test used primarily in time series analysis to check for the absence of autocorrelation at multiple lag lengths. In simpler terms, it's used to determine whether past values in the time series affect future values.\n",
    "\n",
    "## Understanding the Ljung-Box Test:\n",
    "\n",
    "- Purpose: It's commonly applied to residuals from a model to confirm that the model captures all the patterns in the data, and the residuals are random (white noise). If the residuals show significant autocorrelation, that indicates the model is not adequately capturing some aspect of the data's structure.\n",
    "\n",
    "- How It Works: The test examines a group of autocorrelations simultaneously and computes a single test statistic. It tests the null hypothesis that the data are independently distributed (i.e., the correlations for lagged terms are zero).\n",
    "\n",
    "## Components of the Test:\n",
    "\n",
    "1. X-squared (χ²) Statistic:\n",
    "\n",
    "- This is the test statistic calculated by the Ljung-Box test. It's essentially a sum of the squared autocorrelations of the series, adjusted for the sample size and the number of lags being tested.\n",
    "\n",
    "- A higher χ² value indicates more evidence against the null hypothesis. It means there's a stronger suggestion that there's autocorrelation at one of the tested lags.\n",
    "\n",
    "2. p-value:\n",
    "\n",
    "- The p-value tells you the probability of seeing the test results under the null hypothesis. In the context of the Ljung-Box test, it indicates the probability of observing the computed χ² statistic (or one more extreme) if the null hypothesis of no autocorrelation is true.\n",
    "\n",
    "- The p-value tells you the probability of seeing the test results under the null hypothesis. In the context of the Ljung-Box test, it indicates the probability of observing the computed χ² statistic (or one more extreme) if the null hypothesis of no autocorrelation is true.\n",
    "\n",
    "- Conversely, a high p-value suggests that the time series may be random (i.e., no significant autocorrelation).\n",
    "\n",
    "## When to Use the test:\n",
    "\n",
    "- **Model Diagnostics**: After fitting a time series model, you might use the Ljung-Box test on the residuals to check if they appear to be white noise.\n",
    "\n",
    "- **Number of Lags**: The number of lags used in the test affects its power. Too few lags might miss autocorrelation, while too many might dilute the test with unnecessary comparisons.\n",
    "\n",
    "In practice, the Ljung-Box test is a tool among many that analysts use to understand time series data and assess model fit. It's often used in combination with other diagnostic tools and plots to build a comprehensive understanding of the data and the model's performance."
   ]
  },
  {
   "cell_type": "code",
   "execution_count": 4,
   "id": "15df50ed-9919-4110-8349-5e9193cfb86b",
   "metadata": {
    "tags": []
   },
   "outputs": [
    {
     "name": "stdout",
     "output_type": "stream",
     "text": [
      "[*********************100%%**********************]  1 of 1 completed\n"
     ]
    },
    {
     "data": {
      "text/html": [
       "<div>\n",
       "<style scoped>\n",
       "    .dataframe tbody tr th:only-of-type {\n",
       "        vertical-align: middle;\n",
       "    }\n",
       "\n",
       "    .dataframe tbody tr th {\n",
       "        vertical-align: top;\n",
       "    }\n",
       "\n",
       "    .dataframe thead th {\n",
       "        text-align: right;\n",
       "    }\n",
       "</style>\n",
       "<table border=\"1\" class=\"dataframe\">\n",
       "  <thead>\n",
       "    <tr style=\"text-align: right;\">\n",
       "      <th></th>\n",
       "      <th>lb_stat</th>\n",
       "      <th>lb_pvalue</th>\n",
       "    </tr>\n",
       "  </thead>\n",
       "  <tbody>\n",
       "    <tr>\n",
       "      <th>10</th>\n",
       "      <td>69.541689</td>\n",
       "      <td>5.435371e-11</td>\n",
       "    </tr>\n",
       "  </tbody>\n",
       "</table>\n",
       "</div>"
      ],
      "text/plain": [
       "      lb_stat     lb_pvalue\n",
       "10  69.541689  5.435371e-11"
      ]
     },
     "execution_count": 4,
     "metadata": {},
     "output_type": "execute_result"
    }
   ],
   "source": [
    "import yfinance as yf\n",
    "import numpy as np\n",
    "import pandas as pd\n",
    "from statsmodels.stats.diagnostic import acorr_ljungbox\n",
    "\n",
    "# AAPL stock data\n",
    "aapl = yf.download('AAPL', start='2020-01-01', end='2020-12-31')\n",
    "\n",
    "# 일일 종가를 사용하여 수익률 계산\n",
    "aapl['Return'] = aapl['Close'].pct_change()\n",
    "\n",
    "# 첫 번째 NaN 값 제거\n",
    "aapl = aapl.dropna()\n",
    "\n",
    "# 정 박스 검정 수행\n",
    "result = acorr_ljungbox(aapl['Return'], lags=[10], return_df=False)\n",
    "\n",
    "# Print result value\n",
    "result\n",
    "#print(f\"Ljung-Box Test Statistic: {lb_stat}\")\n",
    "#print(f\"P-value: {p_value}\")"
   ]
  },
  {
   "cell_type": "markdown",
   "id": "72793d59-f50e-415b-b864-9e19cc42bce5",
   "metadata": {},
   "source": [
    "The results from your Ljung-Box test on the AAPL stock's daily returns show a lb_stat (Ljung-Box statistic) of 69.541689 and a lb_pvalue (p-value) of approximately 5.435371e-11. Here's how to interpret these results:\n",
    "\n",
    "## 1. Ljung-Box Statistic (lb_stat = 69.541689):\n",
    "\n",
    "- This is a relatively high value. The Ljung-Box statistic is a measure of the overall significance of the autocorrelations up to the specified lag (in your case, probably 10 lags). A higher value typically indicates stronger evidence against the null hypothesis, which in this context is that there is no autocorrelation in the time series data.\n",
    "\n",
    "## 2. P-value (lb_pvalue ≈ 5.435371e-11):\n",
    "\n",
    "- The p-value is a very small number (close to zero). In statistical testing, a small p-value (commonly < 0.05) is usually interpreted as strong evidence against the null hypothesis. In your case, this small p-value suggests that you can reject the null hypothesis of no autocorrelation.\n",
    "\n",
    "- Essentially, this means that there is strong statistical evidence that the time series data (AAPL stock's daily returns) exhibit autocorrelation at least at one of the lags tested.\n",
    "\n",
    "## Interpretation:\n",
    "\n",
    "Given the high Ljung-Box statistic and the very small p-value, it is highly likely that the AAPL stock's daily returns are not random and do exhibit significant autocorrelation. This could imply that past values have some influence on future values in this time series.\n",
    "\n",
    "## Implications:\n",
    "\n",
    "- For model building: If these returns were residuals from a model, the presence of autocorrelation would suggest that the model has not fully captured all the dynamics in the data, and further refinement of the model might be necessary.\n",
    "\n",
    "- For investment or trading strategies: The presence of autocorrelation might be exploited or accounted for in the development of strategies.\n"
   ]
  }
 ],
 "metadata": {
  "kernelspec": {
   "display_name": "Python 3 (ipykernel)",
   "language": "python",
   "name": "python3"
  },
  "language_info": {
   "codemirror_mode": {
    "name": "ipython",
    "version": 3
   },
   "file_extension": ".py",
   "mimetype": "text/x-python",
   "name": "python",
   "nbconvert_exporter": "python",
   "pygments_lexer": "ipython3",
   "version": "3.11.4"
  }
 },
 "nbformat": 4,
 "nbformat_minor": 5
}
