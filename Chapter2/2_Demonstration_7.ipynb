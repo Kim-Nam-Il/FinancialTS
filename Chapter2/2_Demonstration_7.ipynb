{
 "cells": [
  {
   "cell_type": "markdown",
   "id": "37420a0e-92e3-4917-adcb-7ea11bd6bbf7",
   "metadata": {},
   "source": [
    "# Chapter2 Demonstration7"
   ]
  },
  {
   "cell_type": "markdown",
   "id": "646c0bce-a8be-4ba2-954e-27e8a0555197",
   "metadata": {},
   "source": [
    "Data : ```m-deciles08.txt```\n",
    "\n",
    "Page 88"
   ]
  },
  {
   "cell_type": "code",
   "execution_count": 3,
   "id": "67202185-26c9-48e4-a547-cb233ad68251",
   "metadata": {
    "tags": []
   },
   "outputs": [
    {
     "data": {
      "text/html": [
       "<div>\n",
       "<style scoped>\n",
       "    .dataframe tbody tr th:only-of-type {\n",
       "        vertical-align: middle;\n",
       "    }\n",
       "\n",
       "    .dataframe tbody tr th {\n",
       "        vertical-align: top;\n",
       "    }\n",
       "\n",
       "    .dataframe thead th {\n",
       "        text-align: right;\n",
       "    }\n",
       "</style>\n",
       "<table border=\"1\" class=\"dataframe\">\n",
       "  <thead>\n",
       "    <tr style=\"text-align: right;\">\n",
       "      <th></th>\n",
       "      <th>CAP1RET</th>\n",
       "      <th>CAP2RET</th>\n",
       "      <th>CAP9RET</th>\n",
       "      <th>CAP10RET</th>\n",
       "    </tr>\n",
       "    <tr>\n",
       "      <th>date</th>\n",
       "      <th></th>\n",
       "      <th></th>\n",
       "      <th></th>\n",
       "      <th></th>\n",
       "    </tr>\n",
       "  </thead>\n",
       "  <tbody>\n",
       "    <tr>\n",
       "      <th>19700130</th>\n",
       "      <td>0.054383</td>\n",
       "      <td>-0.004338</td>\n",
       "      <td>-0.073082</td>\n",
       "      <td>-0.076874</td>\n",
       "    </tr>\n",
       "    <tr>\n",
       "      <th>19700227</th>\n",
       "      <td>0.020264</td>\n",
       "      <td>0.020155</td>\n",
       "      <td>0.064185</td>\n",
       "      <td>0.059512</td>\n",
       "    </tr>\n",
       "    <tr>\n",
       "      <th>19700331</th>\n",
       "      <td>-0.031790</td>\n",
       "      <td>-0.028090</td>\n",
       "      <td>-0.004034</td>\n",
       "      <td>-0.001327</td>\n",
       "    </tr>\n",
       "    <tr>\n",
       "      <th>19700430</th>\n",
       "      <td>-0.184775</td>\n",
       "      <td>-0.193004</td>\n",
       "      <td>-0.115825</td>\n",
       "      <td>-0.091112</td>\n",
       "    </tr>\n",
       "    <tr>\n",
       "      <th>19700529</th>\n",
       "      <td>-0.088189</td>\n",
       "      <td>-0.085342</td>\n",
       "      <td>-0.085565</td>\n",
       "      <td>-0.053193</td>\n",
       "    </tr>\n",
       "    <tr>\n",
       "      <th>...</th>\n",
       "      <td>...</td>\n",
       "      <td>...</td>\n",
       "      <td>...</td>\n",
       "      <td>...</td>\n",
       "    </tr>\n",
       "    <tr>\n",
       "      <th>20080829</th>\n",
       "      <td>-0.000183</td>\n",
       "      <td>-0.012646</td>\n",
       "      <td>0.017067</td>\n",
       "      <td>0.005598</td>\n",
       "    </tr>\n",
       "    <tr>\n",
       "      <th>20080930</th>\n",
       "      <td>-0.112060</td>\n",
       "      <td>-0.132327</td>\n",
       "      <td>-0.121940</td>\n",
       "      <td>-0.086404</td>\n",
       "    </tr>\n",
       "    <tr>\n",
       "      <th>20081031</th>\n",
       "      <td>-0.126414</td>\n",
       "      <td>-0.129844</td>\n",
       "      <td>-0.226203</td>\n",
       "      <td>-0.177655</td>\n",
       "    </tr>\n",
       "    <tr>\n",
       "      <th>20081128</th>\n",
       "      <td>-0.149964</td>\n",
       "      <td>-0.114484</td>\n",
       "      <td>-0.098652</td>\n",
       "      <td>-0.071501</td>\n",
       "    </tr>\n",
       "    <tr>\n",
       "      <th>20081231</th>\n",
       "      <td>0.025500</td>\n",
       "      <td>-0.022210</td>\n",
       "      <td>0.057640</td>\n",
       "      <td>0.011136</td>\n",
       "    </tr>\n",
       "  </tbody>\n",
       "</table>\n",
       "<p>468 rows × 4 columns</p>\n",
       "</div>"
      ],
      "text/plain": [
       "           CAP1RET   CAP2RET   CAP9RET  CAP10RET\n",
       "date                                            \n",
       "19700130  0.054383 -0.004338 -0.073082 -0.076874\n",
       "19700227  0.020264  0.020155  0.064185  0.059512\n",
       "19700331 -0.031790 -0.028090 -0.004034 -0.001327\n",
       "19700430 -0.184775 -0.193004 -0.115825 -0.091112\n",
       "19700529 -0.088189 -0.085342 -0.085565 -0.053193\n",
       "...            ...       ...       ...       ...\n",
       "20080829 -0.000183 -0.012646  0.017067  0.005598\n",
       "20080930 -0.112060 -0.132327 -0.121940 -0.086404\n",
       "20081031 -0.126414 -0.129844 -0.226203 -0.177655\n",
       "20081128 -0.149964 -0.114484 -0.098652 -0.071501\n",
       "20081231  0.025500 -0.022210  0.057640  0.011136\n",
       "\n",
       "[468 rows x 4 columns]"
      ]
     },
     "execution_count": 3,
     "metadata": {},
     "output_type": "execute_result"
    }
   ],
   "source": [
    "import pandas as pd\n",
    "import numpy as np\n",
    "import statsmodels.api as sm\n",
    "from statsmodels.tsa.arima.model import ARIMA\n",
    "from statsmodels.tsa.stattools import acf, pacf\n",
    "from statsmodels.graphics.tsaplots import plot_acf, plot_pacf\n",
    "\n",
    "# Load the data\n",
    "da = pd.read_csv('./data/m-deciles08.txt', delim_whitespace=True, header=0, index_col=0)\n",
    "da"
   ]
  },
  {
   "cell_type": "code",
   "execution_count": 4,
   "id": "8d853d67-3f94-4ab1-967f-117616f57857",
   "metadata": {
    "tags": []
   },
   "outputs": [
    {
     "data": {
      "text/plain": [
       "date\n",
       "19700130   -0.004338\n",
       "19700227    0.020155\n",
       "19700331   -0.028090\n",
       "19700430   -0.193004\n",
       "19700529   -0.085342\n",
       "              ...   \n",
       "20080829   -0.012646\n",
       "20080930   -0.132327\n",
       "20081031   -0.129844\n",
       "20081128   -0.114484\n",
       "20081231   -0.022210\n",
       "Name: CAP2RET, Length: 468, dtype: float64"
      ]
     },
     "execution_count": 4,
     "metadata": {},
     "output_type": "execute_result"
    }
   ],
   "source": [
    "# Extract the first decile (d1)\n",
    "d1 = da.iloc[:, 1]\n",
    "d1"
   ]
  },
  {
   "cell_type": "code",
   "execution_count": 5,
   "id": "760046e5-ca14-4058-a2f9-aa6815848afc",
   "metadata": {
    "tags": []
   },
   "outputs": [
    {
     "data": {
      "text/plain": [
       "array([1., 0., 0., 0., 0., 0., 0., 0., 0., 0., 0., 0., 1., 0., 0., 0., 0.,\n",
       "       0., 0., 0., 0., 0., 0., 0., 1., 0., 0., 0., 0., 0., 0., 0., 0., 0.,\n",
       "       0., 0., 1., 0., 0., 0., 0., 0., 0., 0., 0., 0., 0., 0., 1., 0., 0.,\n",
       "       0., 0., 0., 0., 0., 0., 0., 0., 0., 1., 0., 0., 0., 0., 0., 0., 0.,\n",
       "       0., 0., 0., 0., 1., 0., 0., 0., 0., 0., 0., 0., 0., 0., 0., 0., 1.,\n",
       "       0., 0., 0., 0., 0., 0., 0., 0., 0., 0., 0., 1., 0., 0., 0., 0., 0.,\n",
       "       0., 0., 0., 0., 0., 0., 1., 0., 0., 0., 0., 0., 0., 0., 0., 0., 0.,\n",
       "       0., 1., 0., 0., 0., 0., 0., 0., 0., 0., 0., 0., 0., 1., 0., 0., 0.,\n",
       "       0., 0., 0., 0., 0., 0., 0., 0., 1., 0., 0., 0., 0., 0., 0., 0., 0.,\n",
       "       0., 0., 0., 1., 0., 0., 0., 0., 0., 0., 0., 0., 0., 0., 0., 1., 0.,\n",
       "       0., 0., 0., 0., 0., 0., 0., 0., 0., 0., 1., 0., 0., 0., 0., 0., 0.,\n",
       "       0., 0., 0., 0., 0., 1., 0., 0., 0., 0., 0., 0., 0., 0., 0., 0., 0.,\n",
       "       1., 0., 0., 0., 0., 0., 0., 0., 0., 0., 0., 0., 1., 0., 0., 0., 0.,\n",
       "       0., 0., 0., 0., 0., 0., 0., 1., 0., 0., 0., 0., 0., 0., 0., 0., 0.,\n",
       "       0., 0., 1., 0., 0., 0., 0., 0., 0., 0., 0., 0., 0., 0., 1., 0., 0.,\n",
       "       0., 0., 0., 0., 0., 0., 0., 0., 0., 1., 0., 0., 0., 0., 0., 0., 0.,\n",
       "       0., 0., 0., 0., 1., 0., 0., 0., 0., 0., 0., 0., 0., 0., 0., 0., 1.,\n",
       "       0., 0., 0., 0., 0., 0., 0., 0., 0., 0., 0., 1., 0., 0., 0., 0., 0.,\n",
       "       0., 0., 0., 0., 0., 0., 1., 0., 0., 0., 0., 0., 0., 0., 0., 0., 0.,\n",
       "       0., 1., 0., 0., 0., 0., 0., 0., 0., 0., 0., 0., 0., 1., 0., 0., 0.,\n",
       "       0., 0., 0., 0., 0., 0., 0., 0., 1., 0., 0., 0., 0., 0., 0., 0., 0.,\n",
       "       0., 0., 0., 1., 0., 0., 0., 0., 0., 0., 0., 0., 0., 0., 0., 1., 0.,\n",
       "       0., 0., 0., 0., 0., 0., 0., 0., 0., 0., 1., 0., 0., 0., 0., 0., 0.,\n",
       "       0., 0., 0., 0., 0., 1., 0., 0., 0., 0., 0., 0., 0., 0., 0., 0., 0.,\n",
       "       1., 0., 0., 0., 0., 0., 0., 0., 0., 0., 0., 0., 1., 0., 0., 0., 0.,\n",
       "       0., 0., 0., 0., 0., 0., 0., 1., 0., 0., 0., 0., 0., 0., 0., 0., 0.,\n",
       "       0., 0., 1., 0., 0., 0., 0., 0., 0., 0., 0., 0., 0., 0., 1., 0., 0.,\n",
       "       0., 0., 0., 0., 0., 0., 0., 0., 0.])"
      ]
     },
     "execution_count": 5,
     "metadata": {},
     "output_type": "execute_result"
    }
   ],
   "source": [
    "# Create January dummy variable\n",
    "jan = np.tile(np.concatenate(([1], np.zeros(11))), 39)\n",
    "jan"
   ]
  },
  {
   "cell_type": "code",
   "execution_count": 6,
   "id": "6c576e1c-e73f-4cd4-b887-5c4d0cc01787",
   "metadata": {
    "tags": []
   },
   "outputs": [
    {
     "name": "stdout",
     "output_type": "stream",
     "text": [
      "                            OLS Regression Results                            \n",
      "==============================================================================\n",
      "Dep. Variable:                CAP2RET   R-squared:                       0.126\n",
      "Model:                            OLS   Adj. R-squared:                  0.124\n",
      "Method:                 Least Squares   F-statistic:                     67.26\n",
      "Date:                Mon, 15 Jan 2024   Prob (F-statistic):           2.34e-15\n",
      "Time:                        23:42:28   Log-Likelihood:                 644.20\n",
      "No. Observations:                 468   AIC:                            -1284.\n",
      "Df Residuals:                     466   BIC:                            -1276.\n",
      "Df Model:                           1                                         \n",
      "Covariance Type:            nonrobust                                         \n",
      "==============================================================================\n",
      "                 coef    std err          t      P>|t|      [0.025      0.975]\n",
      "------------------------------------------------------------------------------\n",
      "const          0.0035      0.003      1.187      0.236      -0.002       0.009\n",
      "x1             0.0840      0.010      8.201      0.000       0.064       0.104\n",
      "==============================================================================\n",
      "Omnibus:                       62.944   Durbin-Watson:                   1.599\n",
      "Prob(Omnibus):                  0.000   Jarque-Bera (JB):              568.358\n",
      "Skew:                           0.049   Prob(JB):                    3.83e-124\n",
      "Kurtosis:                       8.398   Cond. No.                         3.65\n",
      "==============================================================================\n",
      "\n",
      "Notes:\n",
      "[1] Standard Errors assume that the covariance matrix of the errors is correctly specified.\n"
     ]
    }
   ],
   "source": [
    "# Perform linear regression with January dummy\n",
    "X = sm.add_constant(jan)  # Adds a constant term to the predictor\n",
    "m1 = sm.OLS(d1, X).fit()\n",
    "# Print the summary of the linear regression model\n",
    "print(m1.summary())"
   ]
  },
  {
   "cell_type": "code",
   "execution_count": 7,
   "id": "b3303c9d-1512-45c3-9fce-3698c75fbb7c",
   "metadata": {
    "tags": []
   },
   "outputs": [
    {
     "name": "stderr",
     "output_type": "stream",
     "text": [
      "/Users/laptop/anaconda3/lib/python3.11/site-packages/statsmodels/tsa/base/tsa_model.py:473: ValueWarning: An unsupported index was provided and will be ignored when e.g. forecasting.\n",
      "  self._init_dates(dates, freq)\n",
      "/Users/laptop/anaconda3/lib/python3.11/site-packages/statsmodels/tsa/base/tsa_model.py:473: ValueWarning: An unsupported index was provided and will be ignored when e.g. forecasting.\n",
      "  self._init_dates(dates, freq)\n",
      "/Users/laptop/anaconda3/lib/python3.11/site-packages/statsmodels/tsa/base/tsa_model.py:473: ValueWarning: An unsupported index was provided and will be ignored when e.g. forecasting.\n",
      "  self._init_dates(dates, freq)\n"
     ]
    },
    {
     "name": "stdout",
     "output_type": "stream",
     "text": [
      "                                     SARIMAX Results                                      \n",
      "==========================================================================================\n",
      "Dep. Variable:                            CAP2RET   No. Observations:                  468\n",
      "Model:             ARIMA(1, 0, 0)x(1, 0, [1], 12)   Log Likelihood                 642.620\n",
      "Date:                            Mon, 15 Jan 2024   AIC                          -1277.239\n",
      "Time:                                    23:42:35   BIC                          -1260.645\n",
      "Sample:                                         0   HQIC                         -1270.710\n",
      "                                            - 468                                         \n",
      "Covariance Type:                              opg                                         \n",
      "==============================================================================\n",
      "                 coef    std err          z      P>|z|      [0.025      0.975]\n",
      "------------------------------------------------------------------------------\n",
      "ar.L1          0.2007      0.037      5.404      0.000       0.128       0.273\n",
      "ar.S.L12       0.9891      0.011     92.113      0.000       0.968       1.010\n",
      "ma.S.L12      -0.9358      0.034    -27.801      0.000      -1.002      -0.870\n",
      "sigma2         0.0037      0.000     22.580      0.000       0.003       0.004\n",
      "===================================================================================\n",
      "Ljung-Box (L1) (Q):                   0.11   Jarque-Bera (JB):               975.07\n",
      "Prob(Q):                              0.74   Prob(JB):                         0.00\n",
      "Heteroskedasticity (H):               0.32   Skew:                             0.47\n",
      "Prob(H) (two-sided):                  0.00   Kurtosis:                        10.01\n",
      "===================================================================================\n",
      "\n",
      "Warnings:\n",
      "[1] Covariance matrix calculated using the outer product of gradients (complex-step).\n"
     ]
    }
   ],
   "source": [
    "# Fit ARIMA model (1,0,0)x(1,0,1)[12] without including the mean\n",
    "m2 = ARIMA(d1, order=(1,0,0), seasonal_order=(1,0,1,12), trend='n').fit()\n",
    "\n",
    "# Print the summary of the ARIMA model\n",
    "print(m2.summary())"
   ]
  },
  {
   "cell_type": "code",
   "execution_count": 10,
   "id": "f2089afc-f612-4a53-a1e2-92522ba32b37",
   "metadata": {
    "tags": []
   },
   "outputs": [],
   "source": [
    "# Diagnostic checking using ACF and PACF plots\n",
    "acf_vals = acf(m2.resid)\n",
    "pacf_vals = pacf(m2.resid)"
   ]
  },
  {
   "cell_type": "code",
   "execution_count": 11,
   "id": "14b4b2d3-4a77-47c6-9459-05ce5d637871",
   "metadata": {
    "tags": []
   },
   "outputs": [
    {
     "ename": "NameError",
     "evalue": "name 'plt' is not defined",
     "output_type": "error",
     "traceback": [
      "\u001B[0;31m---------------------------------------------------------------------------\u001B[0m",
      "\u001B[0;31mNameError\u001B[0m                                 Traceback (most recent call last)",
      "Cell \u001B[0;32mIn[11], line 4\u001B[0m\n\u001B[1;32m      2\u001B[0m plot_acf(m2\u001B[38;5;241m.\u001B[39mresid, lags\u001B[38;5;241m=\u001B[39m\u001B[38;5;241m36\u001B[39m)\n\u001B[1;32m      3\u001B[0m plot_pacf(m2\u001B[38;5;241m.\u001B[39mresid, lags\u001B[38;5;241m=\u001B[39m\u001B[38;5;241m36\u001B[39m)\n\u001B[0;32m----> 4\u001B[0m plt\u001B[38;5;241m.\u001B[39mshow()\n",
      "\u001B[0;31mNameError\u001B[0m: name 'plt' is not defined"
     ]
    },
    {
     "data": {
      "image/png": "[encoded data removed]",
      "text/plain": [
       "<Figure size 640x480 with 1 Axes>"
      ]
     },
     "metadata": {},
     "output_type": "display_data"
    },
    {
     "data": {
      "image/png": "[encoded data removed]",
      "text/plain": [
       "<Figure size 640x480 with 1 Axes>"
      ]
     },
     "metadata": {},
     "output_type": "display_data"
    }
   ],
   "source": [
    "# Plot ACF and PACF\n",
    "plot_acf(m2.resid, lags=36)\n",
    "plot_pacf(m2.resid, lags=36)\n",
    "plt.show()"
   ]
  }
 ],
 "metadata": {
  "kernelspec": {
   "display_name": "Python 3 (ipykernel)",
   "language": "python",
   "name": "python3"
  },
  "language_info": {
   "codemirror_mode": {
    "name": "ipython",
    "version": 3
   },
   "file_extension": ".py",
   "mimetype": "text/x-python",
   "name": "python",
   "nbconvert_exporter": "python",
   "pygments_lexer": "ipython3",
   "version": "3.11.4"
  }
 },
 "nbformat": 4,
 "nbformat_minor": 5
}
