{
 "cells": [
  {
   "cell_type": "markdown",
   "id": "4f707f53-277d-4a7a-965d-0e4f5f1d4b01",
   "metadata": {
    "tags": []
   },
   "source": [
    "# Chapter2 Demonstration8"
   ]
  },
  {
   "cell_type": "markdown",
   "id": "e3048e2e-0a47-4287-a65c-57064eeb0bbb",
   "metadata": {},
   "source": [
    "Data : ```w-gs1yr.txt```\n",
    "       ```w-gs3yr.txt```\n",
    "\n",
    "Page 93"
   ]
  },
  {
   "cell_type": "code",
   "execution_count": 31,
   "id": "e0ec2ab6-e95e-4a5c-a847-e41d8ed157f5",
   "metadata": {
    "tags": []
   },
   "outputs": [],
   "source": [
    "import pandas as pd\n",
    "import numpy as np\n",
    "import statsmodels.api as sm\n",
    "from statsmodels.tsa.arima.model import ARIMA\n",
    "from statsmodels.graphics.tsaplots import plot_acf\n",
    "import matplotlib.pyplot as plt\n",
    "\n",
    "# Load the data\n",
    "r1_data = pd.read_csv('./data/w-gs1yr.txt', delim_whitespace=True, header=0, index_col=[0,1,2])\n",
    "r3_data = pd.read_csv('./data/w-gs3yr.txt', delim_whitespace=True,header=0, index_col=[0,1,2])"
   ]
  },
  {
   "cell_type": "code",
   "execution_count": 8,
   "id": "48a4b61e-dbc6-47e1-8318-b842855b97da",
   "metadata": {
    "tags": []
   },
   "outputs": [
    {
     "data": {
      "text/html": [
       "<div>\n",
       "<style scoped>\n",
       "    .dataframe tbody tr th:only-of-type {\n",
       "        vertical-align: middle;\n",
       "    }\n",
       "\n",
       "    .dataframe tbody tr th {\n",
       "        vertical-align: top;\n",
       "    }\n",
       "\n",
       "    .dataframe thead th {\n",
       "        text-align: right;\n",
       "    }\n",
       "</style>\n",
       "<table border=\"1\" class=\"dataframe\">\n",
       "  <thead>\n",
       "    <tr style=\"text-align: right;\">\n",
       "      <th></th>\n",
       "      <th></th>\n",
       "      <th></th>\n",
       "      <th>rate</th>\n",
       "    </tr>\n",
       "    <tr>\n",
       "      <th>year</th>\n",
       "      <th>mon</th>\n",
       "      <th>day</th>\n",
       "      <th></th>\n",
       "    </tr>\n",
       "  </thead>\n",
       "  <tbody>\n",
       "    <tr>\n",
       "      <th rowspan=\"5\" valign=\"top\">1962</th>\n",
       "      <th rowspan=\"4\" valign=\"top\">1</th>\n",
       "      <th>5</th>\n",
       "      <td>3.24</td>\n",
       "    </tr>\n",
       "    <tr>\n",
       "      <th>12</th>\n",
       "      <td>3.32</td>\n",
       "    </tr>\n",
       "    <tr>\n",
       "      <th>19</th>\n",
       "      <td>3.29</td>\n",
       "    </tr>\n",
       "    <tr>\n",
       "      <th>26</th>\n",
       "      <td>3.26</td>\n",
       "    </tr>\n",
       "    <tr>\n",
       "      <th>2</th>\n",
       "      <th>2</th>\n",
       "      <td>3.29</td>\n",
       "    </tr>\n",
       "    <tr>\n",
       "      <th>...</th>\n",
       "      <th>...</th>\n",
       "      <th>...</th>\n",
       "      <td>...</td>\n",
       "    </tr>\n",
       "    <tr>\n",
       "      <th rowspan=\"5\" valign=\"top\">2009</th>\n",
       "      <th rowspan=\"3\" valign=\"top\">3</th>\n",
       "      <th>13</th>\n",
       "      <td>0.70</td>\n",
       "    </tr>\n",
       "    <tr>\n",
       "      <th>20</th>\n",
       "      <td>0.64</td>\n",
       "    </tr>\n",
       "    <tr>\n",
       "      <th>27</th>\n",
       "      <td>0.59</td>\n",
       "    </tr>\n",
       "    <tr>\n",
       "      <th rowspan=\"2\" valign=\"top\">4</th>\n",
       "      <th>3</th>\n",
       "      <td>0.58</td>\n",
       "    </tr>\n",
       "    <tr>\n",
       "      <th>10</th>\n",
       "      <td>0.60</td>\n",
       "    </tr>\n",
       "  </tbody>\n",
       "</table>\n",
       "<p>2467 rows × 1 columns</p>\n",
       "</div>"
      ],
      "text/plain": [
       "              rate\n",
       "year mon day      \n",
       "1962 1   5    3.24\n",
       "         12   3.32\n",
       "         19   3.29\n",
       "         26   3.26\n",
       "     2   2    3.29\n",
       "...            ...\n",
       "2009 3   13   0.70\n",
       "         20   0.64\n",
       "         27   0.59\n",
       "     4   3    0.58\n",
       "         10   0.60\n",
       "\n",
       "[2467 rows x 1 columns]"
      ]
     },
     "execution_count": 8,
     "metadata": {},
     "output_type": "execute_result"
    }
   ],
   "source": [
    "r1_data"
   ]
  },
  {
   "cell_type": "code",
   "execution_count": 9,
   "id": "c46dc641-a3e4-4eb6-a02f-5b39e58f61b0",
   "metadata": {
    "tags": []
   },
   "outputs": [
    {
     "data": {
      "text/html": [
       "<div>\n",
       "<style scoped>\n",
       "    .dataframe tbody tr th:only-of-type {\n",
       "        vertical-align: middle;\n",
       "    }\n",
       "\n",
       "    .dataframe tbody tr th {\n",
       "        vertical-align: top;\n",
       "    }\n",
       "\n",
       "    .dataframe thead th {\n",
       "        text-align: right;\n",
       "    }\n",
       "</style>\n",
       "<table border=\"1\" class=\"dataframe\">\n",
       "  <thead>\n",
       "    <tr style=\"text-align: right;\">\n",
       "      <th></th>\n",
       "      <th></th>\n",
       "      <th></th>\n",
       "      <th>rate</th>\n",
       "    </tr>\n",
       "    <tr>\n",
       "      <th>year</th>\n",
       "      <th>mon</th>\n",
       "      <th>day</th>\n",
       "      <th></th>\n",
       "    </tr>\n",
       "  </thead>\n",
       "  <tbody>\n",
       "    <tr>\n",
       "      <th rowspan=\"5\" valign=\"top\">1962</th>\n",
       "      <th rowspan=\"4\" valign=\"top\">1</th>\n",
       "      <th>5</th>\n",
       "      <td>3.70</td>\n",
       "    </tr>\n",
       "    <tr>\n",
       "      <th>12</th>\n",
       "      <td>3.75</td>\n",
       "    </tr>\n",
       "    <tr>\n",
       "      <th>19</th>\n",
       "      <td>3.80</td>\n",
       "    </tr>\n",
       "    <tr>\n",
       "      <th>26</th>\n",
       "      <td>3.77</td>\n",
       "    </tr>\n",
       "    <tr>\n",
       "      <th>2</th>\n",
       "      <th>2</th>\n",
       "      <td>3.80</td>\n",
       "    </tr>\n",
       "    <tr>\n",
       "      <th>...</th>\n",
       "      <th>...</th>\n",
       "      <th>...</th>\n",
       "      <td>...</td>\n",
       "    </tr>\n",
       "    <tr>\n",
       "      <th rowspan=\"5\" valign=\"top\">2009</th>\n",
       "      <th rowspan=\"3\" valign=\"top\">3</th>\n",
       "      <th>13</th>\n",
       "      <td>1.41</td>\n",
       "    </tr>\n",
       "    <tr>\n",
       "      <th>20</th>\n",
       "      <td>1.28</td>\n",
       "    </tr>\n",
       "    <tr>\n",
       "      <th>27</th>\n",
       "      <td>1.28</td>\n",
       "    </tr>\n",
       "    <tr>\n",
       "      <th rowspan=\"2\" valign=\"top\">4</th>\n",
       "      <th>3</th>\n",
       "      <td>1.22</td>\n",
       "    </tr>\n",
       "    <tr>\n",
       "      <th>10</th>\n",
       "      <td>1.35</td>\n",
       "    </tr>\n",
       "  </tbody>\n",
       "</table>\n",
       "<p>2467 rows × 1 columns</p>\n",
       "</div>"
      ],
      "text/plain": [
       "              rate\n",
       "year mon day      \n",
       "1962 1   5    3.70\n",
       "         12   3.75\n",
       "         19   3.80\n",
       "         26   3.77\n",
       "     2   2    3.80\n",
       "...            ...\n",
       "2009 3   13   1.41\n",
       "         20   1.28\n",
       "         27   1.28\n",
       "     4   3    1.22\n",
       "         10   1.35\n",
       "\n",
       "[2467 rows x 1 columns]"
      ]
     },
     "execution_count": 9,
     "metadata": {},
     "output_type": "execute_result"
    }
   ],
   "source": [
    "r3_data"
   ]
  },
  {
   "cell_type": "code",
   "execution_count": 13,
   "id": "f0a226da-dd01-4641-8b99-0015caee7d47",
   "metadata": {
    "tags": []
   },
   "outputs": [],
   "source": [
    "# Extract the fourth column which contains the interest rates\n",
    "r1 = r1_data.iloc[:, 0]\n",
    "r3 = r3_data.iloc[:, 0]"
   ]
  },
  {
   "cell_type": "code",
   "execution_count": 16,
   "id": "79668031-f930-49cd-bcc3-634ad7dcb352",
   "metadata": {
    "tags": []
   },
   "outputs": [
    {
     "name": "stdout",
     "output_type": "stream",
     "text": [
      "year  mon  day\n",
      "1962  1    5      3.24\n",
      "           12     3.32\n",
      "           19     3.29\n",
      "           26     3.26\n",
      "      2    2      3.29\n",
      "                  ... \n",
      "2009  3    13     0.70\n",
      "           20     0.64\n",
      "           27     0.59\n",
      "      4    3      0.58\n",
      "           10     0.60\n",
      "Name: rate, Length: 2467, dtype: float64 year  mon  day\n",
      "1962  1    5      3.70\n",
      "           12     3.75\n",
      "           19     3.80\n",
      "           26     3.77\n",
      "      2    2      3.80\n",
      "                  ... \n",
      "2009  3    13     1.41\n",
      "           20     1.28\n",
      "           27     1.28\n",
      "      4    3      1.22\n",
      "           10     1.35\n",
      "Name: rate, Length: 2467, dtype: float64\n"
     ]
    }
   ],
   "source": [
    "print(r1, r3)"
   ]
  },
  {
   "cell_type": "code",
   "execution_count": 19,
   "id": "83c0bf1d-a383-4def-86e0-057cfaf23381",
   "metadata": {
    "tags": []
   },
   "outputs": [
    {
     "data": {
      "text/html": [
       "<div>\n",
       "<style scoped>\n",
       "    .dataframe tbody tr th:only-of-type {\n",
       "        vertical-align: middle;\n",
       "    }\n",
       "\n",
       "    .dataframe tbody tr th {\n",
       "        vertical-align: top;\n",
       "    }\n",
       "\n",
       "    .dataframe thead th {\n",
       "        text-align: right;\n",
       "    }\n",
       "</style>\n",
       "<table border=\"1\" class=\"dataframe\">\n",
       "  <thead>\n",
       "    <tr style=\"text-align: right;\">\n",
       "      <th></th>\n",
       "      <th></th>\n",
       "      <th></th>\n",
       "      <th>const</th>\n",
       "      <th>rate</th>\n",
       "    </tr>\n",
       "    <tr>\n",
       "      <th>year</th>\n",
       "      <th>mon</th>\n",
       "      <th>day</th>\n",
       "      <th></th>\n",
       "      <th></th>\n",
       "    </tr>\n",
       "  </thead>\n",
       "  <tbody>\n",
       "    <tr>\n",
       "      <th rowspan=\"5\" valign=\"top\">1962</th>\n",
       "      <th rowspan=\"4\" valign=\"top\">1</th>\n",
       "      <th>5</th>\n",
       "      <td>1.0</td>\n",
       "      <td>3.24</td>\n",
       "    </tr>\n",
       "    <tr>\n",
       "      <th>12</th>\n",
       "      <td>1.0</td>\n",
       "      <td>3.32</td>\n",
       "    </tr>\n",
       "    <tr>\n",
       "      <th>19</th>\n",
       "      <td>1.0</td>\n",
       "      <td>3.29</td>\n",
       "    </tr>\n",
       "    <tr>\n",
       "      <th>26</th>\n",
       "      <td>1.0</td>\n",
       "      <td>3.26</td>\n",
       "    </tr>\n",
       "    <tr>\n",
       "      <th>2</th>\n",
       "      <th>2</th>\n",
       "      <td>1.0</td>\n",
       "      <td>3.29</td>\n",
       "    </tr>\n",
       "    <tr>\n",
       "      <th>...</th>\n",
       "      <th>...</th>\n",
       "      <th>...</th>\n",
       "      <td>...</td>\n",
       "      <td>...</td>\n",
       "    </tr>\n",
       "    <tr>\n",
       "      <th rowspan=\"5\" valign=\"top\">2009</th>\n",
       "      <th rowspan=\"3\" valign=\"top\">3</th>\n",
       "      <th>13</th>\n",
       "      <td>1.0</td>\n",
       "      <td>0.70</td>\n",
       "    </tr>\n",
       "    <tr>\n",
       "      <th>20</th>\n",
       "      <td>1.0</td>\n",
       "      <td>0.64</td>\n",
       "    </tr>\n",
       "    <tr>\n",
       "      <th>27</th>\n",
       "      <td>1.0</td>\n",
       "      <td>0.59</td>\n",
       "    </tr>\n",
       "    <tr>\n",
       "      <th rowspan=\"2\" valign=\"top\">4</th>\n",
       "      <th>3</th>\n",
       "      <td>1.0</td>\n",
       "      <td>0.58</td>\n",
       "    </tr>\n",
       "    <tr>\n",
       "      <th>10</th>\n",
       "      <td>1.0</td>\n",
       "      <td>0.60</td>\n",
       "    </tr>\n",
       "  </tbody>\n",
       "</table>\n",
       "<p>2467 rows × 2 columns</p>\n",
       "</div>"
      ],
      "text/plain": [
       "              const  rate\n",
       "year mon day             \n",
       "1962 1   5      1.0  3.24\n",
       "         12     1.0  3.32\n",
       "         19     1.0  3.29\n",
       "         26     1.0  3.26\n",
       "     2   2      1.0  3.29\n",
       "...             ...   ...\n",
       "2009 3   13     1.0  0.70\n",
       "         20     1.0  0.64\n",
       "         27     1.0  0.59\n",
       "     4   3      1.0  0.58\n",
       "         10     1.0  0.60\n",
       "\n",
       "[2467 rows x 2 columns]"
      ]
     },
     "execution_count": 19,
     "metadata": {},
     "output_type": "execute_result"
    }
   ],
   "source": [
    "# Perform linear regression of r3 on r1\n",
    "X = sm.add_constant(r1)  # Adds a constant term to the predictor\n",
    "m1 = sm.OLS(r3, X).fit()\n",
    "X"
   ]
  },
  {
   "cell_type": "code",
   "execution_count": 20,
   "id": "59c67740-5446-40da-b785-cfbd345df369",
   "metadata": {
    "tags": []
   },
   "outputs": [
    {
     "name": "stdout",
     "output_type": "stream",
     "text": [
      "                            OLS Regression Results                            \n",
      "==============================================================================\n",
      "Dep. Variable:                   rate   R-squared:                       0.965\n",
      "Model:                            OLS   Adj. R-squared:                  0.965\n",
      "Method:                 Least Squares   F-statistic:                 6.781e+04\n",
      "Date:                Tue, 16 Jan 2024   Prob (F-statistic):               0.00\n",
      "Time:                        23:45:09   Log-Likelihood:                -1899.6\n",
      "No. Observations:                2467   AIC:                             3803.\n",
      "Df Residuals:                    2465   BIC:                             3815.\n",
      "Df Model:                           1                                         \n",
      "Covariance Type:            nonrobust                                         \n",
      "==============================================================================\n",
      "                 coef    std err          t      P>|t|      [0.025      0.975]\n",
      "------------------------------------------------------------------------------\n",
      "const          0.8321      0.024     34.432      0.000       0.785       0.880\n",
      "rate           0.9295      0.004    260.404      0.000       0.923       0.937\n",
      "==============================================================================\n",
      "Omnibus:                       10.775   Durbin-Watson:                   0.020\n",
      "Prob(Omnibus):                  0.005   Jarque-Bera (JB):                8.257\n",
      "Skew:                           0.020   Prob(JB):                       0.0161\n",
      "Kurtosis:                       2.720   Cond. No.                         15.8\n",
      "==============================================================================\n",
      "\n",
      "Notes:\n",
      "[1] Standard Errors assume that the covariance matrix of the errors is correctly specified.\n"
     ]
    }
   ],
   "source": [
    "# Print the summary of the linear regression model\n",
    "print(m1.summary())"
   ]
  },
  {
   "cell_type": "code",
   "execution_count": 22,
   "id": "803a1b71-201d-4ef2-a8e4-61c58728469d",
   "metadata": {
    "tags": []
   },
   "outputs": [
    {
     "data": {
      "text/plain": [
       "year  mon  day\n",
       "1962  1    5     -0.143866\n",
       "           12    -0.168229\n",
       "           19    -0.090343\n",
       "           26    -0.092457\n",
       "      2    2     -0.090343\n",
       "                    ...   \n",
       "2009  3    13    -0.072820\n",
       "           20    -0.147047\n",
       "           27    -0.100570\n",
       "      4    3     -0.151274\n",
       "           10    -0.039865\n",
       "Length: 2467, dtype: float64"
      ]
     },
     "execution_count": 22,
     "metadata": {},
     "output_type": "execute_result"
    }
   ],
   "source": [
    "m1.resid"
   ]
  },
  {
   "cell_type": "code",
   "execution_count": 28,
   "id": "92561f97-ac72-4de3-ae73-6b74c475a038",
   "metadata": {
    "tags": []
   },
   "outputs": [
    {
     "data": {
      "image/png": "[encoded data removed]",
      "text/plain": [
       "<Figure size 1000x500 with 1 Axes>"
      ]
     },
     "metadata": {},
     "output_type": "display_data"
    }
   ],
   "source": [
    "# Plot the residuals of the first model\n",
    "plt.figure(figsize=(10, 5))\n",
    "plt.plot(list(m1.resid))\n",
    "plt.title('Residuals of Linear Regression Model')\n",
    "plt.xlabel('Time')\n",
    "plt.ylabel('Residuals')\n",
    "plt.show()"
   ]
  },
  {
   "cell_type": "code",
   "execution_count": 29,
   "id": "8c7166bb-8ed2-4329-82c2-1aa8b7dddcb7",
   "metadata": {
    "tags": []
   },
   "outputs": [
    {
     "data": {
      "image/png": "[encoded data removed]",
      "text/plain": [
       "<Figure size 640x480 with 1 Axes>"
      ]
     },
     "metadata": {},
     "output_type": "display_data"
    }
   ],
   "source": [
    "# Calculate the ACF of the residuals of the first model\n",
    "plot_acf(list(m1.resid), lags=36)\n",
    "plt.show()"
   ]
  },
  {
   "cell_type": "code",
   "execution_count": 33,
   "id": "28bced43-174d-4450-935d-2e8b469c58ff",
   "metadata": {
    "tags": []
   },
   "outputs": [
    {
     "name": "stdout",
     "output_type": "stream",
     "text": [
      "                                 OLS Regression Results                                \n",
      "=======================================================================================\n",
      "Dep. Variable:                      y   R-squared (uncentered):                   0.825\n",
      "Model:                            OLS   Adj. R-squared (uncentered):              0.825\n",
      "Method:                 Least Squares   F-statistic:                          1.165e+04\n",
      "Date:                Tue, 16 Jan 2024   Prob (F-statistic):                        0.00\n",
      "Time:                        23:49:23   Log-Likelihood:                          3096.0\n",
      "No. Observations:                2466   AIC:                                     -6190.\n",
      "Df Residuals:                    2465   BIC:                                     -6184.\n",
      "Df Model:                           1                                                  \n",
      "Covariance Type:            nonrobust                                                  \n",
      "==============================================================================\n",
      "                 coef    std err          t      P>|t|      [0.025      0.975]\n",
      "------------------------------------------------------------------------------\n",
      "x1             0.7919      0.007    107.930      0.000       0.778       0.806\n",
      "==============================================================================\n",
      "Omnibus:                      233.811   Durbin-Watson:                   1.646\n",
      "Prob(Omnibus):                  0.000   Jarque-Bera (JB):             1644.653\n",
      "Skew:                           0.070   Prob(JB):                         0.00\n",
      "Kurtosis:                       6.998   Cond. No.                         1.00\n",
      "==============================================================================\n",
      "\n",
      "Notes:\n",
      "[1] R² is computed without centering (uncentered) since the model does not contain a constant.\n",
      "[2] Standard Errors assume that the covariance matrix of the errors is correctly specified.\n"
     ]
    }
   ],
   "source": [
    "# Perform linear regression on the differenced series\n",
    "c1 = np.diff(r1)\n",
    "c3 = np.diff(r3)\n",
    "# Note: We cannot use sm.add_constant here because we are not including an intercept in the model\n",
    "m2 = sm.OLS(c3, c1).fit()\n",
    "# Print the summary of the linear regression model without intercept\n",
    "print(m2.summary())"
   ]
  },
  {
   "cell_type": "code",
   "execution_count": 34,
   "id": "198648fd-3877-49b7-8f77-3a0e0fccae16",
   "metadata": {
    "tags": []
   },
   "outputs": [
    {
     "data": {
      "image/png": "[encoded data removed]",
      "text/plain": [
       "<Figure size 640x480 with 1 Axes>"
      ]
     },
     "metadata": {},
     "output_type": "display_data"
    }
   ],
   "source": [
    "# Calculate the ACF of the residuals of the second model\n",
    "plot_acf(m2.resid, lags=36)\n",
    "plt.show()"
   ]
  },
  {
   "cell_type": "code",
   "execution_count": 35,
   "id": "9af3b8fc-12bc-4e7d-8ada-1da7d5296121",
   "metadata": {
    "tags": []
   },
   "outputs": [
    {
     "name": "stdout",
     "output_type": "stream",
     "text": [
      "                               SARIMAX Results                                \n",
      "==============================================================================\n",
      "Dep. Variable:                      y   No. Observations:                 2466\n",
      "Model:                 ARIMA(0, 0, 1)   Log Likelihood                3136.615\n",
      "Date:                Tue, 16 Jan 2024   AIC                          -6267.231\n",
      "Time:                        23:49:38   BIC                          -6249.800\n",
      "Sample:                             0   HQIC                         -6260.898\n",
      "                               - 2466                                         \n",
      "Covariance Type:                  opg                                         \n",
      "==============================================================================\n",
      "                 coef    std err          z      P>|z|      [0.025      0.975]\n",
      "------------------------------------------------------------------------------\n",
      "x1             0.7936      0.003    227.292      0.000       0.787       0.800\n",
      "ma.L1          0.1824      0.013     13.699      0.000       0.156       0.208\n",
      "sigma2         0.0046   7.66e-05     60.017      0.000       0.004       0.005\n",
      "===================================================================================\n",
      "Ljung-Box (L1) (Q):                   0.00   Jarque-Bera (JB):              1792.46\n",
      "Prob(Q):                              0.97   Prob(JB):                         0.00\n",
      "Heteroskedasticity (H):               1.19   Skew:                             0.10\n",
      "Prob(H) (two-sided):                  0.01   Kurtosis:                         7.17\n",
      "===================================================================================\n",
      "\n",
      "Warnings:\n",
      "[1] Covariance matrix calculated using the outer product of gradients (complex-step).\n"
     ]
    }
   ],
   "source": [
    "# Fit an ARIMA model to the differenced 3-year rates with differenced 1-year rates as exogenous variable\n",
    "m3 = ARIMA(c3, order=(0, 0, 1), exog=c1, trend='n').fit()\n",
    "# Print the ARIMA model summary\n",
    "print(m3.summary())"
   ]
  },
  {
   "cell_type": "code",
   "execution_count": 36,
   "id": "6572e437-372c-4e00-81da-5b439fa843b8",
   "metadata": {
    "tags": []
   },
   "outputs": [
    {
     "data": {
      "text/plain": [
       "0.8310074720291265"
      ]
     },
     "execution_count": 36,
     "metadata": {},
     "output_type": "execute_result"
    }
   ],
   "source": [
    "# Calculate the R-squared value\n",
    "rsq = (np.sum(c3 ** 2) - np.sum(m3.resid ** 2)) / np.sum(c3 ** 2)\n",
    "rsq"
   ]
  }
 ],
 "metadata": {
  "kernelspec": {
   "display_name": "Python 3 (ipykernel)",
   "language": "python",
   "name": "python3"
  },
  "language_info": {
   "codemirror_mode": {
    "name": "ipython",
    "version": 3
   },
   "file_extension": ".py",
   "mimetype": "text/x-python",
   "name": "python",
   "nbconvert_exporter": "python",
   "pygments_lexer": "ipython3",
   "version": "3.11.4"
  }
 },
 "nbformat": 4,
 "nbformat_minor": 5
}
