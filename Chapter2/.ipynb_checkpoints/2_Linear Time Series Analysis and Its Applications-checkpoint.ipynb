{
 "cells": [
  {
   "cell_type": "markdown",
   "id": "cbfbf794-695a-45f1-8a73-03018c394b91",
   "metadata": {},
   "source": [
    "# Linear Time Series Analysis and Its Applications"
   ]
  },
  {
   "cell_type": "markdown",
   "id": "5ce176f8-009f-4071-b9f2-b5a099929103",
   "metadata": {},
   "source": [
    "## A. Page 35. Example"
   ]
  },
  {
   "cell_type": "markdown",
   "id": "7678a1eb-5349-4b2b-90c6-abf50bfda586",
   "metadata": {},
   "source": [
    "## A-1. Load data\n",
    "Replace 'path_to_file.txt' with your file path"
   ]
  },
  {
   "cell_type": "code",
   "execution_count": 12,
   "id": "05e53929-c695-484b-8a52-3c71a34b66b2",
   "metadata": {},
   "outputs": [],
   "source": [
    "import pandas as pd\n",
    "from scipy.stats import boxcox\n",
    "import numpy as np\n",
    "from statsmodels.stats.diagnostic import acorr_ljungbox\n",
    "\n",
    "data = pd.read_csv('m-ibm3dx2608.txt')"
   ]
  },
  {
   "cell_type": "code",
   "execution_count": 18,
   "id": "7fae0131-283e-42bb-a150-d47bc9a25ab2",
   "metadata": {
    "tags": []
   },
   "outputs": [
    {
     "data": {
      "text/html": [
       "<div>\n",
       "<style scoped>\n",
       "    .dataframe tbody tr th:only-of-type {\n",
       "        vertical-align: middle;\n",
       "    }\n",
       "\n",
       "    .dataframe tbody tr th {\n",
       "        vertical-align: top;\n",
       "    }\n",
       "\n",
       "    .dataframe thead th {\n",
       "        text-align: right;\n",
       "    }\n",
       "</style>\n",
       "<table border=\"1\" class=\"dataframe\">\n",
       "  <thead>\n",
       "    <tr style=\"text-align: right;\">\n",
       "      <th></th>\n",
       "      <th>date            ibmrtn           vwrtn         ewrtn         sprtn</th>\n",
       "    </tr>\n",
       "  </thead>\n",
       "  <tbody>\n",
       "    <tr>\n",
       "      <th>0</th>\n",
       "      <td>19260130      -0.010381      0.000724      0.0...</td>\n",
       "    </tr>\n",
       "    <tr>\n",
       "      <th>1</th>\n",
       "      <td>19260227      -0.024476     -0.033374     -0.0...</td>\n",
       "    </tr>\n",
       "    <tr>\n",
       "      <th>2</th>\n",
       "      <td>19260331      -0.115591     -0.064341     -0.0...</td>\n",
       "    </tr>\n",
       "    <tr>\n",
       "      <th>3</th>\n",
       "      <td>19260430       0.089783      0.038358      0.0...</td>\n",
       "    </tr>\n",
       "    <tr>\n",
       "      <th>4</th>\n",
       "      <td>19260528       0.036932      0.012172      0.0...</td>\n",
       "    </tr>\n",
       "    <tr>\n",
       "      <th>...</th>\n",
       "      <td>...</td>\n",
       "    </tr>\n",
       "    <tr>\n",
       "      <th>991</th>\n",
       "      <td>20080829      -0.044929      0.011042      0.0...</td>\n",
       "    </tr>\n",
       "    <tr>\n",
       "      <th>992</th>\n",
       "      <td>20080930      -0.039185     -0.098060     -0.1...</td>\n",
       "    </tr>\n",
       "    <tr>\n",
       "      <th>993</th>\n",
       "      <td>20081031      -0.205113     -0.184726     -0.2...</td>\n",
       "    </tr>\n",
       "    <tr>\n",
       "      <th>994</th>\n",
       "      <td>20081128      -0.116919     -0.085206     -0.1...</td>\n",
       "    </tr>\n",
       "    <tr>\n",
       "      <th>995</th>\n",
       "      <td>20081231       0.031373      0.021482      0.0...</td>\n",
       "    </tr>\n",
       "  </tbody>\n",
       "</table>\n",
       "<p>996 rows × 1 columns</p>\n",
       "</div>"
      ],
      "text/plain": [
       "    date            ibmrtn           vwrtn         ewrtn         sprtn\n",
       "0    19260130      -0.010381      0.000724      0.0...                \n",
       "1    19260227      -0.024476     -0.033374     -0.0...                \n",
       "2    19260331      -0.115591     -0.064341     -0.0...                \n",
       "3    19260430       0.089783      0.038358      0.0...                \n",
       "4    19260528       0.036932      0.012172      0.0...                \n",
       "..                                                 ...                \n",
       "991  20080829      -0.044929      0.011042      0.0...                \n",
       "992  20080930      -0.039185     -0.098060     -0.1...                \n",
       "993  20081031      -0.205113     -0.184726     -0.2...                \n",
       "994  20081128      -0.116919     -0.085206     -0.1...                \n",
       "995  20081231       0.031373      0.021482      0.0...                \n",
       "\n",
       "[996 rows x 1 columns]"
      ]
     },
     "execution_count": 18,
     "metadata": {},
     "output_type": "execute_result"
    }
   ],
   "source": [
    "data"
   ]
  },
  {
   "cell_type": "markdown",
   "id": "9afadc79-ae61-4aae-bdfa-dcb75d56ba5f",
   "metadata": {
    "tags": []
   },
   "source": [
    "## A-2. Ljung-Box test (lag=5)"
   ]
  },
  {
   "cell_type": "code",
   "execution_count": null,
   "id": "64721771-850a-45e3-b45e-1a7af2bfaa2a",
   "metadata": {},
   "outputs": [],
   "source": []
  }
 ],
 "metadata": {
  "kernelspec": {
   "display_name": "Python 3 (ipykernel)",
   "language": "python",
   "name": "python3"
  },
  "language_info": {
   "codemirror_mode": {
    "name": "ipython",
    "version": 3
   },
   "file_extension": ".py",
   "mimetype": "text/x-python",
   "name": "python",
   "nbconvert_exporter": "python",
   "pygments_lexer": "ipython3",
   "version": "3.11.4"
  }
 },
 "nbformat": 4,
 "nbformat_minor": 5
}
