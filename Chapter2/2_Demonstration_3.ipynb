{
 "cells": [
  {
   "cell_type": "markdown",
   "id": "66a97d61-8390-4bfa-b5a6-b267a6dbe445",
   "metadata": {},
   "source": [
    "# Chapter2 Demonstration3"
   ]
  },
  {
   "cell_type": "markdown",
   "id": "6ecfa0a4-cc02-4ecd-abb7-4fa4d31908d9",
   "metadata": {},
   "source": [
    "2 - (2) Growth rate of U.S. quarterly real GNP\n",
    "\n",
    "Data: `dgnp82.txt`\n",
    "\n",
    "Page 49"
   ]
  },
  {
   "cell_type": "code",
   "execution_count": 1,
   "id": "5ca6de6b-68fa-4652-b13b-23baa74310ed",
   "metadata": {
    "tags": []
   },
   "outputs": [
    {
     "data": {
      "text/html": [
       "<div>\n",
       "<style scoped>\n",
       "    .dataframe tbody tr th:only-of-type {\n",
       "        vertical-align: middle;\n",
       "    }\n",
       "\n",
       "    .dataframe tbody tr th {\n",
       "        vertical-align: top;\n",
       "    }\n",
       "\n",
       "    .dataframe thead th {\n",
       "        text-align: right;\n",
       "    }\n",
       "</style>\n",
       "<table border=\"1\" class=\"dataframe\">\n",
       "  <thead>\n",
       "    <tr style=\"text-align: right;\">\n",
       "      <th></th>\n",
       "      <th>gnp</th>\n",
       "    </tr>\n",
       "  </thead>\n",
       "  <tbody>\n",
       "    <tr>\n",
       "      <th>0</th>\n",
       "      <td>0.00632</td>\n",
       "    </tr>\n",
       "    <tr>\n",
       "      <th>1</th>\n",
       "      <td>0.00366</td>\n",
       "    </tr>\n",
       "    <tr>\n",
       "      <th>2</th>\n",
       "      <td>0.01202</td>\n",
       "    </tr>\n",
       "    <tr>\n",
       "      <th>3</th>\n",
       "      <td>0.00627</td>\n",
       "    </tr>\n",
       "    <tr>\n",
       "      <th>4</th>\n",
       "      <td>0.01761</td>\n",
       "    </tr>\n",
       "    <tr>\n",
       "      <th>...</th>\n",
       "      <td>...</td>\n",
       "    </tr>\n",
       "    <tr>\n",
       "      <th>171</th>\n",
       "      <td>0.00420</td>\n",
       "    </tr>\n",
       "    <tr>\n",
       "      <th>172</th>\n",
       "      <td>0.00108</td>\n",
       "    </tr>\n",
       "    <tr>\n",
       "      <th>173</th>\n",
       "      <td>0.00358</td>\n",
       "    </tr>\n",
       "    <tr>\n",
       "      <th>174</th>\n",
       "      <td>-0.00399</td>\n",
       "    </tr>\n",
       "    <tr>\n",
       "      <th>175</th>\n",
       "      <td>-0.00650</td>\n",
       "    </tr>\n",
       "  </tbody>\n",
       "</table>\n",
       "<p>176 rows × 1 columns</p>\n",
       "</div>"
      ],
      "text/plain": [
       "         gnp\n",
       "0    0.00632\n",
       "1    0.00366\n",
       "2    0.01202\n",
       "3    0.00627\n",
       "4    0.01761\n",
       "..       ...\n",
       "171  0.00420\n",
       "172  0.00108\n",
       "173  0.00358\n",
       "174 -0.00399\n",
       "175 -0.00650\n",
       "\n",
       "[176 rows x 1 columns]"
      ]
     },
     "execution_count": 1,
     "metadata": {},
     "output_type": "execute_result"
    }
   ],
   "source": [
    "import pandas as pd\n",
    "from statsmodels.tsa.ar_model import AutoReg\n",
    "import numpy as np\n",
    "\n",
    "# Load the data\n",
    "# same as q-gnp4791.txt\n",
    "gnp = pd.read_csv('./data/dgnp82.txt', delim_whitespace=True,names=['gnp'])\n",
    "gnp"
   ]
  },
  {
   "cell_type": "code",
   "execution_count": 2,
   "id": "b8018ff7-aaed-4ed7-82e0-b32418d95afc",
   "metadata": {
    "tags": []
   },
   "outputs": [
    {
     "name": "stdout",
     "output_type": "stream",
     "text": [
      "AIC: -1046.1428454223935\n",
      "Order of the model: 10\n"
     ]
    }
   ],
   "source": [
    "# Fit an AR model using MLE\n",
    "# The maxlag parameter might need to be adjusted\n",
    "model = AutoReg(gnp, lags=10, old_names=False).fit()\n",
    "\n",
    "# Retrieve the AIC and the order of the model\n",
    "aic_value = model.aic\n",
    "model_order = model.ar_lags[-1] if model.ar_lags else 0 # Number of lags used in the model\n",
    "\n",
    "print(\"AIC:\", aic_value)\n",
    "print(\"Order of the model:\", model_order)"
   ]
  }
 ],
 "metadata": {
  "kernelspec": {
   "display_name": "Python 3 (ipykernel)",
   "language": "python",
   "name": "python3"
  },
  "language_info": {
   "codemirror_mode": {
    "name": "ipython",
    "version": 3
   },
   "file_extension": ".py",
   "mimetype": "text/x-python",
   "name": "python",
   "nbconvert_exporter": "python",
   "pygments_lexer": "ipython3",
   "version": "3.11.4"
  }
 },
 "nbformat": 4,
 "nbformat_minor": 5
}
