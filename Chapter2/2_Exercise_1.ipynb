{
 "cells": [
  {
   "cell_type": "markdown",
   "id": "85a89fcf-f5ba-41f8-b623-ca7226cf3391",
   "metadata": {},
   "source": [
    "# Chapter2 Exercise1"
   ]
  },
  {
   "cell_type": "markdown",
   "id": "961b53cb-68a3-488b-8809-f8d017f09b30",
   "metadata": {},
   "source": [
    "Page 104"
   ]
  },
  {
   "cell_type": "markdown",
   "id": "1a5a2239-8946-47b3-9264-830c5616b2f6",
   "metadata": {},
   "source": [
    "2-Exercise-1.\n",
    "\n",
    "Suppose that the simple return of a monthly bond index follows the MA(1)\n",
    "model\n",
    "\n",
    "$$\n",
    "R_t = a_t + 0.2a_{t-1}, \\quad \\sigma_a = 0.025.\n",
    "$$\n",
    "\n",
    "Assume that a100 = 0.01. Compute the 1-step- and 2-step-ahead forecasts\n",
    "of the return at the forecast origin t = 100. What are the standard devia\u0002tions of the associated forecast errors? Also compute the lag-1 and lag-2\n",
    "autocorrelations of the return series"
   ]
  },
  {
   "cell_type": "markdown",
   "id": "79202137-7758-49f9-8bc4-90166434103d",
   "metadata": {},
   "source": [
    "\n",
    "where `σ_a = 0.025` and `a_100 = 0.01`. Here's how we compute the forecasts and the standard deviations of the associated forecast errors, as well as the autocorrelations of the return series.\n",
    "\n",
    "## Forecasts\n",
    "\n",
    "- **1-Step-Ahead Forecast at t = 100:**\n",
    "  - Forecast: `0.002` (or `0.2%`)\n",
    "  - Standard Deviation of Forecast Error: `0.025` (or `2.5%`)\n",
    "\n",
    "- **2-Step-Ahead Forecast at t = 100:**\n",
    "  - Forecast: `0` (since we expect `a_t` to be zero)\n",
    "  - Standard Deviation of Forecast Error: Calculated as `sqrt(0.025^2 + (0.2 * 0.025)^2)`\n",
    "\n",
    "## Autocorrelations\n",
    "\n",
    "- **Lag-1 Autocorrelation:**\n",
    "  - Autocorrelation: `0.2`\n",
    "\n",
    "- **Lag-2 Autocorrelation:**\n",
    "  - Autocorrelation: `0` (Autocorrelation at lag 2 for MA(1) process is always 0)\n",
    "\n",
    "Please execute the provided Python code to verify the computations.\n"
   ]
  },
  {
   "cell_type": "code",
   "execution_count": 2,
   "id": "5d1f67a1-dd29-4700-91aa-541bb2f64e30",
   "metadata": {},
   "outputs": [],
   "source": [
    "import numpy as np"
   ]
  },
  {
   "cell_type": "code",
   "execution_count": 4,
   "id": "6b212777-56b2-4b59-bf9d-aa6cfd3b8c30",
   "metadata": {},
   "outputs": [
    {
     "data": {
      "text/plain": [
       "(0.002, 0.025, 0, 0.025495097567963927, 0.2, 0)"
      ]
     },
     "execution_count": 4,
     "metadata": {},
     "output_type": "execute_result"
    }
   ],
   "source": [
    "sigma_a = 0.025  # Standard deviation of a_t\n",
    "theta_1 = 0.2    # MA(1) coefficient\n",
    "a_100 = 0.01     # Given a_t at t=100\n",
    "\n",
    "# 1-step-ahead forecast\n",
    "forecast_1_step = theta_1 * a_100\n",
    "std_error_1_step = sigma_a  # Standard deviation of forecast error\n",
    "\n",
    "# 2-step-ahead forecast\n",
    "forecast_2_step = 0  # Because E[a_101] = 0 and we don't have information about a_101 at t=100\n",
    "std_error_2_step = np.sqrt(sigma_a**2 + (theta_1 * sigma_a)**2)\n",
    "\n",
    "# Autocorrelations\n",
    "autocorr_lag_1 = theta_1  # Autocorrelation at lag 1 for MA(1) process\n",
    "autocorr_lag_2 = 0        # Autocorrelation at lag 2 for MA(1) process is always 0\n",
    "\n",
    "# Output the results\n",
    "forecast_1_step, std_error_1_step, forecast_2_step, std_error_2_step, autocorr_lag_1, autocorr_lag_2\n"
   ]
  }
 ],
 "metadata": {
  "kernelspec": {
   "display_name": "Python 3 (ipykernel)",
   "language": "python",
   "name": "python3"
  },
  "language_info": {
   "codemirror_mode": {
    "name": "ipython",
    "version": 3
   },
   "file_extension": ".py",
   "mimetype": "text/x-python",
   "name": "python",
   "nbconvert_exporter": "python",
   "pygments_lexer": "ipython3",
   "version": "3.11.4"
  }
 },
 "nbformat": 4,
 "nbformat_minor": 5
}
