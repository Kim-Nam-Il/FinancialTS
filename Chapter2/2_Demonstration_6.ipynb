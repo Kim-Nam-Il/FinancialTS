{
 "cells": [
  {
   "cell_type": "markdown",
   "metadata": {},
   "source": [
    "# Chapter2 Demonstration6"
   ]
  },
  {
   "cell_type": "markdown",
   "metadata": {},
   "source": [
    "Data : ```d-sp55008.txt```\n",
    "\n",
    "Page 80"
   ]
  },
  {
   "cell_type": "code",
   "execution_count": 1,
   "metadata": {},
   "outputs": [
    {
     "data": {
      "text/html": [
       "<div>\n",
       "<style scoped>\n",
       "    .dataframe tbody tr th:only-of-type {\n",
       "        vertical-align: middle;\n",
       "    }\n",
       "\n",
       "    .dataframe tbody tr th {\n",
       "        vertical-align: top;\n",
       "    }\n",
       "\n",
       "    .dataframe thead th {\n",
       "        text-align: right;\n",
       "    }\n",
       "</style>\n",
       "<table border=\"1\" class=\"dataframe\">\n",
       "  <thead>\n",
       "    <tr style=\"text-align: right;\">\n",
       "      <th></th>\n",
       "      <th></th>\n",
       "      <th></th>\n",
       "      <th>open</th>\n",
       "      <th>high</th>\n",
       "      <th>low</th>\n",
       "      <th>close</th>\n",
       "      <th>volume</th>\n",
       "      <th>adjclose</th>\n",
       "    </tr>\n",
       "    <tr>\n",
       "      <th>year</th>\n",
       "      <th>mon</th>\n",
       "      <th>day</th>\n",
       "      <th></th>\n",
       "      <th></th>\n",
       "      <th></th>\n",
       "      <th></th>\n",
       "      <th></th>\n",
       "      <th></th>\n",
       "    </tr>\n",
       "  </thead>\n",
       "  <tbody>\n",
       "    <tr>\n",
       "      <th rowspan=\"5\" valign=\"top\">1950</th>\n",
       "      <th rowspan=\"5\" valign=\"top\">1</th>\n",
       "      <th>3</th>\n",
       "      <td>16.66</td>\n",
       "      <td>16.66</td>\n",
       "      <td>16.66</td>\n",
       "      <td>16.66</td>\n",
       "      <td>1260000</td>\n",
       "      <td>16.66</td>\n",
       "    </tr>\n",
       "    <tr>\n",
       "      <th>4</th>\n",
       "      <td>16.85</td>\n",
       "      <td>16.85</td>\n",
       "      <td>16.85</td>\n",
       "      <td>16.85</td>\n",
       "      <td>1890000</td>\n",
       "      <td>16.85</td>\n",
       "    </tr>\n",
       "    <tr>\n",
       "      <th>5</th>\n",
       "      <td>16.93</td>\n",
       "      <td>16.93</td>\n",
       "      <td>16.93</td>\n",
       "      <td>16.93</td>\n",
       "      <td>2550000</td>\n",
       "      <td>16.93</td>\n",
       "    </tr>\n",
       "    <tr>\n",
       "      <th>6</th>\n",
       "      <td>16.98</td>\n",
       "      <td>16.98</td>\n",
       "      <td>16.98</td>\n",
       "      <td>16.98</td>\n",
       "      <td>2010000</td>\n",
       "      <td>16.98</td>\n",
       "    </tr>\n",
       "    <tr>\n",
       "      <th>9</th>\n",
       "      <td>17.08</td>\n",
       "      <td>17.08</td>\n",
       "      <td>17.08</td>\n",
       "      <td>17.08</td>\n",
       "      <td>2520000</td>\n",
       "      <td>17.08</td>\n",
       "    </tr>\n",
       "    <tr>\n",
       "      <th>...</th>\n",
       "      <th>...</th>\n",
       "      <th>...</th>\n",
       "      <td>...</td>\n",
       "      <td>...</td>\n",
       "      <td>...</td>\n",
       "      <td>...</td>\n",
       "      <td>...</td>\n",
       "      <td>...</td>\n",
       "    </tr>\n",
       "    <tr>\n",
       "      <th rowspan=\"5\" valign=\"top\">2008</th>\n",
       "      <th rowspan=\"5\" valign=\"top\">4</th>\n",
       "      <th>7</th>\n",
       "      <td>1373.69</td>\n",
       "      <td>1386.74</td>\n",
       "      <td>1369.02</td>\n",
       "      <td>1372.54</td>\n",
       "      <td>2147483648</td>\n",
       "      <td>1372.54</td>\n",
       "    </tr>\n",
       "    <tr>\n",
       "      <th>8</th>\n",
       "      <td>1370.16</td>\n",
       "      <td>1370.16</td>\n",
       "      <td>1360.62</td>\n",
       "      <td>1365.54</td>\n",
       "      <td>2147483648</td>\n",
       "      <td>1365.54</td>\n",
       "    </tr>\n",
       "    <tr>\n",
       "      <th>9</th>\n",
       "      <td>1365.50</td>\n",
       "      <td>1368.39</td>\n",
       "      <td>1349.97</td>\n",
       "      <td>1354.49</td>\n",
       "      <td>2147483648</td>\n",
       "      <td>1354.49</td>\n",
       "    </tr>\n",
       "    <tr>\n",
       "      <th>10</th>\n",
       "      <td>1355.37</td>\n",
       "      <td>1367.24</td>\n",
       "      <td>1350.11</td>\n",
       "      <td>1360.55</td>\n",
       "      <td>2147483648</td>\n",
       "      <td>1360.55</td>\n",
       "    </tr>\n",
       "    <tr>\n",
       "      <th>11</th>\n",
       "      <td>1357.98</td>\n",
       "      <td>1357.98</td>\n",
       "      <td>1331.21</td>\n",
       "      <td>1332.83</td>\n",
       "      <td>2147483648</td>\n",
       "      <td>1332.83</td>\n",
       "    </tr>\n",
       "  </tbody>\n",
       "</table>\n",
       "<p>14662 rows × 6 columns</p>\n",
       "</div>"
      ],
      "text/plain": [
       "                 open     high      low    close      volume  adjclose\n",
       "year mon day                                                          \n",
       "1950 1   3      16.66    16.66    16.66    16.66     1260000     16.66\n",
       "         4      16.85    16.85    16.85    16.85     1890000     16.85\n",
       "         5      16.93    16.93    16.93    16.93     2550000     16.93\n",
       "         6      16.98    16.98    16.98    16.98     2010000     16.98\n",
       "         9      17.08    17.08    17.08    17.08     2520000     17.08\n",
       "...               ...      ...      ...      ...         ...       ...\n",
       "2008 4   7    1373.69  1386.74  1369.02  1372.54  2147483648   1372.54\n",
       "         8    1370.16  1370.16  1360.62  1365.54  2147483648   1365.54\n",
       "         9    1365.50  1368.39  1349.97  1354.49  2147483648   1354.49\n",
       "         10   1355.37  1367.24  1350.11  1360.55  2147483648   1360.55\n",
       "         11   1357.98  1357.98  1331.21  1332.83  2147483648   1332.83\n",
       "\n",
       "[14662 rows x 6 columns]"
      ]
     },
     "execution_count": 1,
     "metadata": {},
     "output_type": "execute_result"
    }
   ],
   "source": [
    "import pandas as pd\n",
    "import numpy as np\n",
    "from statsmodels.tsa.stattools import adfuller\n",
    "from statsmodels.tsa.ar_model import AutoReg\n",
    "\n",
    "# Load the data\n",
    "da = pd.read_csv('./data/d-sp55008.txt', delim_whitespace=True, header=0, index_col=[0,1,2])\n",
    "da"
   ]
  },
  {
   "cell_type": "code",
   "execution_count": 2,
   "metadata": {},
   "outputs": [
    {
     "data": {
      "text/plain": [
       "year  mon  day\n",
       "1950  1    3      2.813011\n",
       "           4      2.824351\n",
       "           5      2.829087\n",
       "           6      2.832036\n",
       "           9      2.837908\n",
       "                    ...   \n",
       "2008  4    7      7.224418\n",
       "           8      7.219305\n",
       "           9      7.211180\n",
       "           10     7.215644\n",
       "           11     7.195060\n",
       "Name: close, Length: 14662, dtype: float64"
      ]
     },
     "execution_count": 2,
     "metadata": {},
     "output_type": "execute_result"
    }
   ],
   "source": [
    "# Close S&P 500 index is in the 4th column, adjust the index if necessary\n",
    "sp5 = np.log(da.iloc[:, 3])\n",
    "sp5"
   ]
  },
  {
   "cell_type": "code",
   "execution_count": 3,
   "metadata": {},
   "outputs": [
    {
     "name": "stdout",
     "output_type": "stream",
     "text": [
      "                            AutoReg Model Results                             \n",
      "==============================================================================\n",
      "Dep. Variable:                      y   No. Observations:                14661\n",
      "Model:                     AutoReg(2)   Log Likelihood               48280.127\n",
      "Method:               Conditional MLE   S.D. of innovations              0.009\n",
      "Date:                Sun, 14 Jan 2024   AIC                             -9.424\n",
      "Time:                        23:49:22   BIC                             -9.422\n",
      "Sample:                             2   HQIC                            -9.424\n",
      "                                14661                                         \n",
      "==============================================================================\n",
      "                 coef    std err          z      P>|z|      [0.025      0.975]\n",
      "------------------------------------------------------------------------------\n",
      "intercept      0.0003   7.43e-05      3.876      0.000       0.000       0.000\n",
      "y.L1           0.0721      0.008      8.736      0.000       0.056       0.088\n",
      "y.L2          -0.0387      0.008     -4.686      0.000      -0.055      -0.023\n",
      "                                    Roots                                    \n",
      "=============================================================================\n",
      "                  Real          Imaginary           Modulus         Frequency\n",
      "-----------------------------------------------------------------------------\n",
      "AR.1            0.9322           -4.9984j            5.0846           -0.2207\n",
      "AR.2            0.9322           +4.9984j            5.0846            0.2207\n",
      "-----------------------------------------------------------------------------\n"
     ]
    },
    {
     "name": "stderr",
     "output_type": "stream",
     "text": [
      "/Users/laptop/opt/anaconda3/lib/python3.8/site-packages/statsmodels/tsa/ar_model.py:248: FutureWarning: The parameter names will change after 0.12 is released. Set old_names to False to use the new names now. Set old_names to True to use the old names. \n",
      "  warnings.warn(\n"
     ]
    }
   ],
   "source": [
    "# Fit an autoregressive model to the differenced log index\n",
    "m2 = AutoReg(np.diff(sp5), lags=2).fit()\n",
    "print(m2.summary())"
   ]
  },
  {
   "cell_type": "code",
   "execution_count": 4,
   "metadata": {},
   "outputs": [
    {
     "data": {
      "text/plain": [
       "array([1, 2])"
      ]
     },
     "execution_count": 4,
     "metadata": {},
     "output_type": "execute_result"
    }
   ],
   "source": [
    "# Output the order of the model\n",
    "model_order = m2.model._lags\n",
    "model_order"
   ]
  },
  {
   "cell_type": "code",
   "execution_count": 5,
   "metadata": {},
   "outputs": [
    {
     "name": "stdout",
     "output_type": "stream",
     "text": [
      "ADF Statistic: -2.0178916252558827\n",
      "p-value: 0.5916545281598571\n",
      "Used Lag: 2\n",
      "Number of Observations Used: 14659\n",
      "Critical Values: {'1%': -3.9593877119797223, '5%': -3.410789544076968, '10%': -3.1272264013819324}\n",
      "IC Best: -96554.46536832443\n"
     ]
    }
   ],
   "source": [
    "# Perform Augmented Dickey-Fuller test with lag order 2 and include a constant and trend in the test ('ct')\n",
    "adf_test_2 = adfuller(sp5, maxlag=2, regression='ct')\n",
    "\n",
    "adf_result_dict = {\n",
    "    'ADF Statistic': adf_test_2[0],\n",
    "    'p-value': adf_test_2[1],\n",
    "    'Used Lag': adf_test_2[2],\n",
    "    'Number of Observations Used': adf_test_2[3],\n",
    "    'Critical Values': adf_test_2[4],\n",
    "    'IC Best': adf_test_2[5]\n",
    "}\n",
    "\n",
    "# Print the dictionary\n",
    "for key, value in adf_result_dict.items():\n",
    "    print(f'{key}: {value}')"
   ]
  },
  {
   "cell_type": "code",
   "execution_count": 6,
   "metadata": {},
   "outputs": [
    {
     "name": "stdout",
     "output_type": "stream",
     "text": [
      "ADF Statistic: -2.0178916252558827\n",
      "p-value: 0.5916545281598571\n",
      "Used Lag: 2\n",
      "Number of Observations Used: 14659\n",
      "Critical Values: {'1%': -3.9593877119797223, '5%': -3.410789544076968, '10%': -3.1272264013819324}\n",
      "IC Best: -96462.95646780223\n"
     ]
    }
   ],
   "source": [
    "# Perform Augmented Dickey-Fuller test with lag order 15 and include a constant and trend in the test ('ct')\n",
    "adf_test_15 = adfuller(sp5, maxlag=15, regression='ct')\n",
    "\n",
    "adf_result_dict = {\n",
    "    'ADF Statistic': adf_test_15[0],\n",
    "    'p-value': adf_test_15[1],\n",
    "    'Used Lag': adf_test_15[2],\n",
    "    'Number of Observations Used': adf_test_15[3],\n",
    "    'Critical Values': adf_test_15[4],\n",
    "    'IC Best': adf_test_15[5]\n",
    "}\n",
    "\n",
    "# Print the dictionary\n",
    "for key, value in adf_result_dict.items():\n",
    "    print(f'{key}: {value}')"
   ]
  }
 ],
 "metadata": {
  "kernelspec": {
   "display_name": "Python 3 (ipykernel)",
   "language": "python",
   "name": "python3"
  },
  "language_info": {
   "codemirror_mode": {
    "name": "ipython",
    "version": 3
   },
   "file_extension": ".py",
   "mimetype": "text/x-python",
   "name": "python",
   "nbconvert_exporter": "python",
   "pygments_lexer": "ipython3",
   "version": "3.11.4"
  }
 },
 "nbformat": 4,
 "nbformat_minor": 4
}
