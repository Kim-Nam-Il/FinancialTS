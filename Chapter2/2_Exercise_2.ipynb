{
 "cells": [
  {
   "cell_type": "markdown",
   "id": "5a622f21-da9d-45e8-a124-667e3b283886",
   "metadata": {},
   "source": [
    "# Chapter2 Exercise2"
   ]
  },
  {
   "cell_type": "markdown",
   "id": "27c0e5e4-2abe-4fb6-a5f6-746eeeec51f1",
   "metadata": {},
   "source": [
    "Page 104\n",
    "\n",
    "## Question 2.2.\n",
    "\n",
    "2.2. Suppose that the daily log return of a security follows the model  \n",
    "$$ R_{t} = a_{t} + 0.2a_{t-1}, \\sigma_a = 0.025 $$\n",
    "where {$a_t$} is a Gaussian white noise with mean zero and variance 0.02.  \n",
    "What are the mean and variance of the return series $r_{t}$? Compute the lag-1 and lag-2 autocorrelations of $r_{t}$.  \n",
    "Assume that $r_{100} = -0.01$, and $r_{99}$ = 0.02. Compute the 1-and 2-step-ahead forecasts of the return series at the forecast errors?\n"
   ]
  },
  {
   "cell_type": "markdown",
   "id": "f2807af7-1afc-47e5-98e5-ddf1bbce6c15",
   "metadata": {},
   "source": [
    "Given the daily log return model:\n",
    "\n",
    "$$\n",
    "r_t = 0.01 + 0.2r_{t-2}+a_{t}\n",
    "$$\n",
    "\n",
    "where $a_{t}$ is a Gaussian white noise series with mean zero and variance $σ_{a}^2 = 0.02$.\n",
    "\n",
    "## Mean and Variance of the Return Series $r_{t}$\n",
    "\n",
    "The **mean** of the return series, assuming stationarity, is calculated as:\n",
    "\n",
    "$$\n",
    "μ = {0.01 \\over (1 - 0.2)} = 0.0125\n",
    "$$\n",
    "\n",
    "The **variance** of the return series is simply the variance of the white noise:\n",
    "\n",
    "\n",
    "... (To be continue)"
   ]
  },
  {
   "cell_type": "code",
   "execution_count": null,
   "id": "d38dbc1b-13b6-471f-8fce-5ee1ea2e6e15",
   "metadata": {},
   "outputs": [],
   "source": []
  }
 ],
 "metadata": {
  "kernelspec": {
   "display_name": "Python 3 (ipykernel)",
   "language": "python",
   "name": "python3"
  },
  "language_info": {
   "codemirror_mode": {
    "name": "ipython",
    "version": 3
   },
   "file_extension": ".py",
   "mimetype": "text/x-python",
   "name": "python",
   "nbconvert_exporter": "python",
   "pygments_lexer": "ipython3",
   "version": "3.11.4"
  }
 },
 "nbformat": 4,
 "nbformat_minor": 5
}
