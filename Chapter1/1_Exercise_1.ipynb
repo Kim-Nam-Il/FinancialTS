{
 "cells": [
  {
   "cell_type": "markdown",
   "id": "a53e869d-de8b-436e-9a22-5c3e0cbb3701",
   "metadata": {},
   "source": [
    "# Chapter 1 Exercise 1"
   ]
  },
  {
   "cell_type": "markdown",
   "id": "98eb8305-09bd-4288-ac93-969c7c687228",
   "metadata": {},
   "source": [
    "file : d-3stocks9908.txt\n",
    "Page 26 Exercise 1"
   ]
  },
  {
   "cell_type": "markdown",
   "id": "a5bf6bcd-2701-4115-93ff-14bdad707ca6",
   "metadata": {},
   "source": [
    "## 1.1 Exercise"
   ]
  },
  {
   "cell_type": "markdown",
   "id": "74b37529-a0f6-4457-8988-8f9b414c97c5",
   "metadata": {},
   "source": [
    "Load data\n",
    "\n",
    "open the data file 'd-3stocks9908.txt'"
   ]
  },
  {
   "cell_type": "code",
   "execution_count": 1,
   "id": "d9292e13-6cd6-469a-ba6d-aa59338e9adc",
   "metadata": {
    "tags": []
   },
   "outputs": [],
   "source": [
    "import pandas as pd\n",
    "import numpy as np\n",
    "from scipy.stats import skew, kurtosis, ttest_1samp\n",
    "\n",
    "# Load data\n",
    "data = pd.read_csv('d-3stocks9908.txt', delim_whitespace=True, index_col = 0)"
   ]
  },
  {
   "cell_type": "code",
   "execution_count": 2,
   "id": "3782771d-a503-4822-853b-8266b6e364b7",
   "metadata": {
    "tags": []
   },
   "outputs": [
    {
     "data": {
      "text/html": [
       "<div>\n",
       "<style scoped>\n",
       "    .dataframe tbody tr th:only-of-type {\n",
       "        vertical-align: middle;\n",
       "    }\n",
       "\n",
       "    .dataframe tbody tr th {\n",
       "        vertical-align: top;\n",
       "    }\n",
       "\n",
       "    .dataframe thead th {\n",
       "        text-align: right;\n",
       "    }\n",
       "</style>\n",
       "<table border=\"1\" class=\"dataframe\">\n",
       "  <thead>\n",
       "    <tr style=\"text-align: right;\">\n",
       "      <th></th>\n",
       "      <th>axp</th>\n",
       "      <th>cat</th>\n",
       "      <th>sbux</th>\n",
       "    </tr>\n",
       "    <tr>\n",
       "      <th>date</th>\n",
       "      <th></th>\n",
       "      <th></th>\n",
       "      <th></th>\n",
       "    </tr>\n",
       "  </thead>\n",
       "  <tbody>\n",
       "    <tr>\n",
       "      <th>19990104</th>\n",
       "      <td>-0.009756</td>\n",
       "      <td>0.029891</td>\n",
       "      <td>-0.040089</td>\n",
       "    </tr>\n",
       "    <tr>\n",
       "      <th>19990105</th>\n",
       "      <td>-0.019089</td>\n",
       "      <td>-0.002639</td>\n",
       "      <td>-0.034803</td>\n",
       "    </tr>\n",
       "    <tr>\n",
       "      <th>19990106</th>\n",
       "      <td>0.043063</td>\n",
       "      <td>0.026455</td>\n",
       "      <td>-0.008413</td>\n",
       "    </tr>\n",
       "    <tr>\n",
       "      <th>19990107</th>\n",
       "      <td>0.012063</td>\n",
       "      <td>0.009021</td>\n",
       "      <td>0.003636</td>\n",
       "    </tr>\n",
       "    <tr>\n",
       "      <th>19990108</th>\n",
       "      <td>0.030393</td>\n",
       "      <td>0.042146</td>\n",
       "      <td>0.021739</td>\n",
       "    </tr>\n",
       "    <tr>\n",
       "      <th>...</th>\n",
       "      <td>...</td>\n",
       "      <td>...</td>\n",
       "      <td>...</td>\n",
       "    </tr>\n",
       "    <tr>\n",
       "      <th>20081224</th>\n",
       "      <td>0.000557</td>\n",
       "      <td>0.018964</td>\n",
       "      <td>0.016322</td>\n",
       "    </tr>\n",
       "    <tr>\n",
       "      <th>20081226</th>\n",
       "      <td>-0.003339</td>\n",
       "      <td>0.019327</td>\n",
       "      <td>0.001071</td>\n",
       "    </tr>\n",
       "    <tr>\n",
       "      <th>20081229</th>\n",
       "      <td>-0.011725</td>\n",
       "      <td>-0.008895</td>\n",
       "      <td>-0.034225</td>\n",
       "    </tr>\n",
       "    <tr>\n",
       "      <th>20081230</th>\n",
       "      <td>0.016949</td>\n",
       "      <td>0.031176</td>\n",
       "      <td>0.036545</td>\n",
       "    </tr>\n",
       "    <tr>\n",
       "      <th>20081231</th>\n",
       "      <td>0.030556</td>\n",
       "      <td>0.023133</td>\n",
       "      <td>0.010684</td>\n",
       "    </tr>\n",
       "  </tbody>\n",
       "</table>\n",
       "<p>2515 rows × 3 columns</p>\n",
       "</div>"
      ],
      "text/plain": [
       "               axp       cat      sbux\n",
       "date                                  \n",
       "19990104 -0.009756  0.029891 -0.040089\n",
       "19990105 -0.019089 -0.002639 -0.034803\n",
       "19990106  0.043063  0.026455 -0.008413\n",
       "19990107  0.012063  0.009021  0.003636\n",
       "19990108  0.030393  0.042146  0.021739\n",
       "...            ...       ...       ...\n",
       "20081224  0.000557  0.018964  0.016322\n",
       "20081226 -0.003339  0.019327  0.001071\n",
       "20081229 -0.011725 -0.008895 -0.034225\n",
       "20081230  0.016949  0.031176  0.036545\n",
       "20081231  0.030556  0.023133  0.010684\n",
       "\n",
       "[2515 rows x 3 columns]"
      ]
     },
     "execution_count": 2,
     "metadata": {},
     "output_type": "execute_result"
    }
   ],
   "source": [
    "data"
   ]
  },
  {
   "cell_type": "code",
   "execution_count": 3,
   "id": "09ed732f-0b14-4ee6-be9e-0669f160d64a",
   "metadata": {
    "tags": []
   },
   "outputs": [],
   "source": [
    "# Simple returns in percentages\n",
    "simple_returns = data[['axp', 'cat', 'sbux']] * 100\n",
    "simple_stats = simple_returns.describe()\n",
    "simple_stats.loc['skewness'] = skew(simple_returns)\n",
    "simple_stats.loc['excess kurtosis'] = kurtosis(simple_returns, fisher=True)"
   ]
  },
  {
   "cell_type": "code",
   "execution_count": 4,
   "id": "2a3ca1bf-222b-4eb5-9ef6-7e740f4db8fc",
   "metadata": {
    "tags": []
   },
   "outputs": [],
   "source": [
    "# Convert to log returns\n",
    "log_returns = np.log(simple_returns / 100 + 1) * 100"
   ]
  },
  {
   "cell_type": "code",
   "execution_count": 5,
   "id": "368380b3-f1d7-4a73-846a-38862f3e0f42",
   "metadata": {
    "tags": []
   },
   "outputs": [],
   "source": [
    "# Statistics for log returns\n",
    "log_stats = log_returns.describe()\n",
    "log_stats.loc['skewness'] = skew(log_returns)\n",
    "log_stats.loc['excess kurtosis'] = kurtosis(log_returns, fisher=True)"
   ]
  },
  {
   "cell_type": "code",
   "execution_count": 6,
   "id": "600220dd-72a3-4463-ac85-38400a7ab60b",
   "metadata": {
    "tags": []
   },
   "outputs": [],
   "source": [
    "# Hypothesis testing\n",
    "test_results = {stock: ttest_1samp(log_returns[stock].dropna(), 0) for stock in log_returns.columns}"
   ]
  },
  {
   "cell_type": "code",
   "execution_count": 7,
   "id": "5fdfd23b-1ff3-4d16-9e8f-dd35c9173fd0",
   "metadata": {
    "tags": []
   },
   "outputs": [
    {
     "name": "stdout",
     "output_type": "stream",
     "text": [
      "                         axp          cat         sbux\n",
      "count            2515.000000  2515.000000  2515.000000\n",
      "mean                0.014565     0.059504     0.048054\n",
      "std                 2.446218     2.169648     2.682622\n",
      "min               -17.594900   -14.517500   -28.286200\n",
      "25%                -1.111050    -1.144150    -1.247450\n",
      "50%                -0.018200     0.048900    -0.051200\n",
      "75%                 1.092900     1.206100     1.248750\n",
      "max                17.926600    14.722900    14.635400\n",
      "skewness           -0.034627     0.011678    -0.082476\n",
      "excess kurtosis     6.055251     4.459195     8.754924\n",
      "                         axp          cat         sbux\n",
      "count            2515.000000  2515.000000  2515.000000\n",
      "mean               -0.015434     0.035949     0.011885\n",
      "std                 2.452898     2.171483     2.695888\n",
      "min               -19.352286   -15.685851   -33.248699\n",
      "25%                -1.117268    -1.150746    -1.255296\n",
      "50%                -0.018202     0.048888    -0.051213\n",
      "75%                 1.086971     1.198885     1.241017\n",
      "max                16.489221    13.734947    13.658647\n",
      "skewness           -0.336635    -0.201865    -0.597424\n",
      "excess kurtosis     6.494046     4.700869    12.908121\n",
      "{'axp': TtestResult(statistic=-0.3155541199852506, pvalue=0.7523671583912231, df=2514), 'cat': TtestResult(statistic=0.8302265105543302, pvalue=0.4064895606957486, df=2514), 'sbux': TtestResult(statistic=0.22109558204344368, pvalue=0.8250359651358335, df=2514)}\n"
     ]
    }
   ],
   "source": [
    "# Display results\n",
    "print(simple_stats)\n",
    "print(log_stats)\n",
    "print(test_results)"
   ]
  }
 ],
 "metadata": {
  "kernelspec": {
   "display_name": "Python 3 (ipykernel)",
   "language": "python",
   "name": "python3"
  },
  "language_info": {
   "codemirror_mode": {
    "name": "ipython",
    "version": 3
   },
   "file_extension": ".py",
   "mimetype": "text/x-python",
   "name": "python",
   "nbconvert_exporter": "python",
   "pygments_lexer": "ipython3",
   "version": "3.11.4"
  }
 },
 "nbformat": 4,
 "nbformat_minor": 5
}
