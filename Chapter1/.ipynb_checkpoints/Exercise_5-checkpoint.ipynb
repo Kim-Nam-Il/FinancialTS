{
 "cells": [
  {
   "cell_type": "markdown",
   "id": "512e2c99-d39b-473d-8621-866613d5750b",
   "metadata": {
    "tags": []
   },
   "source": [
    "# Chapter 1 Exercise 5"
   ]
  },
  {
   "cell_type": "markdown",
   "id": "bc90cdc2-6b13-458e-8bda-cc99252b4987",
   "metadata": {},
   "source": [
    "files : \n",
    "\n",
    "1. [Exchange rates of Canadian Dollar: d-cacus.txt](https://faculty.chicagobooth.edu/-/media/faculty/ruey-s-tsay/teaching/fts3/d-caus.txt)\n",
    "\n",
    "2. [United Kingdom Pound: d-usuk.txt](https://faculty.chicagobooth.edu/-/media/faculty/ruey-s-tsay/teaching/fts3/d-usuk.txt)\n",
    "\n",
    "3. [Japanese Yen: d-jpus.txt](https://faculty.chicagobooth.edu/-/media/faculty/ruey-s-tsay/teaching/fts3/d-jpus.txt)\n",
    "\n",
    "4. [Euro: d-useu.txt](https://faculty.chicagobooth.edu/-/media/faculty/ruey-s-tsay/teaching/fts3/d-useu.txt)\n",
    "\n",
    "Page 27 Exercise 5"
   ]
  },
  {
   "cell_type": "code",
   "execution_count": 24,
   "id": "81a62e33-d059-433f-9b08-7ffac97ec1a2",
   "metadata": {
    "tags": []
   },
   "outputs": [
    {
     "data": {
      "text/html": [
       "<div>\n",
       "<style scoped>\n",
       "    .dataframe tbody tr th:only-of-type {\n",
       "        vertical-align: middle;\n",
       "    }\n",
       "\n",
       "    .dataframe tbody tr th {\n",
       "        vertical-align: top;\n",
       "    }\n",
       "\n",
       "    .dataframe thead th {\n",
       "        text-align: right;\n",
       "    }\n",
       "</style>\n",
       "<table border=\"1\" class=\"dataframe\">\n",
       "  <thead>\n",
       "    <tr style=\"text-align: right;\">\n",
       "      <th></th>\n",
       "      <th></th>\n",
       "      <th></th>\n",
       "      <th>rate</th>\n",
       "    </tr>\n",
       "    <tr>\n",
       "      <th>year</th>\n",
       "      <th>mon</th>\n",
       "      <th>day</th>\n",
       "      <th></th>\n",
       "    </tr>\n",
       "  </thead>\n",
       "  <tbody>\n",
       "    <tr>\n",
       "      <th rowspan=\"5\" valign=\"top\">2000</th>\n",
       "      <th rowspan=\"5\" valign=\"top\">1</th>\n",
       "      <th>4</th>\n",
       "      <td>1.4518</td>\n",
       "    </tr>\n",
       "    <tr>\n",
       "      <th>5</th>\n",
       "      <td>1.4518</td>\n",
       "    </tr>\n",
       "    <tr>\n",
       "      <th>6</th>\n",
       "      <td>1.4571</td>\n",
       "    </tr>\n",
       "    <tr>\n",
       "      <th>7</th>\n",
       "      <td>1.4505</td>\n",
       "    </tr>\n",
       "    <tr>\n",
       "      <th>10</th>\n",
       "      <td>1.4568</td>\n",
       "    </tr>\n",
       "    <tr>\n",
       "      <th>...</th>\n",
       "      <th>...</th>\n",
       "      <th>...</th>\n",
       "      <td>...</td>\n",
       "    </tr>\n",
       "    <tr>\n",
       "      <th rowspan=\"5\" valign=\"top\">2009</th>\n",
       "      <th rowspan=\"5\" valign=\"top\">3</th>\n",
       "      <th>23</th>\n",
       "      <td>1.2322</td>\n",
       "    </tr>\n",
       "    <tr>\n",
       "      <th>24</th>\n",
       "      <td>1.2263</td>\n",
       "    </tr>\n",
       "    <tr>\n",
       "      <th>25</th>\n",
       "      <td>1.2245</td>\n",
       "    </tr>\n",
       "    <tr>\n",
       "      <th>26</th>\n",
       "      <td>1.2327</td>\n",
       "    </tr>\n",
       "    <tr>\n",
       "      <th>27</th>\n",
       "      <td>1.2392</td>\n",
       "    </tr>\n",
       "  </tbody>\n",
       "</table>\n",
       "<p>2323 rows × 1 columns</p>\n",
       "</div>"
      ],
      "text/plain": [
       "                rate\n",
       "year mon day        \n",
       "2000 1   4    1.4518\n",
       "         5    1.4518\n",
       "         6    1.4571\n",
       "         7    1.4505\n",
       "         10   1.4568\n",
       "...              ...\n",
       "2009 3   23   1.2322\n",
       "         24   1.2263\n",
       "         25   1.2245\n",
       "         26   1.2327\n",
       "         27   1.2392\n",
       "\n",
       "[2323 rows x 1 columns]"
      ]
     },
     "execution_count": 24,
     "metadata": {},
     "output_type": "execute_result"
    }
   ],
   "source": [
    "import pandas as pd\n",
    "import numpy as np\n",
    "import matplotlib.pyplot as plt\n",
    "from scipy.stats import skew, kurtosis, norm\n",
    "\n",
    "# Load data here\n",
    "canada = pd.read_csv('./data/d-caus.txt', delim_whitespace=True, index_col= ['year','mon','day'])\n",
    "canada"
   ]
  },
  {
   "cell_type": "code",
   "execution_count": 11,
   "id": "5ee3b7f6-241d-45be-8c63-c4a6c7723efb",
   "metadata": {
    "tags": []
   },
   "outputs": [
    {
     "data": {
      "text/html": [
       "<div>\n",
       "<style scoped>\n",
       "    .dataframe tbody tr th:only-of-type {\n",
       "        vertical-align: middle;\n",
       "    }\n",
       "\n",
       "    .dataframe tbody tr th {\n",
       "        vertical-align: top;\n",
       "    }\n",
       "\n",
       "    .dataframe thead th {\n",
       "        text-align: right;\n",
       "    }\n",
       "</style>\n",
       "<table border=\"1\" class=\"dataframe\">\n",
       "  <thead>\n",
       "    <tr style=\"text-align: right;\">\n",
       "      <th></th>\n",
       "      <th></th>\n",
       "      <th></th>\n",
       "      <th>value</th>\n",
       "    </tr>\n",
       "    <tr>\n",
       "      <th>date</th>\n",
       "      <th>mon</th>\n",
       "      <th>day</th>\n",
       "      <th></th>\n",
       "    </tr>\n",
       "  </thead>\n",
       "  <tbody>\n",
       "    <tr>\n",
       "      <th rowspan=\"5\" valign=\"top\">2000</th>\n",
       "      <th rowspan=\"5\" valign=\"top\">1</th>\n",
       "      <th>4</th>\n",
       "      <td>1.6370</td>\n",
       "    </tr>\n",
       "    <tr>\n",
       "      <th>5</th>\n",
       "      <td>1.6415</td>\n",
       "    </tr>\n",
       "    <tr>\n",
       "      <th>6</th>\n",
       "      <td>1.6475</td>\n",
       "    </tr>\n",
       "    <tr>\n",
       "      <th>7</th>\n",
       "      <td>1.6384</td>\n",
       "    </tr>\n",
       "    <tr>\n",
       "      <th>10</th>\n",
       "      <td>1.6374</td>\n",
       "    </tr>\n",
       "    <tr>\n",
       "      <th>...</th>\n",
       "      <th>...</th>\n",
       "      <th>...</th>\n",
       "      <td>...</td>\n",
       "    </tr>\n",
       "    <tr>\n",
       "      <th rowspan=\"5\" valign=\"top\">2009</th>\n",
       "      <th rowspan=\"5\" valign=\"top\">3</th>\n",
       "      <th>23</th>\n",
       "      <td>1.4496</td>\n",
       "    </tr>\n",
       "    <tr>\n",
       "      <th>24</th>\n",
       "      <td>1.4730</td>\n",
       "    </tr>\n",
       "    <tr>\n",
       "      <th>25</th>\n",
       "      <td>1.4585</td>\n",
       "    </tr>\n",
       "    <tr>\n",
       "      <th>26</th>\n",
       "      <td>1.4497</td>\n",
       "    </tr>\n",
       "    <tr>\n",
       "      <th>27</th>\n",
       "      <td>1.4325</td>\n",
       "    </tr>\n",
       "  </tbody>\n",
       "</table>\n",
       "<p>2323 rows × 1 columns</p>\n",
       "</div>"
      ],
      "text/plain": [
       "               value\n",
       "date mon day        \n",
       "2000 1   4    1.6370\n",
       "         5    1.6415\n",
       "         6    1.6475\n",
       "         7    1.6384\n",
       "         10   1.6374\n",
       "...              ...\n",
       "2009 3   23   1.4496\n",
       "         24   1.4730\n",
       "         25   1.4585\n",
       "         26   1.4497\n",
       "         27   1.4325\n",
       "\n",
       "[2323 rows x 1 columns]"
      ]
     },
     "execution_count": 11,
     "metadata": {},
     "output_type": "execute_result"
    }
   ],
   "source": [
    "# Load data here\n",
    "uk = pd.read_csv('./data/d-usuk.txt', delim_whitespace=True, index_col= ['date','mon','day'])\n",
    "uk"
   ]
  },
  {
   "cell_type": "code",
   "execution_count": 3,
   "id": "9e60895b-99ac-4aad-988d-49731fff9e6f",
   "metadata": {
    "tags": []
   },
   "outputs": [
    {
     "data": {
      "text/html": [
       "<div>\n",
       "<style scoped>\n",
       "    .dataframe tbody tr th:only-of-type {\n",
       "        vertical-align: middle;\n",
       "    }\n",
       "\n",
       "    .dataframe tbody tr th {\n",
       "        vertical-align: top;\n",
       "    }\n",
       "\n",
       "    .dataframe thead th {\n",
       "        text-align: right;\n",
       "    }\n",
       "</style>\n",
       "<table border=\"1\" class=\"dataframe\">\n",
       "  <thead>\n",
       "    <tr style=\"text-align: right;\">\n",
       "      <th></th>\n",
       "      <th></th>\n",
       "      <th></th>\n",
       "      <th>value</th>\n",
       "    </tr>\n",
       "    <tr>\n",
       "      <th>year</th>\n",
       "      <th>mon</th>\n",
       "      <th>day</th>\n",
       "      <th></th>\n",
       "    </tr>\n",
       "  </thead>\n",
       "  <tbody>\n",
       "    <tr>\n",
       "      <th rowspan=\"5\" valign=\"top\">2000</th>\n",
       "      <th rowspan=\"5\" valign=\"top\">1</th>\n",
       "      <th>4</th>\n",
       "      <td>103.09</td>\n",
       "    </tr>\n",
       "    <tr>\n",
       "      <th>5</th>\n",
       "      <td>103.77</td>\n",
       "    </tr>\n",
       "    <tr>\n",
       "      <th>6</th>\n",
       "      <td>105.19</td>\n",
       "    </tr>\n",
       "    <tr>\n",
       "      <th>7</th>\n",
       "      <td>105.17</td>\n",
       "    </tr>\n",
       "    <tr>\n",
       "      <th>10</th>\n",
       "      <td>105.28</td>\n",
       "    </tr>\n",
       "    <tr>\n",
       "      <th>...</th>\n",
       "      <th>...</th>\n",
       "      <th>...</th>\n",
       "      <td>...</td>\n",
       "    </tr>\n",
       "    <tr>\n",
       "      <th rowspan=\"5\" valign=\"top\">2009</th>\n",
       "      <th rowspan=\"5\" valign=\"top\">3</th>\n",
       "      <th>23</th>\n",
       "      <td>97.30</td>\n",
       "    </tr>\n",
       "    <tr>\n",
       "      <th>24</th>\n",
       "      <td>97.86</td>\n",
       "    </tr>\n",
       "    <tr>\n",
       "      <th>25</th>\n",
       "      <td>97.70</td>\n",
       "    </tr>\n",
       "    <tr>\n",
       "      <th>26</th>\n",
       "      <td>98.47</td>\n",
       "    </tr>\n",
       "    <tr>\n",
       "      <th>27</th>\n",
       "      <td>97.99</td>\n",
       "    </tr>\n",
       "  </tbody>\n",
       "</table>\n",
       "<p>2323 rows × 1 columns</p>\n",
       "</div>"
      ],
      "text/plain": [
       "               value\n",
       "year mon day        \n",
       "2000 1   4    103.09\n",
       "         5    103.77\n",
       "         6    105.19\n",
       "         7    105.17\n",
       "         10   105.28\n",
       "...              ...\n",
       "2009 3   23    97.30\n",
       "         24    97.86\n",
       "         25    97.70\n",
       "         26    98.47\n",
       "         27    97.99\n",
       "\n",
       "[2323 rows x 1 columns]"
      ]
     },
     "execution_count": 3,
     "metadata": {},
     "output_type": "execute_result"
    }
   ],
   "source": [
    "# Load data here\n",
    "japan = pd.read_csv('./data/d-jpus.txt', delim_whitespace=True, index_col= ['year','mon','day'])\n",
    "japan"
   ]
  },
  {
   "cell_type": "code",
   "execution_count": 4,
   "id": "7e7d2f73-8c6d-49ee-a6c4-8a18fad8253b",
   "metadata": {
    "tags": []
   },
   "outputs": [
    {
     "data": {
      "text/html": [
       "<div>\n",
       "<style scoped>\n",
       "    .dataframe tbody tr th:only-of-type {\n",
       "        vertical-align: middle;\n",
       "    }\n",
       "\n",
       "    .dataframe tbody tr th {\n",
       "        vertical-align: top;\n",
       "    }\n",
       "\n",
       "    .dataframe thead th {\n",
       "        text-align: right;\n",
       "    }\n",
       "</style>\n",
       "<table border=\"1\" class=\"dataframe\">\n",
       "  <thead>\n",
       "    <tr style=\"text-align: right;\">\n",
       "      <th></th>\n",
       "      <th></th>\n",
       "      <th></th>\n",
       "      <th>Value</th>\n",
       "    </tr>\n",
       "    <tr>\n",
       "      <th>Date</th>\n",
       "      <th>Mon</th>\n",
       "      <th>Day</th>\n",
       "      <th></th>\n",
       "    </tr>\n",
       "  </thead>\n",
       "  <tbody>\n",
       "    <tr>\n",
       "      <th rowspan=\"5\" valign=\"top\">2000</th>\n",
       "      <th rowspan=\"5\" valign=\"top\">1</th>\n",
       "      <th>4</th>\n",
       "      <td>1.0309</td>\n",
       "    </tr>\n",
       "    <tr>\n",
       "      <th>5</th>\n",
       "      <td>1.0335</td>\n",
       "    </tr>\n",
       "    <tr>\n",
       "      <th>6</th>\n",
       "      <td>1.0324</td>\n",
       "    </tr>\n",
       "    <tr>\n",
       "      <th>7</th>\n",
       "      <td>1.0294</td>\n",
       "    </tr>\n",
       "    <tr>\n",
       "      <th>10</th>\n",
       "      <td>1.0252</td>\n",
       "    </tr>\n",
       "    <tr>\n",
       "      <th>...</th>\n",
       "      <th>...</th>\n",
       "      <th>...</th>\n",
       "      <td>...</td>\n",
       "    </tr>\n",
       "    <tr>\n",
       "      <th rowspan=\"5\" valign=\"top\">2009</th>\n",
       "      <th rowspan=\"5\" valign=\"top\">3</th>\n",
       "      <th>23</th>\n",
       "      <td>1.3569</td>\n",
       "    </tr>\n",
       "    <tr>\n",
       "      <th>24</th>\n",
       "      <td>1.3524</td>\n",
       "    </tr>\n",
       "    <tr>\n",
       "      <th>25</th>\n",
       "      <td>1.3539</td>\n",
       "    </tr>\n",
       "    <tr>\n",
       "      <th>26</th>\n",
       "      <td>1.3560</td>\n",
       "    </tr>\n",
       "    <tr>\n",
       "      <th>27</th>\n",
       "      <td>1.3306</td>\n",
       "    </tr>\n",
       "  </tbody>\n",
       "</table>\n",
       "<p>2323 rows × 1 columns</p>\n",
       "</div>"
      ],
      "text/plain": [
       "               Value\n",
       "Date Mon Day        \n",
       "2000 1   4    1.0309\n",
       "         5    1.0335\n",
       "         6    1.0324\n",
       "         7    1.0294\n",
       "         10   1.0252\n",
       "...              ...\n",
       "2009 3   23   1.3569\n",
       "         24   1.3524\n",
       "         25   1.3539\n",
       "         26   1.3560\n",
       "         27   1.3306\n",
       "\n",
       "[2323 rows x 1 columns]"
      ]
     },
     "execution_count": 4,
     "metadata": {},
     "output_type": "execute_result"
    }
   ],
   "source": [
    "# Load data here\n",
    "euro = pd.read_csv('./data/d-useu.txt', delim_whitespace=True, index_col= ['Date','Mon','Day'])\n",
    "euro"
   ]
  },
  {
   "cell_type": "code",
   "execution_count": 16,
   "id": "0aa36eac-8118-418c-9fd9-88d7b4711964",
   "metadata": {},
   "outputs": [],
   "source": [
    "def analyze_currency(data, column_name):\n",
    "    data['log_return'] = np.log(data[column_name] / data[column_name].shift(1))\n",
    "    data = data.dropna()\n",
    "    \n",
    "    # Descriptive statistics\n",
    "    mean = data['log_return'].mean()\n",
    "    std_dev = data['log_return'].std()\n",
    "    skewness = skew(data['log_return'])\n",
    "    excess_kurtosis = kurtosis(data['log_return'])  # Excess kurtosis\n",
    "    min_return = data['log_return'].min()\n",
    "    max_return = data['log_return'].max()\n",
    "\n",
    "    return data['log_return'], mean, std_dev, skewness, excess_kurtosis, min_return, max_return"
   ]
  },
  {
   "cell_type": "code",
   "execution_count": 18,
   "id": "428142c6-36d4-43f8-ae75-beb9c9515b99",
   "metadata": {
    "tags": []
   },
   "outputs": [],
   "source": [
    "log_return_canada, mean_canada, std_dev_canada, skewness_canada, kurtosis_canada, min_canada, max_canada = analyze_currency(canada, 'rate')"
   ]
  },
  {
   "cell_type": "code",
   "execution_count": 19,
   "id": "8505c5cb-2bfa-4ad1-b85c-e27a531a6265",
   "metadata": {
    "tags": []
   },
   "outputs": [
    {
     "name": "stdout",
     "output_type": "stream",
     "text": [
      "year  mon  day\n",
      "2000  1    5      0.000000\n",
      "           6      0.003644\n",
      "           7     -0.004540\n",
      "           10     0.004334\n",
      "           11     0.000137\n",
      "                    ...   \n",
      "2009  3    23    -0.003888\n",
      "           24    -0.004800\n",
      "           25    -0.001469\n",
      "           26     0.006674\n",
      "           27     0.005259\n",
      "Name: log_return, Length: 2322, dtype: float64 \n",
      " Mean : -6.81904202188098e-05 \n",
      " 0.00587647630302097 \n",
      " -0.23903893850033844 \n",
      " 8.25502612715371 \n",
      " -0.05071598584889788 \n",
      " 0.03806962493683204\n"
     ]
    }
   ],
   "source": [
    "print(log_return_canada, \"\\n\", \"Mean :\", mean_canada, \"\\n\", std_dev_canada, \"\\n\", skewness_canada, \"\\n\", kurtosis_canada, \"\\n\", min_canada, \"\\n\", max_canada)"
   ]
  },
  {
   "cell_type": "code",
   "execution_count": 20,
   "id": "7857694f-ed2d-4ccb-93ac-1dd7fd76886c",
   "metadata": {
    "tags": []
   },
   "outputs": [],
   "source": [
    "log_return_uk, mean_uk, std_dev_uk, skewness_uk, kurtosis_uk, min_uk, max_uk = analyze_currency(uk, 'value')"
   ]
  },
  {
   "cell_type": "code",
   "execution_count": 21,
   "id": "b867bb49-3c60-4504-bd68-51ec840a549b",
   "metadata": {},
   "outputs": [],
   "source": [
    "log_return_japan, mean_japan, std_dev_japan, skewness_japan, kurtosis_japan, min_japan, max_japan = analyze_currency(japan, 'value')"
   ]
  },
  {
   "cell_type": "code",
   "execution_count": 22,
   "id": "62f71a66-2de8-4296-b94f-78c48fb30e06",
   "metadata": {
    "tags": []
   },
   "outputs": [],
   "source": [
    "log_return_euro, mean_euro, std_dev_euro, skewness_euro, kurtosis_euro, min_euro, max_euro = analyze_currency(euro, 'Value')"
   ]
  },
  {
   "cell_type": "code",
   "execution_count": 23,
   "id": "25781797-da28-434f-be12-c5920605e84e",
   "metadata": {
    "tags": []
   },
   "outputs": [
    {
     "data": {
      "image/png": "[encoded data removed]",
      "text/plain": [
       "<Figure size 1000x600 with 1 Axes>"
      ]
     },
     "metadata": {},
     "output_type": "display_data"
    }
   ],
   "source": [
    "# Density plot for Euro\n",
    "plt.figure(figsize=(10, 6))\n",
    "log_return_euro.plot(kind='density')\n",
    "plt.title('Density Plot of Daily Log Returns for Dollar-Euro Exchange Rate')\n",
    "plt.xlabel('Log Return')\n",
    "plt.show()"
   ]
  },
  {
   "cell_type": "code",
   "execution_count": null,
   "id": "ff2520c9-662f-460f-8182-dd98673067b9",
   "metadata": {},
   "outputs": [],
   "source": []
  }
 ],
 "metadata": {
  "kernelspec": {
   "display_name": "Python 3 (ipykernel)",
   "language": "python",
   "name": "python3"
  },
  "language_info": {
   "codemirror_mode": {
    "name": "ipython",
    "version": 3
   },
   "file_extension": ".py",
   "mimetype": "text/x-python",
   "name": "python",
   "nbconvert_exporter": "python",
   "pygments_lexer": "ipython3",
   "version": "3.11.4"
  }
 },
 "nbformat": 4,
 "nbformat_minor": 5
}
