{
 "cells": [
  {
   "cell_type": "markdown",
   "id": "c859e40d-ad5a-40d2-b865-cc3f4a009193",
   "metadata": {},
   "source": [
    "# Chapter 1 Exercise 4"
   ]
  },
  {
   "cell_type": "markdown",
   "id": "09a26a15-3147-41a4-bf44-40e8f352aed6",
   "metadata": {},
   "source": [
    "file : [d-3stocks9908.txt](https://faculty.chicagobooth.edu/-/media/faculty/ruey-s-tsay/teaching/fts3/d-3stocks9908.txt)\n",
    "\n",
    "Page 27 Exercise 4"
   ]
  },
  {
   "cell_type": "markdown",
   "id": "2100c4b7-dee6-4979-a5a8-48df54268f58",
   "metadata": {},
   "source": [
    "## 1.4 Exercise"
   ]
  },
  {
   "cell_type": "markdown",
   "id": "e7b3f8ce-d36e-48f8-a741-0045d813c349",
   "metadata": {},
   "source": [
    "Load data\n",
    "\n",
    "open the data file 'd-3stocks9908.txt'"
   ]
  },
  {
   "cell_type": "code",
   "execution_count": 16,
   "id": "456662c9-bb41-4f49-9e2c-bedc965c49bf",
   "metadata": {
    "tags": []
   },
   "outputs": [
    {
     "data": {
      "text/html": [
       "<div>\n",
       "<style scoped>\n",
       "    .dataframe tbody tr th:only-of-type {\n",
       "        vertical-align: middle;\n",
       "    }\n",
       "\n",
       "    .dataframe tbody tr th {\n",
       "        vertical-align: top;\n",
       "    }\n",
       "\n",
       "    .dataframe thead th {\n",
       "        text-align: right;\n",
       "    }\n",
       "</style>\n",
       "<table border=\"1\" class=\"dataframe\">\n",
       "  <thead>\n",
       "    <tr style=\"text-align: right;\">\n",
       "      <th></th>\n",
       "      <th>axp</th>\n",
       "      <th>cat</th>\n",
       "      <th>sbux</th>\n",
       "    </tr>\n",
       "    <tr>\n",
       "      <th>date</th>\n",
       "      <th></th>\n",
       "      <th></th>\n",
       "      <th></th>\n",
       "    </tr>\n",
       "  </thead>\n",
       "  <tbody>\n",
       "    <tr>\n",
       "      <th>19990104</th>\n",
       "      <td>-0.009756</td>\n",
       "      <td>0.029891</td>\n",
       "      <td>-0.040089</td>\n",
       "    </tr>\n",
       "    <tr>\n",
       "      <th>19990105</th>\n",
       "      <td>-0.019089</td>\n",
       "      <td>-0.002639</td>\n",
       "      <td>-0.034803</td>\n",
       "    </tr>\n",
       "    <tr>\n",
       "      <th>19990106</th>\n",
       "      <td>0.043063</td>\n",
       "      <td>0.026455</td>\n",
       "      <td>-0.008413</td>\n",
       "    </tr>\n",
       "    <tr>\n",
       "      <th>19990107</th>\n",
       "      <td>0.012063</td>\n",
       "      <td>0.009021</td>\n",
       "      <td>0.003636</td>\n",
       "    </tr>\n",
       "    <tr>\n",
       "      <th>19990108</th>\n",
       "      <td>0.030393</td>\n",
       "      <td>0.042146</td>\n",
       "      <td>0.021739</td>\n",
       "    </tr>\n",
       "    <tr>\n",
       "      <th>...</th>\n",
       "      <td>...</td>\n",
       "      <td>...</td>\n",
       "      <td>...</td>\n",
       "    </tr>\n",
       "    <tr>\n",
       "      <th>20081224</th>\n",
       "      <td>0.000557</td>\n",
       "      <td>0.018964</td>\n",
       "      <td>0.016322</td>\n",
       "    </tr>\n",
       "    <tr>\n",
       "      <th>20081226</th>\n",
       "      <td>-0.003339</td>\n",
       "      <td>0.019327</td>\n",
       "      <td>0.001071</td>\n",
       "    </tr>\n",
       "    <tr>\n",
       "      <th>20081229</th>\n",
       "      <td>-0.011725</td>\n",
       "      <td>-0.008895</td>\n",
       "      <td>-0.034225</td>\n",
       "    </tr>\n",
       "    <tr>\n",
       "      <th>20081230</th>\n",
       "      <td>0.016949</td>\n",
       "      <td>0.031176</td>\n",
       "      <td>0.036545</td>\n",
       "    </tr>\n",
       "    <tr>\n",
       "      <th>20081231</th>\n",
       "      <td>0.030556</td>\n",
       "      <td>0.023133</td>\n",
       "      <td>0.010684</td>\n",
       "    </tr>\n",
       "  </tbody>\n",
       "</table>\n",
       "<p>2515 rows × 3 columns</p>\n",
       "</div>"
      ],
      "text/plain": [
       "               axp       cat      sbux\n",
       "date                                  \n",
       "19990104 -0.009756  0.029891 -0.040089\n",
       "19990105 -0.019089 -0.002639 -0.034803\n",
       "19990106  0.043063  0.026455 -0.008413\n",
       "19990107  0.012063  0.009021  0.003636\n",
       "19990108  0.030393  0.042146  0.021739\n",
       "...            ...       ...       ...\n",
       "20081224  0.000557  0.018964  0.016322\n",
       "20081226 -0.003339  0.019327  0.001071\n",
       "20081229 -0.011725 -0.008895 -0.034225\n",
       "20081230  0.016949  0.031176  0.036545\n",
       "20081231  0.030556  0.023133  0.010684\n",
       "\n",
       "[2515 rows x 3 columns]"
      ]
     },
     "execution_count": 16,
     "metadata": {},
     "output_type": "execute_result"
    }
   ],
   "source": [
    "import pandas as pd\n",
    "import numpy as np\n",
    "from scipy.stats import skewtest, kurtosistest\n",
    "\n",
    "# Load the data\n",
    "data= pd.read_csv('d-3stocks9908.txt', delim_whitespace=True, index_col = 0)\n",
    "data"
   ]
  },
  {
   "cell_type": "code",
   "execution_count": 18,
   "id": "d51b1da1-d58a-4922-b95a-33ec46e7ff94",
   "metadata": {},
   "outputs": [
    {
     "data": {
      "text/plain": [
       "SkewtestResult(statistic=array([-0.71082143]), pvalue=array([0.4771949]))"
      ]
     },
     "execution_count": 18,
     "metadata": {},
     "output_type": "execute_result"
    }
   ],
   "source": [
    "# Perform skewness test\n",
    "skewness_test_result = skewtest(data.loc[:,['axp']])\n",
    "skewness_test_result"
   ]
  },
  {
   "cell_type": "code",
   "execution_count": 20,
   "id": "4e8f8567-d4fa-467b-9ecb-6f46f617e6c1",
   "metadata": {},
   "outputs": [
    {
     "data": {
      "text/plain": [
       "KurtosistestResult(statistic=array([18.06725093]), pvalue=array([5.77189811e-73]))"
      ]
     },
     "execution_count": 20,
     "metadata": {},
     "output_type": "execute_result"
    }
   ],
   "source": [
    "# Perform excess kurtosis test (subtract 3 from kurtosis to get excess kurtosis)\n",
    "kurtosis_test_result = kurtosistest(data.loc[:,['axp']])\n",
    "kurtosis_test_result"
   ]
  },
  {
   "cell_type": "code",
   "execution_count": 21,
   "id": "f8735ceb-f733-4e2a-9983-e56802440be1",
   "metadata": {},
   "outputs": [
    {
     "name": "stdout",
     "output_type": "stream",
     "text": [
      "Skewness Test Statistic: [-0.71082143]\n",
      "Skewness Test P-value: [0.4771949]\n",
      "Excess Kurtosis Test Statistic: [18.06725093]\n",
      "Excess Kurtosis Test P-value: [5.77189811e-73]\n"
     ]
    }
   ],
   "source": [
    "print(\"Skewness Test Statistic:\", skewness_test_result.statistic)\n",
    "print(\"Skewness Test P-value:\", skewness_test_result.pvalue)\n",
    "print(\"Excess Kurtosis Test Statistic:\", kurtosis_test_result.statistic)\n",
    "print(\"Excess Kurtosis Test P-value:\", kurtosis_test_result.pvalue)"
   ]
  },
  {
   "cell_type": "markdown",
   "id": "0908d39b-9816-4f5f-9863-803b563d0eab",
   "metadata": {},
   "source": [
    "# American Express Stock Analysis\n",
    "\n",
    "## Skewness Test\n",
    "- **Test Statistic:** -0.71082143\n",
    "- **P-value:** 0.4771949\n",
    "\n",
    "Conclusion: Since the p-value is greater than 0.05 (5% significance level), we do not reject the null hypothesis. This implies that there is not enough evidence to suggest that the skewness of the returns is significantly different from zero.\n",
    "\n",
    "## Excess Kurtosis Test\n",
    "- **Test Statistic:** 18.06725093\n",
    "- **P-value:** 5.77189811e-73\n",
    "\n",
    "Conclusion: Since the p-value is significantly less than 0.05, we reject the null hypothesis. This indicates that the excess kurtosis of the returns is significantly different from zero, suggesting that the return distribution has heavier tails than a normal distribution.\n"
   ]
  }
 ],
 "metadata": {
  "kernelspec": {
   "display_name": "Python 3 (ipykernel)",
   "language": "python",
   "name": "python3"
  },
  "language_info": {
   "codemirror_mode": {
    "name": "ipython",
    "version": 3
   },
   "file_extension": ".py",
   "mimetype": "text/x-python",
   "name": "python",
   "nbconvert_exporter": "python",
   "pygments_lexer": "ipython3",
   "version": "3.11.4"
  }
 },
 "nbformat": 4,
 "nbformat_minor": 5
}
