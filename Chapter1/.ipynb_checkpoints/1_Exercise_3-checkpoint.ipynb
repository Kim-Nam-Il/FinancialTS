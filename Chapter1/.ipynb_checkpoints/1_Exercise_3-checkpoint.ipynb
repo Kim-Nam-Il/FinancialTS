{
 "cells": [
  {
   "cell_type": "markdown",
   "id": "ff78c907-a96f-43c8-ae20-3632c8162563",
   "metadata": {},
   "source": [
    "# Chapter 1 Exercise 3"
   ]
  },
  {
   "cell_type": "markdown",
   "id": "496a2b53-e438-41d9-97ec-6d89dc227eb3",
   "metadata": {},
   "source": [
    "file : [m-gm3dx7508.txt](https://faculty.chicagobooth.edu/-/media/faculty/ruey-s-tsay/teaching/fts3/m-gm3dx7508.txt)\n",
    "\n",
    "Page 24 Exercise 3"
   ]
  },
  {
   "cell_type": "markdown",
   "id": "d9e99a9f-6596-4786-a95e-aef2df17e5ca",
   "metadata": {},
   "source": [
    "## 1.2 Example"
   ]
  },
  {
   "cell_type": "markdown",
   "id": "d099d7dc-54df-42b4-90a3-438789340497",
   "metadata": {},
   "source": [
    "### Load data\n",
    "\n",
    "open the data file 'm-gm3dx7508.txt' as data"
   ]
  },
  {
   "cell_type": "code",
   "execution_count": 2,
   "id": "581eb9e0-97e9-4aa9-92e2-ebe8bbb6ce88",
   "metadata": {
    "tags": []
   },
   "outputs": [
    {
     "data": {
      "text/html": [
       "<div>\n",
       "<style scoped>\n",
       "    .dataframe tbody tr th:only-of-type {\n",
       "        vertical-align: middle;\n",
       "    }\n",
       "\n",
       "    .dataframe tbody tr th {\n",
       "        vertical-align: top;\n",
       "    }\n",
       "\n",
       "    .dataframe thead th {\n",
       "        text-align: right;\n",
       "    }\n",
       "</style>\n",
       "<table border=\"1\" class=\"dataframe\">\n",
       "  <thead>\n",
       "    <tr style=\"text-align: right;\">\n",
       "      <th></th>\n",
       "      <th>gm</th>\n",
       "      <th>vw</th>\n",
       "      <th>ew</th>\n",
       "      <th>sp</th>\n",
       "    </tr>\n",
       "    <tr>\n",
       "      <th>date</th>\n",
       "      <th></th>\n",
       "      <th></th>\n",
       "      <th></th>\n",
       "      <th></th>\n",
       "    </tr>\n",
       "  </thead>\n",
       "  <tbody>\n",
       "    <tr>\n",
       "      <th>19750131</th>\n",
       "      <td>0.252033</td>\n",
       "      <td>0.141600</td>\n",
       "      <td>0.299260</td>\n",
       "      <td>0.122812</td>\n",
       "    </tr>\n",
       "    <tr>\n",
       "      <th>19750228</th>\n",
       "      <td>0.028571</td>\n",
       "      <td>0.058411</td>\n",
       "      <td>0.053918</td>\n",
       "      <td>0.059886</td>\n",
       "    </tr>\n",
       "    <tr>\n",
       "      <th>19750331</th>\n",
       "      <td>0.054487</td>\n",
       "      <td>0.030191</td>\n",
       "      <td>0.081497</td>\n",
       "      <td>0.021694</td>\n",
       "    </tr>\n",
       "    <tr>\n",
       "      <th>19750430</th>\n",
       "      <td>0.045593</td>\n",
       "      <td>0.046497</td>\n",
       "      <td>0.031093</td>\n",
       "      <td>0.047265</td>\n",
       "    </tr>\n",
       "    <tr>\n",
       "      <th>19750530</th>\n",
       "      <td>0.037209</td>\n",
       "      <td>0.055140</td>\n",
       "      <td>0.072876</td>\n",
       "      <td>0.044101</td>\n",
       "    </tr>\n",
       "    <tr>\n",
       "      <th>...</th>\n",
       "      <td>...</td>\n",
       "      <td>...</td>\n",
       "      <td>...</td>\n",
       "      <td>...</td>\n",
       "    </tr>\n",
       "    <tr>\n",
       "      <th>20080829</th>\n",
       "      <td>-0.096658</td>\n",
       "      <td>0.011042</td>\n",
       "      <td>0.014066</td>\n",
       "      <td>0.012191</td>\n",
       "    </tr>\n",
       "    <tr>\n",
       "      <th>20080930</th>\n",
       "      <td>-0.055000</td>\n",
       "      <td>-0.098060</td>\n",
       "      <td>-0.120888</td>\n",
       "      <td>-0.090791</td>\n",
       "    </tr>\n",
       "    <tr>\n",
       "      <th>20081031</th>\n",
       "      <td>-0.387302</td>\n",
       "      <td>-0.184726</td>\n",
       "      <td>-0.206004</td>\n",
       "      <td>-0.169425</td>\n",
       "    </tr>\n",
       "    <tr>\n",
       "      <th>20081128</th>\n",
       "      <td>-0.094991</td>\n",
       "      <td>-0.085206</td>\n",
       "      <td>-0.136597</td>\n",
       "      <td>-0.074849</td>\n",
       "    </tr>\n",
       "    <tr>\n",
       "      <th>20081231</th>\n",
       "      <td>-0.389313</td>\n",
       "      <td>0.021482</td>\n",
       "      <td>0.043083</td>\n",
       "      <td>0.007822</td>\n",
       "    </tr>\n",
       "  </tbody>\n",
       "</table>\n",
       "<p>408 rows × 4 columns</p>\n",
       "</div>"
      ],
      "text/plain": [
       "                gm        vw        ew        sp\n",
       "date                                            \n",
       "19750131  0.252033  0.141600  0.299260  0.122812\n",
       "19750228  0.028571  0.058411  0.053918  0.059886\n",
       "19750331  0.054487  0.030191  0.081497  0.021694\n",
       "19750430  0.045593  0.046497  0.031093  0.047265\n",
       "19750530  0.037209  0.055140  0.072876  0.044101\n",
       "...            ...       ...       ...       ...\n",
       "20080829 -0.096658  0.011042  0.014066  0.012191\n",
       "20080930 -0.055000 -0.098060 -0.120888 -0.090791\n",
       "20081031 -0.387302 -0.184726 -0.206004 -0.169425\n",
       "20081128 -0.094991 -0.085206 -0.136597 -0.074849\n",
       "20081231 -0.389313  0.021482  0.043083  0.007822\n",
       "\n",
       "[408 rows x 4 columns]"
      ]
     },
     "execution_count": 2,
     "metadata": {},
     "output_type": "execute_result"
    }
   ],
   "source": [
    "import pandas as pd\n",
    "import numpy as np\n",
    "\n",
    "data = pd.read_csv('m-gm3dx7508.txt', delim_whitespace=True, index_col = 0)\n",
    "data"
   ]
  },
  {
   "cell_type": "markdown",
   "id": "14ef0a12-a8d8-46b2-ab1f-93b2dffd2940",
   "metadata": {},
   "source": [
    "### Extract the S&P composite index returns (It's in the 'sp' column)"
   ]
  },
  {
   "cell_type": "code",
   "execution_count": 4,
   "id": "17702a79-a6ef-4cde-89ac-09c02280ae63",
   "metadata": {
    "tags": []
   },
   "outputs": [
    {
     "data": {
      "text/html": [
       "<div>\n",
       "<style scoped>\n",
       "    .dataframe tbody tr th:only-of-type {\n",
       "        vertical-align: middle;\n",
       "    }\n",
       "\n",
       "    .dataframe tbody tr th {\n",
       "        vertical-align: top;\n",
       "    }\n",
       "\n",
       "    .dataframe thead th {\n",
       "        text-align: right;\n",
       "    }\n",
       "</style>\n",
       "<table border=\"1\" class=\"dataframe\">\n",
       "  <thead>\n",
       "    <tr style=\"text-align: right;\">\n",
       "      <th></th>\n",
       "      <th>sp</th>\n",
       "    </tr>\n",
       "    <tr>\n",
       "      <th>date</th>\n",
       "      <th></th>\n",
       "    </tr>\n",
       "  </thead>\n",
       "  <tbody>\n",
       "    <tr>\n",
       "      <th>19750131</th>\n",
       "      <td>0.122812</td>\n",
       "    </tr>\n",
       "    <tr>\n",
       "      <th>19750228</th>\n",
       "      <td>0.059886</td>\n",
       "    </tr>\n",
       "    <tr>\n",
       "      <th>19750331</th>\n",
       "      <td>0.021694</td>\n",
       "    </tr>\n",
       "    <tr>\n",
       "      <th>19750430</th>\n",
       "      <td>0.047265</td>\n",
       "    </tr>\n",
       "    <tr>\n",
       "      <th>19750530</th>\n",
       "      <td>0.044101</td>\n",
       "    </tr>\n",
       "    <tr>\n",
       "      <th>...</th>\n",
       "      <td>...</td>\n",
       "    </tr>\n",
       "    <tr>\n",
       "      <th>20080829</th>\n",
       "      <td>0.012191</td>\n",
       "    </tr>\n",
       "    <tr>\n",
       "      <th>20080930</th>\n",
       "      <td>-0.090791</td>\n",
       "    </tr>\n",
       "    <tr>\n",
       "      <th>20081031</th>\n",
       "      <td>-0.169425</td>\n",
       "    </tr>\n",
       "    <tr>\n",
       "      <th>20081128</th>\n",
       "      <td>-0.074849</td>\n",
       "    </tr>\n",
       "    <tr>\n",
       "      <th>20081231</th>\n",
       "      <td>0.007822</td>\n",
       "    </tr>\n",
       "  </tbody>\n",
       "</table>\n",
       "<p>408 rows × 1 columns</p>\n",
       "</div>"
      ],
      "text/plain": [
       "                sp\n",
       "date              \n",
       "19750131  0.122812\n",
       "19750228  0.059886\n",
       "19750331  0.021694\n",
       "19750430  0.047265\n",
       "19750530  0.044101\n",
       "...            ...\n",
       "20080829  0.012191\n",
       "20080930 -0.090791\n",
       "20081031 -0.169425\n",
       "20081128 -0.074849\n",
       "20081231  0.007822\n",
       "\n",
       "[408 rows x 1 columns]"
      ]
     },
     "execution_count": 4,
     "metadata": {},
     "output_type": "execute_result"
    }
   ],
   "source": [
    "sp_returns = data.loc[:,['sp']]\n",
    "sp_returns"
   ]
  },
  {
   "cell_type": "markdown",
   "id": "efeea37d-d18f-4954-9d3c-be37cae0e062",
   "metadata": {},
   "source": [
    "### (a) Calculate the average annual log return"
   ]
  },
  {
   "cell_type": "markdown",
   "id": "38311f84-863c-4b83-94eb-da250f2c990e",
   "metadata": {},
   "source": [
    "#### (a) - 1 Convert monthly returns to log returns"
   ]
  },
  {
   "cell_type": "code",
   "execution_count": 6,
   "id": "b351c769-2285-4be8-82a1-880a4e0bd70e",
   "metadata": {
    "tags": []
   },
   "outputs": [
    {
     "data": {
      "text/html": [
       "<div>\n",
       "<style scoped>\n",
       "    .dataframe tbody tr th:only-of-type {\n",
       "        vertical-align: middle;\n",
       "    }\n",
       "\n",
       "    .dataframe tbody tr th {\n",
       "        vertical-align: top;\n",
       "    }\n",
       "\n",
       "    .dataframe thead th {\n",
       "        text-align: right;\n",
       "    }\n",
       "</style>\n",
       "<table border=\"1\" class=\"dataframe\">\n",
       "  <thead>\n",
       "    <tr style=\"text-align: right;\">\n",
       "      <th></th>\n",
       "      <th>sp</th>\n",
       "    </tr>\n",
       "    <tr>\n",
       "      <th>date</th>\n",
       "      <th></th>\n",
       "    </tr>\n",
       "  </thead>\n",
       "  <tbody>\n",
       "    <tr>\n",
       "      <th>19750131</th>\n",
       "      <td>0.001227</td>\n",
       "    </tr>\n",
       "    <tr>\n",
       "      <th>19750228</th>\n",
       "      <td>0.000599</td>\n",
       "    </tr>\n",
       "    <tr>\n",
       "      <th>19750331</th>\n",
       "      <td>0.000217</td>\n",
       "    </tr>\n",
       "    <tr>\n",
       "      <th>19750430</th>\n",
       "      <td>0.000473</td>\n",
       "    </tr>\n",
       "    <tr>\n",
       "      <th>19750530</th>\n",
       "      <td>0.000441</td>\n",
       "    </tr>\n",
       "    <tr>\n",
       "      <th>...</th>\n",
       "      <td>...</td>\n",
       "    </tr>\n",
       "    <tr>\n",
       "      <th>20080829</th>\n",
       "      <td>0.000122</td>\n",
       "    </tr>\n",
       "    <tr>\n",
       "      <th>20080930</th>\n",
       "      <td>-0.000908</td>\n",
       "    </tr>\n",
       "    <tr>\n",
       "      <th>20081031</th>\n",
       "      <td>-0.001696</td>\n",
       "    </tr>\n",
       "    <tr>\n",
       "      <th>20081128</th>\n",
       "      <td>-0.000749</td>\n",
       "    </tr>\n",
       "    <tr>\n",
       "      <th>20081231</th>\n",
       "      <td>0.000078</td>\n",
       "    </tr>\n",
       "  </tbody>\n",
       "</table>\n",
       "<p>408 rows × 1 columns</p>\n",
       "</div>"
      ],
      "text/plain": [
       "                sp\n",
       "date              \n",
       "19750131  0.001227\n",
       "19750228  0.000599\n",
       "19750331  0.000217\n",
       "19750430  0.000473\n",
       "19750530  0.000441\n",
       "...            ...\n",
       "20080829  0.000122\n",
       "20080930 -0.000908\n",
       "20081031 -0.001696\n",
       "20081128 -0.000749\n",
       "20081231  0.000078\n",
       "\n",
       "[408 rows x 1 columns]"
      ]
     },
     "execution_count": 6,
     "metadata": {},
     "output_type": "execute_result"
    }
   ],
   "source": [
    "log_returns = np.log1p(sp_returns / 100)  # np.log1p is used for log(1 + x)\n",
    "log_returns"
   ]
  },
  {
   "cell_type": "markdown",
   "id": "ff2d25ce-5455-4963-b57d-583b26b9150f",
   "metadata": {},
   "source": [
    "#### (a) - 2 Calculate the average annual log return\n",
    "\n",
    "There are 12 months in a year, so multiply the mean of monthly log returns by 12"
   ]
  },
  {
   "cell_type": "code",
   "execution_count": 7,
   "id": "4d675163-5dd9-4d09-a2d9-ba9657b7c8fc",
   "metadata": {
    "tags": []
   },
   "outputs": [
    {
     "data": {
      "text/plain": [
       "sp    0.000875\n",
       "dtype: float64"
      ]
     },
     "execution_count": 7,
     "metadata": {},
     "output_type": "execute_result"
    }
   ],
   "source": [
    "average_annual_log_return = log_returns.mean() * 12\n",
    "average_annual_log_return"
   ]
  },
  {
   "cell_type": "markdown",
   "id": "7834c806-f690-4c74-ae52-75739781aa35",
   "metadata": {},
   "source": [
    "### (b) Calculate the value of the investment at the end of 2008\n",
    "\n",
    "Cumulative product of (1 + log return) gives the total growth factor"
   ]
  },
  {
   "cell_type": "code",
   "execution_count": 8,
   "id": "33dff308-f3cc-456c-b898-97a174d2fccb",
   "metadata": {
    "tags": []
   },
   "outputs": [
    {
     "data": {
      "text/plain": [
       "sp    1.030195\n",
       "Name: 20081231, dtype: float64"
      ]
     },
     "execution_count": 8,
     "metadata": {},
     "output_type": "execute_result"
    }
   ],
   "source": [
    "investment_value_end_2008 = np.exp(log_returns.cumsum()).iloc[-1]\n",
    "investment_value_end_2008"
   ]
  },
  {
   "cell_type": "markdown",
   "id": "a8f37801-b379-4a82-89bf-4848e22d0ce9",
   "metadata": {
    "tags": []
   },
   "source": [
    "### Wrap Up"
   ]
  },
  {
   "cell_type": "code",
   "execution_count": 12,
   "id": "dcb4a0fd-b771-4e02-8ee8-ff26f3ec6b06",
   "metadata": {
    "tags": []
   },
   "outputs": [
    {
     "name": "stdout",
     "output_type": "stream",
     "text": [
      "Average Annual Log Return: \n",
      " sp    0.000875\n",
      "dtype: float64\n",
      "Value of Investment at the End of 2008: \n",
      " sp    1.030195\n",
      "Name: 20081231, dtype: float64\n"
     ]
    }
   ],
   "source": [
    "print(\"Average Annual Log Return: \\n\", average_annual_log_return)\n",
    "print(\"Value of Investment at the End of 2008: \\n\", investment_value_end_2008)"
   ]
  },
  {
   "cell_type": "markdown",
   "id": "42259602-36e1-4f64-8471-82a73e5c4c1d",
   "metadata": {},
   "source": [
    "### Appendix 1 : Draw Cumulate Value of Investment"
   ]
  },
  {
   "cell_type": "code",
   "execution_count": 17,
   "id": "45e6d469-47a4-42ce-8559-ac6b80e2024b",
   "metadata": {
    "tags": []
   },
   "outputs": [
    {
     "data": {
      "text/plain": [
       "date\n",
       "19750131    1.001228\n",
       "19750228    1.001828\n",
       "19750331    1.002045\n",
       "19750430    1.002519\n",
       "19750530    1.002961\n",
       "              ...   \n",
       "20080829    1.033574\n",
       "20080930    1.032635\n",
       "20081031    1.030886\n",
       "20081128    1.030114\n",
       "20081231    1.030195\n",
       "Name: sp, Length: 408, dtype: float64"
      ]
     },
     "execution_count": 17,
     "metadata": {},
     "output_type": "execute_result"
    }
   ],
   "source": [
    "import numpy as np\n",
    "import matplotlib.pyplot as plt\n",
    "\n",
    "# Assuming the data is loaded into a DataFrame named 'data'\n",
    "# and the S&P composite index returns are in a column named 'sp'\n",
    "\n",
    "# Convert monthly returns to log returns\n",
    "sp_returns = data['sp']\n",
    "log_returns = np.log1p(sp_returns / 100)\n",
    "\n",
    "# Calculate the cumulative product of (1 + log return)\n",
    "# This gives the cumulative growth factor\n",
    "cumulative_investment_value = np.exp(log_returns.cumsum())\n",
    "cumulative_investment_value"
   ]
  },
  {
   "cell_type": "code",
   "execution_count": 14,
   "id": "bd297b71-14dd-490f-ac0f-a9a5ea4c2302",
   "metadata": {
    "tags": []
   },
   "outputs": [
    {
     "data": {
      "image/png": "[encoded data removed]",
      "text/plain": [
       "<Figure size 1200x600 with 1 Axes>"
      ]
     },
     "metadata": {},
     "output_type": "display_data"
    }
   ],
   "source": [
    "# Plotting\n",
    "plt.figure(figsize=(12, 6))\n",
    "cumulative_investment_value.plot()\n",
    "plt.title('Monthly Cumulated Value of $1 Investment in S&P Index')\n",
    "plt.xlabel('Date')\n",
    "plt.ylabel('Cumulative Investment Value')\n",
    "plt.grid(True)\n",
    "plt.show()"
   ]
  }
 ],
 "metadata": {
  "kernelspec": {
   "display_name": "Python 3 (ipykernel)",
   "language": "python",
   "name": "python3"
  },
  "language_info": {
   "codemirror_mode": {
    "name": "ipython",
    "version": 3
   },
   "file_extension": ".py",
   "mimetype": "text/x-python",
   "name": "python",
   "nbconvert_exporter": "python",
   "pygments_lexer": "ipython3",
   "version": "3.11.4"
  }
 },
 "nbformat": 4,
 "nbformat_minor": 5
}
