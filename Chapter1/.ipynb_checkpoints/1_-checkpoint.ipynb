{
 "cells": [
  {
   "cell_type": "markdown",
   "source": [
    "# Chapter 1"
   ],
   "metadata": {
    "collapsed": false
   },
   "id": "7aa279158e6ba67d"
  },
  {
   "cell_type": "markdown",
   "source": [
    "## 1. Basic Statistics"
   ],
   "metadata": {
    "collapsed": false
   },
   "id": "2787d0d9b1cec5c0"
  },
  {
   "cell_type": "code",
   "execution_count": 2,
   "outputs": [],
   "source": [
    "import pandas as pd\n",
    "data = pd.read_csv('./d-ibm3dx7008.txt', sep=r'\\s+', parse_dates=['Date'], index_col='Date')"
   ],
   "metadata": {
    "collapsed": true,
    "ExecuteTime": {
     "end_time": "2023-12-09T06:05:38.555808300Z",
     "start_time": "2023-12-09T06:05:38.482244800Z"
    }
   },
   "id": "initial_id"
  },
  {
   "cell_type": "code",
   "execution_count": 3,
   "outputs": [
    {
     "data": {
      "text/plain": "                 rtn    vwretd    ewretd    sprtrn\nDate                                              \n1970-01-02  0.000686  0.012137  0.033450  0.010211\n1970-01-05  0.009596  0.006375  0.018947  0.004946\n1970-01-06  0.000679 -0.007233 -0.005776 -0.006848\n1970-01-07  0.000678 -0.001272  0.003559 -0.002047\n1970-01-08  0.002034  0.000564  0.002890  0.000540\n...              ...       ...       ...       ...\n2008-12-24 -0.000993  0.004463  0.005254  0.005781\n2008-12-26  0.010060  0.007170  0.011629  0.005356\n2008-12-29 -0.000984 -0.004481 -0.016514 -0.003873\n2008-12-30  0.028308  0.024951  0.021692  0.024407\n2008-12-31  0.007301  0.017513  0.036731  0.014158\n\n[9845 rows x 4 columns]",
      "text/html": "<div>\n<style scoped>\n    .dataframe tbody tr th:only-of-type {\n        vertical-align: middle;\n    }\n\n    .dataframe tbody tr th {\n        vertical-align: top;\n    }\n\n    .dataframe thead th {\n        text-align: right;\n    }\n</style>\n<table border=\"1\" class=\"dataframe\">\n  <thead>\n    <tr style=\"text-align: right;\">\n      <th></th>\n      <th>rtn</th>\n      <th>vwretd</th>\n      <th>ewretd</th>\n      <th>sprtrn</th>\n    </tr>\n    <tr>\n      <th>Date</th>\n      <th></th>\n      <th></th>\n      <th></th>\n      <th></th>\n    </tr>\n  </thead>\n  <tbody>\n    <tr>\n      <th>1970-01-02</th>\n      <td>0.000686</td>\n      <td>0.012137</td>\n      <td>0.033450</td>\n      <td>0.010211</td>\n    </tr>\n    <tr>\n      <th>1970-01-05</th>\n      <td>0.009596</td>\n      <td>0.006375</td>\n      <td>0.018947</td>\n      <td>0.004946</td>\n    </tr>\n    <tr>\n      <th>1970-01-06</th>\n      <td>0.000679</td>\n      <td>-0.007233</td>\n      <td>-0.005776</td>\n      <td>-0.006848</td>\n    </tr>\n    <tr>\n      <th>1970-01-07</th>\n      <td>0.000678</td>\n      <td>-0.001272</td>\n      <td>0.003559</td>\n      <td>-0.002047</td>\n    </tr>\n    <tr>\n      <th>1970-01-08</th>\n      <td>0.002034</td>\n      <td>0.000564</td>\n      <td>0.002890</td>\n      <td>0.000540</td>\n    </tr>\n    <tr>\n      <th>...</th>\n      <td>...</td>\n      <td>...</td>\n      <td>...</td>\n      <td>...</td>\n    </tr>\n    <tr>\n      <th>2008-12-24</th>\n      <td>-0.000993</td>\n      <td>0.004463</td>\n      <td>0.005254</td>\n      <td>0.005781</td>\n    </tr>\n    <tr>\n      <th>2008-12-26</th>\n      <td>0.010060</td>\n      <td>0.007170</td>\n      <td>0.011629</td>\n      <td>0.005356</td>\n    </tr>\n    <tr>\n      <th>2008-12-29</th>\n      <td>-0.000984</td>\n      <td>-0.004481</td>\n      <td>-0.016514</td>\n      <td>-0.003873</td>\n    </tr>\n    <tr>\n      <th>2008-12-30</th>\n      <td>0.028308</td>\n      <td>0.024951</td>\n      <td>0.021692</td>\n      <td>0.024407</td>\n    </tr>\n    <tr>\n      <th>2008-12-31</th>\n      <td>0.007301</td>\n      <td>0.017513</td>\n      <td>0.036731</td>\n      <td>0.014158</td>\n    </tr>\n  </tbody>\n</table>\n<p>9845 rows × 4 columns</p>\n</div>"
     },
     "execution_count": 3,
     "metadata": {},
     "output_type": "execute_result"
    }
   ],
   "source": [
    "data"
   ],
   "metadata": {
    "collapsed": false,
    "ExecuteTime": {
     "end_time": "2023-12-09T06:05:46.193643300Z",
     "start_time": "2023-12-09T06:05:46.098509400Z"
    }
   },
   "id": "80610e2cb99b82e7"
  },
  {
   "cell_type": "markdown",
   "source": [
    "## Find size of the data: 9845 rows and 5 columns\n",
    "Count Rows and Columns"
   ],
   "metadata": {
    "collapsed": false
   },
   "id": "53c4843eca6721c3"
  },
  {
   "cell_type": "code",
   "execution_count": 22,
   "outputs": [
    {
     "name": "stdout",
     "output_type": "stream",
     "text": [
      "Rows : 9845\n",
      "Columns : 4\n"
     ]
    }
   ],
   "source": [
    "print(f'Rows : {len(data.index)}')\n",
    "print(f'Columns : {len(data.columns)}')"
   ],
   "metadata": {
    "collapsed": false,
    "ExecuteTime": {
     "end_time": "2023-12-09T07:31:16.443853600Z",
     "start_time": "2023-12-09T07:31:16.372899400Z"
    }
   },
   "id": "72d44f2251b6a6c4"
  },
  {
   "cell_type": "code",
   "execution_count": 23,
   "outputs": [
    {
     "data": {
      "text/plain": "               rtn       vwretd       ewretd       sprtrn\ncount  9845.000000  9845.000000  9845.000000  9845.000000\nmean      0.000402     0.000403     0.000756     0.000288\nstd       0.016925     0.010039     0.008136     0.010564\nmin      -0.229630    -0.171349    -0.103897    -0.204669\n25%      -0.008571    -0.004252    -0.002570    -0.004865\n50%       0.000000     0.000654     0.001356     0.000387\n75%       0.008833     0.005282     0.004678     0.005469\nmax       0.131636     0.115183     0.107384     0.115800",
      "text/html": "<div>\n<style scoped>\n    .dataframe tbody tr th:only-of-type {\n        vertical-align: middle;\n    }\n\n    .dataframe tbody tr th {\n        vertical-align: top;\n    }\n\n    .dataframe thead th {\n        text-align: right;\n    }\n</style>\n<table border=\"1\" class=\"dataframe\">\n  <thead>\n    <tr style=\"text-align: right;\">\n      <th></th>\n      <th>rtn</th>\n      <th>vwretd</th>\n      <th>ewretd</th>\n      <th>sprtrn</th>\n    </tr>\n  </thead>\n  <tbody>\n    <tr>\n      <th>count</th>\n      <td>9845.000000</td>\n      <td>9845.000000</td>\n      <td>9845.000000</td>\n      <td>9845.000000</td>\n    </tr>\n    <tr>\n      <th>mean</th>\n      <td>0.000402</td>\n      <td>0.000403</td>\n      <td>0.000756</td>\n      <td>0.000288</td>\n    </tr>\n    <tr>\n      <th>std</th>\n      <td>0.016925</td>\n      <td>0.010039</td>\n      <td>0.008136</td>\n      <td>0.010564</td>\n    </tr>\n    <tr>\n      <th>min</th>\n      <td>-0.229630</td>\n      <td>-0.171349</td>\n      <td>-0.103897</td>\n      <td>-0.204669</td>\n    </tr>\n    <tr>\n      <th>25%</th>\n      <td>-0.008571</td>\n      <td>-0.004252</td>\n      <td>-0.002570</td>\n      <td>-0.004865</td>\n    </tr>\n    <tr>\n      <th>50%</th>\n      <td>0.000000</td>\n      <td>0.000654</td>\n      <td>0.001356</td>\n      <td>0.000387</td>\n    </tr>\n    <tr>\n      <th>75%</th>\n      <td>0.008833</td>\n      <td>0.005282</td>\n      <td>0.004678</td>\n      <td>0.005469</td>\n    </tr>\n    <tr>\n      <th>max</th>\n      <td>0.131636</td>\n      <td>0.115183</td>\n      <td>0.107384</td>\n      <td>0.115800</td>\n    </tr>\n  </tbody>\n</table>\n</div>"
     },
     "execution_count": 23,
     "metadata": {},
     "output_type": "execute_result"
    }
   ],
   "source": [
    "data.describe()"
   ],
   "metadata": {
    "collapsed": false,
    "ExecuteTime": {
     "end_time": "2023-12-09T07:42:04.654929600Z",
     "start_time": "2023-12-09T07:42:04.553643100Z"
    }
   },
   "id": "5b0c85a8f7fb60a6"
  },
  {
   "cell_type": "markdown",
   "source": [
    "## Calculate Kurtosis and Skewness \n",
    "Using scipy.stats, calculate the kurtosis and skewness of the returns."
   ],
   "metadata": {
    "collapsed": false
   },
   "id": "a9ac26bafce6e7ba"
  },
  {
   "cell_type": "code",
   "execution_count": 6,
   "outputs": [
    {
     "name": "stdout",
     "output_type": "stream",
     "text": [
      "Kurtosis: 12.9190\n",
      "Skewness: 0.0614\n"
     ]
    }
   ],
   "source": [
    "from scipy.stats import kurtosis, skew\n",
    "kurt = kurtosis(data['rtn'], fisher=False)  # Fisher's definition is False to match R's definition\n",
    "skw = skew(data['rtn'])\n",
    "print(f'Kurtosis: {kurt:.4f}')\n",
    "print(f'Skewness: {skw:.4f}')"
   ],
   "metadata": {
    "collapsed": false,
    "ExecuteTime": {
     "end_time": "2023-12-09T06:22:57.877082400Z",
     "start_time": "2023-12-09T06:22:57.794869Z"
    }
   },
   "id": "b14b44a3e96f0201"
  },
  {
   "cell_type": "markdown",
   "source": [
    "## Conduct a T-test\n",
    "Test if the mean of log returns is significantly different from zero."
   ],
   "metadata": {
    "collapsed": false
   },
   "id": "3b8a426c5b9351be"
  },
  {
   "cell_type": "code",
   "execution_count": 8,
   "outputs": [
    {
     "name": "stdout",
     "output_type": "stream",
     "text": [
      "T-statistic: 1.5126\n",
      "P-value: 0.1304\n"
     ]
    }
   ],
   "source": [
    "from scipy.stats import ttest_1samp\n",
    "import numpy as np\n",
    "log_returns = np.log(data['rtn'] + 1)\n",
    "t_stat, p_value = ttest_1samp(log_returns, 0)\n",
    "print(f'T-statistic: {t_stat:.4f}')\n",
    "print(f'P-value: {p_value:.4f}')"
   ],
   "metadata": {
    "collapsed": false,
    "ExecuteTime": {
     "end_time": "2023-12-09T06:24:13.908910400Z",
     "start_time": "2023-12-09T06:24:13.853492500Z"
    }
   },
   "id": "156dc46402934528"
  },
  {
   "cell_type": "markdown",
   "source": [
    "##  Normality Test (Jarque-Bera)\n",
    "This test checks if the data is normally distributed."
   ],
   "metadata": {
    "collapsed": false
   },
   "id": "36809cab679c8e65"
  },
  {
   "cell_type": "code",
   "execution_count": 11,
   "outputs": [
    {
     "name": "stdout",
     "output_type": "stream",
     "text": [
      "Jarque-Bera statistic: 60921.9343\n"
     ]
    }
   ],
   "source": [
    "from scipy.stats import jarque_bera\n",
    "jb_stat, jb_p_value = jarque_bera(log_returns)\n",
    "print(f'Jarque-Bera statistic: {jb_stat:.4f}')"
   ],
   "metadata": {
    "collapsed": false,
    "ExecuteTime": {
     "end_time": "2023-12-09T06:28:03.904703100Z",
     "start_time": "2023-12-09T06:28:03.864421400Z"
    }
   },
   "id": "a1ec173f51663d04"
  },
  {
   "cell_type": "markdown",
   "source": [
    "This code assumes the dataset has a column named 'rtn' for the returns. You would need to adjust the column names and the file path according to your actual dataset. Once you have the dataset, you can run this code to perform the analysis as described in the book."
   ],
   "metadata": {
    "collapsed": false
   },
   "id": "33465e0fa428266"
  },
  {
   "cell_type": "markdown",
   "source": [
    "## Draw a Histogram"
   ],
   "metadata": {
    "collapsed": false
   },
   "id": "c4babbf38a2c2741"
  },
  {
   "cell_type": "code",
   "execution_count": 14,
   "outputs": [
    {
     "data": {
      "text/plain": "<seaborn.axisgrid.FacetGrid at 0x16d745d30e0>"
     },
     "execution_count": 14,
     "metadata": {},
     "output_type": "execute_result"
    },
    {
     "data": {
      "text/plain": "<Figure size 500x500 with 1 Axes>",
      "image/png": "[encoded data removed]"
     },
     "metadata": {},
     "output_type": "display_data"
    }
   ],
   "source": [
    "import seaborn as sns; sns.set()\n",
    "sns.displot(data['rtn'], bins=100, kde=False, rug=True)"
   ],
   "metadata": {
    "collapsed": false,
    "ExecuteTime": {
     "end_time": "2023-12-09T06:45:56.386670400Z",
     "start_time": "2023-12-09T06:45:54.658339700Z"
    }
   },
   "id": "9562bcca6d05a265"
  },
  {
   "cell_type": "code",
   "execution_count": null,
   "outputs": [],
   "source": [],
   "metadata": {
    "collapsed": false
   },
   "id": "fab7b55d2d07372e"
  }
 ],
 "metadata": {
  "kernelspec": {
   "display_name": "Python 3",
   "language": "python",
   "name": "python3"
  },
  "language_info": {
   "codemirror_mode": {
    "name": "ipython",
    "version": 2
   },
   "file_extension": ".py",
   "mimetype": "text/x-python",
   "name": "python",
   "nbconvert_exporter": "python",
   "pygments_lexer": "ipython2",
   "version": "2.7.6"
  }
 },
 "nbformat": 4,
 "nbformat_minor": 5
}
