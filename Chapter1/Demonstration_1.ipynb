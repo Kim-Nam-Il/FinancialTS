{
 "cells": [
  {
   "cell_type": "markdown",
   "id": "7aa279158e6ba67d",
   "metadata": {},
   "source": [
    "# Chapter 1"
   ]
  },
  {
   "cell_type": "markdown",
   "id": "c96e5068-63e2-42e3-9e2e-6e7bfb62ac23",
   "metadata": {},
   "source": [
    "file : [d-ibm3dx7008.txt](https://faculty.chicagobooth.edu/-/media/faculty/ruey-s-tsay/teaching/fts3/d-ibm3dx7008.txt)\n",
    "\n",
    "Page 12 Demonstration"
   ]
  },
  {
   "cell_type": "markdown",
   "id": "2787d0d9b1cec5c0",
   "metadata": {},
   "source": [
    "## 1. Basic Statistics"
   ]
  },
  {
   "cell_type": "code",
   "execution_count": 1,
   "id": "initial_id",
   "metadata": {
    "ExecuteTime": {
     "end_time": "2023-12-09T06:05:38.555808300Z",
     "start_time": "2023-12-09T06:05:38.482244800Z"
    },
    "tags": []
   },
   "outputs": [],
   "source": [
    "import pandas as pd\n",
    "data = pd.read_csv('./data/d-ibm3dx7008.txt', sep=r'\\s+', parse_dates=['Date'], index_col='Date')"
   ]
  },
  {
   "cell_type": "code",
   "execution_count": 2,
   "id": "80610e2cb99b82e7",
   "metadata": {
    "ExecuteTime": {
     "end_time": "2023-12-09T06:05:46.193643300Z",
     "start_time": "2023-12-09T06:05:46.098509400Z"
    },
    "collapsed": false,
    "jupyter": {
     "outputs_hidden": false
    },
    "tags": []
   },
   "outputs": [
    {
     "data": {
      "text/html": [
       "<div>\n",
       "<style scoped>\n",
       "    .dataframe tbody tr th:only-of-type {\n",
       "        vertical-align: middle;\n",
       "    }\n",
       "\n",
       "    .dataframe tbody tr th {\n",
       "        vertical-align: top;\n",
       "    }\n",
       "\n",
       "    .dataframe thead th {\n",
       "        text-align: right;\n",
       "    }\n",
       "</style>\n",
       "<table border=\"1\" class=\"dataframe\">\n",
       "  <thead>\n",
       "    <tr style=\"text-align: right;\">\n",
       "      <th></th>\n",
       "      <th>rtn</th>\n",
       "      <th>vwretd</th>\n",
       "      <th>ewretd</th>\n",
       "      <th>sprtrn</th>\n",
       "    </tr>\n",
       "    <tr>\n",
       "      <th>Date</th>\n",
       "      <th></th>\n",
       "      <th></th>\n",
       "      <th></th>\n",
       "      <th></th>\n",
       "    </tr>\n",
       "  </thead>\n",
       "  <tbody>\n",
       "    <tr>\n",
       "      <th>1970-01-02</th>\n",
       "      <td>0.000686</td>\n",
       "      <td>0.012137</td>\n",
       "      <td>0.033450</td>\n",
       "      <td>0.010211</td>\n",
       "    </tr>\n",
       "    <tr>\n",
       "      <th>1970-01-05</th>\n",
       "      <td>0.009596</td>\n",
       "      <td>0.006375</td>\n",
       "      <td>0.018947</td>\n",
       "      <td>0.004946</td>\n",
       "    </tr>\n",
       "    <tr>\n",
       "      <th>1970-01-06</th>\n",
       "      <td>0.000679</td>\n",
       "      <td>-0.007233</td>\n",
       "      <td>-0.005776</td>\n",
       "      <td>-0.006848</td>\n",
       "    </tr>\n",
       "    <tr>\n",
       "      <th>1970-01-07</th>\n",
       "      <td>0.000678</td>\n",
       "      <td>-0.001272</td>\n",
       "      <td>0.003559</td>\n",
       "      <td>-0.002047</td>\n",
       "    </tr>\n",
       "    <tr>\n",
       "      <th>1970-01-08</th>\n",
       "      <td>0.002034</td>\n",
       "      <td>0.000564</td>\n",
       "      <td>0.002890</td>\n",
       "      <td>0.000540</td>\n",
       "    </tr>\n",
       "    <tr>\n",
       "      <th>...</th>\n",
       "      <td>...</td>\n",
       "      <td>...</td>\n",
       "      <td>...</td>\n",
       "      <td>...</td>\n",
       "    </tr>\n",
       "    <tr>\n",
       "      <th>2008-12-24</th>\n",
       "      <td>-0.000993</td>\n",
       "      <td>0.004463</td>\n",
       "      <td>0.005254</td>\n",
       "      <td>0.005781</td>\n",
       "    </tr>\n",
       "    <tr>\n",
       "      <th>2008-12-26</th>\n",
       "      <td>0.010060</td>\n",
       "      <td>0.007170</td>\n",
       "      <td>0.011629</td>\n",
       "      <td>0.005356</td>\n",
       "    </tr>\n",
       "    <tr>\n",
       "      <th>2008-12-29</th>\n",
       "      <td>-0.000984</td>\n",
       "      <td>-0.004481</td>\n",
       "      <td>-0.016514</td>\n",
       "      <td>-0.003873</td>\n",
       "    </tr>\n",
       "    <tr>\n",
       "      <th>2008-12-30</th>\n",
       "      <td>0.028308</td>\n",
       "      <td>0.024951</td>\n",
       "      <td>0.021692</td>\n",
       "      <td>0.024407</td>\n",
       "    </tr>\n",
       "    <tr>\n",
       "      <th>2008-12-31</th>\n",
       "      <td>0.007301</td>\n",
       "      <td>0.017513</td>\n",
       "      <td>0.036731</td>\n",
       "      <td>0.014158</td>\n",
       "    </tr>\n",
       "  </tbody>\n",
       "</table>\n",
       "<p>9845 rows × 4 columns</p>\n",
       "</div>"
      ],
      "text/plain": [
       "                 rtn    vwretd    ewretd    sprtrn\n",
       "Date                                              \n",
       "1970-01-02  0.000686  0.012137  0.033450  0.010211\n",
       "1970-01-05  0.009596  0.006375  0.018947  0.004946\n",
       "1970-01-06  0.000679 -0.007233 -0.005776 -0.006848\n",
       "1970-01-07  0.000678 -0.001272  0.003559 -0.002047\n",
       "1970-01-08  0.002034  0.000564  0.002890  0.000540\n",
       "...              ...       ...       ...       ...\n",
       "2008-12-24 -0.000993  0.004463  0.005254  0.005781\n",
       "2008-12-26  0.010060  0.007170  0.011629  0.005356\n",
       "2008-12-29 -0.000984 -0.004481 -0.016514 -0.003873\n",
       "2008-12-30  0.028308  0.024951  0.021692  0.024407\n",
       "2008-12-31  0.007301  0.017513  0.036731  0.014158\n",
       "\n",
       "[9845 rows x 4 columns]"
      ]
     },
     "execution_count": 2,
     "metadata": {},
     "output_type": "execute_result"
    }
   ],
   "source": [
    "data"
   ]
  },
  {
   "cell_type": "markdown",
   "id": "97d650dd-5eb5-4623-8d2e-419ca5b3fe95",
   "metadata": {
    "tags": []
   },
   "source": [
    "## 1.1 Set data series and percentage simple retuns series"
   ]
  },
  {
   "cell_type": "code",
   "execution_count": 3,
   "id": "ab8d3995-1eda-4aa1-8207-7dd192892645",
   "metadata": {
    "tags": []
   },
   "outputs": [],
   "source": [
    "ibm = data['rtn']\n",
    "sibm = ibm * 100"
   ]
  },
  {
   "cell_type": "code",
   "execution_count": 4,
   "id": "5b0c85a8f7fb60a6",
   "metadata": {
    "ExecuteTime": {
     "end_time": "2023-12-09T07:42:04.654929600Z",
     "start_time": "2023-12-09T07:42:04.553643100Z"
    },
    "collapsed": false,
    "jupyter": {
     "outputs_hidden": false
    },
    "tags": []
   },
   "outputs": [
    {
     "data": {
      "text/plain": [
       "count    9845.000000\n",
       "mean        0.040161\n",
       "std         1.692544\n",
       "min       -22.963000\n",
       "25%        -0.857100\n",
       "50%         0.000000\n",
       "75%         0.883300\n",
       "max        13.163600\n",
       "Name: rtn, dtype: float64"
      ]
     },
     "execution_count": 4,
     "metadata": {},
     "output_type": "execute_result"
    }
   ],
   "source": [
    "sibm.describe()"
   ]
  },
  {
   "cell_type": "markdown",
   "id": "53c4843eca6721c3",
   "metadata": {},
   "source": [
    "## 1.2. Find size of the data: 9845 rows and 5 columns\n",
    "Count Rows and Columns"
   ]
  },
  {
   "cell_type": "code",
   "execution_count": 5,
   "id": "72d44f2251b6a6c4",
   "metadata": {
    "ExecuteTime": {
     "end_time": "2023-12-09T07:31:16.443853600Z",
     "start_time": "2023-12-09T07:31:16.372899400Z"
    },
    "collapsed": false,
    "jupyter": {
     "outputs_hidden": false
    },
    "tags": []
   },
   "outputs": [
    {
     "name": "stdout",
     "output_type": "stream",
     "text": [
      "Rows : 9845\n",
      "Columns : 4\n"
     ]
    }
   ],
   "source": [
    "print(f'Rows : {len(data.index)}')\n",
    "print(f'Columns : {len(data.columns)}')"
   ]
  },
  {
   "cell_type": "code",
   "execution_count": 6,
   "id": "eaa3eb15-4c08-4a0c-a4b5-d668eeb5402e",
   "metadata": {
    "tags": []
   },
   "outputs": [
    {
     "name": "stdout",
     "output_type": "stream",
     "text": [
      "Kurtosis: 9.918984\n",
      "Skewness: 0.061408\n"
     ]
    }
   ],
   "source": [
    "from scipy.stats import kurtosis, skew\n",
    "kurt = kurtosis(sibm, fisher=True)\n",
    "skw = skew(sibm)\n",
    "print(f'Kurtosis: {kurt:.6f}')\n",
    "print(f'Skewness: {skw:.6f}')"
   ]
  },
  {
   "cell_type": "markdown",
   "id": "a9ac26bafce6e7ba",
   "metadata": {},
   "source": [
    "## 1.3. Simple tests"
   ]
  },
  {
   "cell_type": "code",
   "execution_count": 7,
   "id": "b14b44a3e96f0201",
   "metadata": {
    "ExecuteTime": {
     "end_time": "2023-12-09T06:22:57.877082400Z",
     "start_time": "2023-12-09T06:22:57.794869Z"
    },
    "collapsed": false,
    "jupyter": {
     "outputs_hidden": false
    },
    "tags": []
   },
   "outputs": [
    {
     "name": "stdout",
     "output_type": "stream",
     "text": [
      "test stats: 2.487472\n"
     ]
    }
   ],
   "source": [
    "import math\n",
    "s1 = skw\n",
    "t1 = s1/math.sqrt(6/9845)\n",
    "print(f'test stats: {t1:.6f}')"
   ]
  },
  {
   "cell_type": "code",
   "execution_count": 8,
   "id": "4316d4a7-2cdb-4bfa-969d-8e68e0f10353",
   "metadata": {
    "tags": []
   },
   "outputs": [
    {
     "name": "stdout",
     "output_type": "stream",
     "text": [
      "p-value: 0.012865\n"
     ]
    }
   ],
   "source": [
    "from scipy.stats import norm\n",
    "\n",
    "# Compute p-value\n",
    "p_value = 2 * (1 - norm.cdf(abs(t1)))\n",
    "print(f'p-value: {p_value:.6f}')"
   ]
  },
  {
   "cell_type": "markdown",
   "id": "59ec2bbf-9b76-495f-9277-e5b9c626a1c0",
   "metadata": {},
   "source": [
    "## Turn to log returns in percentages\n",
    "\n",
    "To transform a Python Pandas Series into its logarithmic values, you can use the numpy library, which provides a function np.log() for this purpose. \n",
    "\n",
    "This function is applied element-wise to each value in the Series."
   ]
  },
  {
   "cell_type": "code",
   "execution_count": 9,
   "id": "1cd49217-4932-47a4-b30d-312f7e699c92",
   "metadata": {
    "tags": []
   },
   "outputs": [
    {
     "name": "stdout",
     "output_type": "stream",
     "text": [
      "T-stat: 1.512621\n",
      "P-value: 0.130408\n"
     ]
    }
   ],
   "source": [
    "import pandas as pd\n",
    "import numpy as np\n",
    "from scipy.stats import ttest_1samp\n",
    "\n",
    "# Transform the series into its logarithmic values\n",
    "libm = (np.log(ibm+1))* 100\n",
    "\n",
    "# Test mean being zero.\n",
    "t_stat, p_value = ttest_1samp(libm,0)\n",
    "print(f'T-stat: {t_stat:.6f}')\n",
    "print(f'P-value: {p_value:.6f}')"
   ]
  },
  {
   "cell_type": "markdown",
   "id": "6ace99b6-4325-4f66-9402-2ee734c08675",
   "metadata": {},
   "source": [
    "The result show that the hypothesis of zero expected return cannot be rejected at the 5% or 10% level."
   ]
  },
  {
   "cell_type": "markdown",
   "id": "3b8a426c5b9351be",
   "metadata": {},
   "source": [
    "## Conduct a T-test\n",
    "Test if the mean of log returns is significantly different from zero."
   ]
  },
  {
   "cell_type": "code",
   "execution_count": 10,
   "id": "156dc46402934528",
   "metadata": {
    "ExecuteTime": {
     "end_time": "2023-12-09T06:24:13.908910400Z",
     "start_time": "2023-12-09T06:24:13.853492500Z"
    },
    "collapsed": false,
    "jupyter": {
     "outputs_hidden": false
    },
    "tags": []
   },
   "outputs": [
    {
     "name": "stdout",
     "output_type": "stream",
     "text": [
      "P-value: 0.0129\n"
     ]
    }
   ],
   "source": [
    "from scipy.stats import skew, ttest_1samp, norm\n",
    "import math\n",
    "s1 = skew(data['rtn'])\n",
    "t1 = s1/math.sqrt(6/9845)\n",
    "p_value = 2 * (1 - norm.cdf(abs(t1)))\n",
    "# print(f'T-statistic: {t_stat:.4f}')\n",
    "print(f'P-value: {p_value:.4f}')"
   ]
  },
  {
   "cell_type": "markdown",
   "id": "36809cab679c8e65",
   "metadata": {},
   "source": [
    "##  Normality Test (Jarque-Bera)\n",
    "This test checks if the data is normally distributed."
   ]
  },
  {
   "cell_type": "code",
   "execution_count": 14,
   "id": "a1ec173f51663d04",
   "metadata": {
    "ExecuteTime": {
     "end_time": "2023-12-09T06:28:03.904703100Z",
     "start_time": "2023-12-09T06:28:03.864421400Z"
    },
    "collapsed": false,
    "jupyter": {
     "outputs_hidden": false
    },
    "tags": []
   },
   "outputs": [
    {
     "name": "stdout",
     "output_type": "stream",
     "text": [
      "Jarque-Bera statistic: 60921.9343\n"
     ]
    }
   ],
   "source": [
    "from scipy.stats import jarque_bera\n",
    "jb_stat, jb_p_value = jarque_bera(libm)\n",
    "print(f'Jarque-Bera statistic: {jb_stat:.4f}')"
   ]
  },
  {
   "cell_type": "markdown",
   "id": "33465e0fa428266",
   "metadata": {},
   "source": [
    "This code assumes the dataset has a column named 'rtn' for the returns. You would need to adjust the column names and the file path according to your actual dataset. Once you have the dataset, you can run this code to perform the analysis as described in the book."
   ]
  },
  {
   "cell_type": "markdown",
   "id": "c4babbf38a2c2741",
   "metadata": {},
   "source": [
    "## Draw a Histogram"
   ]
  },
  {
   "cell_type": "code",
   "execution_count": 15,
   "id": "9562bcca6d05a265",
   "metadata": {
    "ExecuteTime": {
     "end_time": "2023-12-09T06:45:56.386670400Z",
     "start_time": "2023-12-09T06:45:54.658339700Z"
    },
    "collapsed": false,
    "jupyter": {
     "outputs_hidden": false
    },
    "tags": []
   },
   "outputs": [
    {
     "data": {
      "text/plain": [
       "<seaborn.axisgrid.FacetGrid at 0x15b148590>"
      ]
     },
     "execution_count": 15,
     "metadata": {},
     "output_type": "execute_result"
    },
    {
     "data": {
      "image/png": "[encoded data removed]",
      "text/plain": [
       "<Figure size 500x500 with 1 Axes>"
      ]
     },
     "metadata": {},
     "output_type": "display_data"
    }
   ],
   "source": [
    "import seaborn as sns; sns.set()\n",
    "sns.displot(data['rtn'], bins=100, kde=False, rug=True)"
   ]
  }
 ],
 "metadata": {
  "kernelspec": {
   "display_name": "Python 3 (ipykernel)",
   "language": "python",
   "name": "python3"
  },
  "language_info": {
   "codemirror_mode": {
    "name": "ipython",
    "version": 3
   },
   "file_extension": ".py",
   "mimetype": "text/x-python",
   "name": "python",
   "nbconvert_exporter": "python",
   "pygments_lexer": "ipython3",
   "version": "3.11.4"
  }
 },
 "nbformat": 4,
 "nbformat_minor": 5
}
